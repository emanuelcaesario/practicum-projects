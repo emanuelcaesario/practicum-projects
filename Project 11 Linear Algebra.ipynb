{
 "cells": [
  {
   "cell_type": "markdown",
   "metadata": {},
   "source": [
    "# Machine Learning Solutions for Insurance: Client Profiling, Claim Prediction,  and Data Privacy Protection"
   ]
  },
  {
   "cell_type": "markdown",
   "metadata": {
    "toc": true
   },
   "source": [
    "<h1>Table of Contents<span class=\"tocSkip\"></span></h1>\n",
    "<div class=\"toc\"><ul class=\"toc-item\"><li><span><a href=\"#1-Project-Overview\" data-toc-modified-id=\"1-Project-Overview-1\">1 Project Overview</a></span><ul class=\"toc-item\"><li><span><a href=\"#1.1-Project-Instructions\" data-toc-modified-id=\"1.1-Project-Instructions-1.1\">1.1 Project Instructions</a></span></li><li><span><a href=\"#1.2-Data-Description\" data-toc-modified-id=\"1.2-Data-Description-1.2\">1.2 Data Description</a></span></li><li><span><a href=\"#1.3-Stages\" data-toc-modified-id=\"1.3-Stages-1.3\">1.3 Stages</a></span></li></ul></li><li><span><a href=\"#2-Open-and-Read-the-Data\" data-toc-modified-id=\"2-Open-and-Read-the-Data-2\">2 Open and Read the Data</a></span><ul class=\"toc-item\"><li><span><a href=\"#2.1-Import-All-Libraries\" data-toc-modified-id=\"2.1-Import-All-Libraries-2.1\">2.1 Import All Libraries</a></span></li><li><span><a href=\"#2.2-Load-the-Data\" data-toc-modified-id=\"2.2-Load-the-Data-2.2\">2.2 Load the Data</a></span></li></ul></li><li><span><a href=\"#3-Exploratory-Data-Analysis\" data-toc-modified-id=\"3-Exploratory-Data-Analysis-3\">3 Exploratory Data Analysis</a></span><ul class=\"toc-item\"><li><span><a href=\"#3.1-Task-1:-Similar-Clients\" data-toc-modified-id=\"3.1-Task-1:-Similar-Clients-3.1\">3.1 Task 1: Similar Clients</a></span><ul class=\"toc-item\"><li><span><a href=\"#3.1.1-Euclidean-Metric\" data-toc-modified-id=\"3.1.1-Euclidean-Metric-3.1.1\">3.1.1 Euclidean Metric</a></span></li><li><span><a href=\"#3.1.2-Manhattan-Metric\" data-toc-modified-id=\"3.1.2-Manhattan-Metric-3.1.2\">3.1.2 Manhattan Metric</a></span></li><li><span><a href=\"#3.2.3-Answer-the-Questions\" data-toc-modified-id=\"3.2.3-Answer-the-Questions-3.1.3\">3.2.3 Answer the Questions</a></span></li></ul></li><li><span><a href=\"#3.2-Task-2:-Predicting-the-Probability-of-Insurance-Claim-for-Clients\" data-toc-modified-id=\"3.2-Task-2:-Predicting-the-Probability-of-Insurance-Claim-for-Clients-3.2\">3.2 Task 2: Predicting the Probability of Insurance Claim for Clients</a></span><ul class=\"toc-item\"><li><span><a href=\"#3.2.1-Preparing-Target-Column\" data-toc-modified-id=\"3.2.1-Preparing-Target-Column-3.2.1\">3.2.1 Preparing Target Column</a></span></li><li><span><a href=\"#3.2.2-Checking-the-Balance-of-the-Target-Class\" data-toc-modified-id=\"3.2.2-Checking-the-Balance-of-the-Target-Class-3.2.2\">3.2.2 Checking the Balance of the Target Class</a></span></li><li><span><a href=\"#3.2.3-Preparing-Functions-for-KNN-Based-Classification\" data-toc-modified-id=\"3.2.3-Preparing-Functions-for-KNN-Based-Classification-3.2.3\">3.2.3 Preparing Functions for KNN-Based Classification</a></span></li><li><span><a href=\"#3.2.4-Check-Score-on-Random-Dummy-Model\" data-toc-modified-id=\"3.2.4-Check-Score-on-Random-Dummy-Model-3.2.4\">3.2.4 Check Score on Random Dummy Model</a></span></li><li><span><a href=\"#3.2.5-Divide-the-Train-and-Test-Datasets-with-the-Proportion-of-70:30\" data-toc-modified-id=\"3.2.5-Divide-the-Train-and-Test-Datasets-with-the-Proportion-of-70:30-3.2.5\">3.2.5 Divide the Train and Test Datasets with the Proportion of 70:30</a></span></li><li><span><a href=\"#3.2.6-Creating-Model-for-Unscalable-Dataset\" data-toc-modified-id=\"3.2.6-Creating-Model-for-Unscalable-Dataset-3.2.6\">3.2.6 Creating Model for Unscalable Dataset</a></span></li><li><span><a href=\"#3.2.7-Performs-Model-Tests-on-Scalable-Data\" data-toc-modified-id=\"3.2.7-Performs-Model-Tests-on-Scalable-Data-3.2.7\">3.2.7 Performs Model Tests on Scalable Data</a></span></li><li><span><a href=\"#3.2.8-Conclusion\" data-toc-modified-id=\"3.2.8-Conclusion-3.2.8\">3.2.8 Conclusion</a></span></li></ul></li><li><span><a href=\"#3.3-Task-3:-Regression-(using-Linear-Regression)\" data-toc-modified-id=\"3.3-Task-3:-Regression-(using-Linear-Regression)-3.3\">3.3 Task 3: Regression (using Linear Regression)</a></span><ul class=\"toc-item\"><li><span><a href=\"#3.3.1-RMSE-Evaluation-for-Unscaled-Data\" data-toc-modified-id=\"3.3.1-RMSE-Evaluation-for-Unscaled-Data-3.3.1\">3.3.1 RMSE Evaluation for Unscaled Data</a></span></li><li><span><a href=\"#3.3.2-RMSE-Evaluation-for-Scaled-Data\" data-toc-modified-id=\"3.3.2-RMSE-Evaluation-for-Scaled-Data-3.3.2\">3.3.2 RMSE Evaluation for Scaled Data</a></span></li><li><span><a href=\"#3.3.3-Conclusion\" data-toc-modified-id=\"3.3.3-Conclusion-3.3.3\">3.3.3 Conclusion</a></span></li></ul></li><li><span><a href=\"#3.4-Task-4:-Data-Obfuscation\" data-toc-modified-id=\"3.4-Task-4:-Data-Obfuscation-3.4\">3.4 Task 4: Data Obfuscation</a></span></li></ul></li><li><span><a href=\"#4-Prove-That-Data-Obfuscation-Works-with-Linear-Regression\" data-toc-modified-id=\"4-Prove-That-Data-Obfuscation-Works-with-Linear-Regression-4\">4 Prove That Data Obfuscation Works with Linear Regression</a></span></li><li><span><a href=\"#5-Test-Linear-Regression-with-Data-Obfuscation\" data-toc-modified-id=\"5-Test-Linear-Regression-with-Data-Obfuscation-5\">5 Test Linear Regression with Data Obfuscation</a></span></li><li><span><a href=\"#6-Conclusion\" data-toc-modified-id=\"6-Conclusion-6\">6 Conclusion</a></span></li><li><span><a href=\"#7-Checklist\" data-toc-modified-id=\"7-Checklist-7\">7 Checklist</a></span></li><li><span><a href=\"#8-Appendix\" data-toc-modified-id=\"8-Appendix-8\">8 Appendix</a></span><ul class=\"toc-item\"><li><span><a href=\"#8.1-Appendix-A:-Writing-Formulas-in-Jupyter-Notebooks\" data-toc-modified-id=\"8.1-Appendix-A:-Writing-Formulas-in-Jupyter-Notebooks-8.1\">8.1 Appendix A: Writing Formulas in Jupyter Notebooks</a></span></li><li><span><a href=\"#8.2-Appendix-B:-Matrix-Properties\" data-toc-modified-id=\"8.2-Appendix-B:-Matrix-Properties-8.2\">8.2 Appendix B: Matrix Properties</a></span></li></ul></li></ul></div>"
   ]
  },
  {
   "cell_type": "markdown",
   "metadata": {},
   "source": [
    "## 1 Project Overview"
   ]
  },
  {
   "cell_type": "markdown",
   "metadata": {},
   "source": [
    "This project showcases the practical applications of linear algebra, combining its mathematical beauty with real-world tasks. The main objective is to demonstrate the accuracy of our algorithm rather than selecting the best model. The project template includes initial code and task descriptions, which will not be removed, along with two appendices providing useful information."
   ]
  },
  {
   "cell_type": "markdown",
   "metadata": {},
   "source": [
    "### 1.1 Project Instructions"
   ]
  },
  {
   "cell_type": "markdown",
   "metadata": {},
   "source": [
    "An insurance company, \"Sure Tomorrow,\" seeks machine learning solutions for various tasks:\n",
    "\n",
    "- Task 1: Client profiling - Find clients similar to specific criteria for effective marketing.\n",
    "- Task 2: Claim prediction - Determine if new clients are likely to make insurance claims and compare model predictions with a dummy model.\n",
    "- Task 3: Regression - Predict the amount of insurance claims new clients may receive using linear regression.\n",
    "- Task 4: Data Privacy Protection - Develop data transformation algorithms to obfuscate or hide the client's private information while maintaining the accuracy and quality of the machine learning model. The goal is to prevent misuse or unauthorized access to clients' personal data, ensuring data privacy is maintained without compromising the performance of the machine learning model."
   ]
  },
  {
   "cell_type": "markdown",
   "metadata": {
    "lang": "en"
   },
   "source": [
    "### 1.2 Data Description"
   ]
  },
  {
   "cell_type": "markdown",
   "metadata": {
    "lang": "en"
   },
   "source": [
    "The dataset is available in the `insurance_us.csv` file. Here are the description of the data:\n",
    "\n",
    "- Features:\n",
    "  - Gender: The gender of the insured (e.g., male or female).\n",
    "  - Age: The age of the insured in years (numeric value).\n",
    "  - Income: The income of the insured (numeric value).\n",
    "  - Family Members: The number of family members covered by the insurance.\n",
    "  \n",
    "- Target variable:\n",
    "  - Insurance Benefits: The amount of insurance claims received by the insured during the last five years. This represents the benefits or claims the insured has received from the insurance company."
   ]
  },
  {
   "cell_type": "markdown",
   "metadata": {},
   "source": [
    "### 1.3 Stages"
   ]
  },
  {
   "cell_type": "markdown",
   "metadata": {},
   "source": [
    "The project will encompass several stages:\n",
    "\n",
    "1. **Data Loading and Initialization:**\n",
    "   - Load the dataset from the `insurance_us.csv` file.\n",
    "   - Explore the dataset to understand its structure and contents.\n",
    "   - Check for missing values, data types, and basic statistics.\n",
    "   \n",
    "\n",
    "2. **EDA (Exploratory Data Analysis):**\n",
    "   - Perform exploratory analysis to understand the relationships between features and the target variable (insurance_benefits).\n",
    "   - Identify patterns or correlations in the data through visualization.\n",
    "   \n",
    "\n",
    "3. **Task 1 - Similar Clients:**\n",
    "   - Create a function to display k-nearest neighbors for the nth object based on a specific distance metric.\n",
    "   \n",
    "\n",
    "4. **Task 2 - Insurance Claim Prediction:**\n",
    "   - Evaluate whether the kNN classification model is a better approach than the dummy model for predicting insurance claim acceptance.\n",
    "   \n",
    "\n",
    "5. **Task 3 - Regression (with Linear Regression):**\n",
    "   - Using insurance_benefits as the target variable, evaluate the Root Mean Squared Error (RMSE) for the Linear Regression model.\n",
    "   \n",
    "\n",
    "6. **Task 4 - Data Obfuscation:**\n",
    "   - Apply data obfuscation by multiplying numerical features (remember these features are seen in matrix 𝑋) with an invertible matrix 𝑃.\n",
    "   - Demonstrate the effectiveness of data obfuscation with Linear Regression.\n",
    "   \n",
    "\n",
    "7. **Test Linear Regression with Data Obfuscation:**\n",
    "   - Test the Linear Regression model with obfuscated data to assess its performance and accuracy."
   ]
  },
  {
   "cell_type": "markdown",
   "metadata": {
    "lang": "en"
   },
   "source": [
    "## 2 Open and Read the Data"
   ]
  },
  {
   "cell_type": "markdown",
   "metadata": {},
   "source": [
    "### 2.1 Import All Libraries"
   ]
  },
  {
   "cell_type": "code",
   "execution_count": 18,
   "metadata": {},
   "outputs": [],
   "source": [
    "# Import All Libraries\n",
    "import numpy as np\n",
    "import pandas as pd\n",
    "\n",
    "import seaborn as sns\n",
    "import matplotlib.pyplot as plt\n",
    "\n",
    "import sklearn.linear_model\n",
    "import sklearn.metrics\n",
    "import sklearn.neighbors\n",
    "import sklearn.preprocessing\n",
    "\n",
    "from sklearn.model_selection import train_test_split\n",
    "import math\n",
    "\n",
    "from IPython.display import display\n",
    "\n",
    "import warnings\n",
    "warnings.filterwarnings(\"ignore\")"
   ]
  },
  {
   "cell_type": "markdown",
   "metadata": {
    "lang": "en"
   },
   "source": [
    "### 2.2 Load the Data"
   ]
  },
  {
   "cell_type": "markdown",
   "metadata": {
    "lang": "en"
   },
   "source": [
    "Load the data and conduct thorough checks to ensure that the data is free from any issues or inconsistencies."
   ]
  },
  {
   "cell_type": "code",
   "execution_count": 2,
   "metadata": {},
   "outputs": [],
   "source": [
    "# Load the data into df variable\n",
    "df = pd.read_csv('insurance_us.csv')"
   ]
  },
  {
   "cell_type": "markdown",
   "metadata": {
    "lang": "en"
   },
   "source": [
    "Let's rename the columns to make the code look more consistent with its style."
   ]
  },
  {
   "cell_type": "code",
   "execution_count": 3,
   "metadata": {},
   "outputs": [],
   "source": [
    "# Renaming the columns\n",
    "df = df.rename(columns=\n",
    "               {'Gender': 'gender', \n",
    "                'Age': 'age', \n",
    "                'Salary': 'income', \n",
    "                'Family members': 'family_members', \n",
    "                'Insurance benefits': 'insurance_benefits'}\n",
    "              )"
   ]
  },
  {
   "cell_type": "code",
   "execution_count": 4,
   "metadata": {},
   "outputs": [
    {
     "data": {
      "text/html": [
       "<div>\n",
       "<style scoped>\n",
       "    .dataframe tbody tr th:only-of-type {\n",
       "        vertical-align: middle;\n",
       "    }\n",
       "\n",
       "    .dataframe tbody tr th {\n",
       "        vertical-align: top;\n",
       "    }\n",
       "\n",
       "    .dataframe thead th {\n",
       "        text-align: right;\n",
       "    }\n",
       "</style>\n",
       "<table border=\"1\" class=\"dataframe\">\n",
       "  <thead>\n",
       "    <tr style=\"text-align: right;\">\n",
       "      <th></th>\n",
       "      <th>gender</th>\n",
       "      <th>age</th>\n",
       "      <th>income</th>\n",
       "      <th>family_members</th>\n",
       "      <th>insurance_benefits</th>\n",
       "    </tr>\n",
       "  </thead>\n",
       "  <tbody>\n",
       "    <tr>\n",
       "      <th>259</th>\n",
       "      <td>0</td>\n",
       "      <td>29.0</td>\n",
       "      <td>38400.0</td>\n",
       "      <td>2</td>\n",
       "      <td>0</td>\n",
       "    </tr>\n",
       "    <tr>\n",
       "      <th>1460</th>\n",
       "      <td>0</td>\n",
       "      <td>33.0</td>\n",
       "      <td>52900.0</td>\n",
       "      <td>3</td>\n",
       "      <td>0</td>\n",
       "    </tr>\n",
       "    <tr>\n",
       "      <th>1549</th>\n",
       "      <td>0</td>\n",
       "      <td>38.0</td>\n",
       "      <td>40200.0</td>\n",
       "      <td>0</td>\n",
       "      <td>0</td>\n",
       "    </tr>\n",
       "    <tr>\n",
       "      <th>1834</th>\n",
       "      <td>0</td>\n",
       "      <td>21.0</td>\n",
       "      <td>31700.0</td>\n",
       "      <td>0</td>\n",
       "      <td>0</td>\n",
       "    </tr>\n",
       "    <tr>\n",
       "      <th>179</th>\n",
       "      <td>0</td>\n",
       "      <td>27.0</td>\n",
       "      <td>35600.0</td>\n",
       "      <td>1</td>\n",
       "      <td>0</td>\n",
       "    </tr>\n",
       "    <tr>\n",
       "      <th>4209</th>\n",
       "      <td>0</td>\n",
       "      <td>21.0</td>\n",
       "      <td>24900.0</td>\n",
       "      <td>4</td>\n",
       "      <td>0</td>\n",
       "    </tr>\n",
       "    <tr>\n",
       "      <th>708</th>\n",
       "      <td>0</td>\n",
       "      <td>35.0</td>\n",
       "      <td>28500.0</td>\n",
       "      <td>0</td>\n",
       "      <td>0</td>\n",
       "    </tr>\n",
       "    <tr>\n",
       "      <th>2944</th>\n",
       "      <td>0</td>\n",
       "      <td>23.0</td>\n",
       "      <td>19200.0</td>\n",
       "      <td>3</td>\n",
       "      <td>0</td>\n",
       "    </tr>\n",
       "    <tr>\n",
       "      <th>2158</th>\n",
       "      <td>0</td>\n",
       "      <td>26.0</td>\n",
       "      <td>36000.0</td>\n",
       "      <td>0</td>\n",
       "      <td>0</td>\n",
       "    </tr>\n",
       "    <tr>\n",
       "      <th>2343</th>\n",
       "      <td>1</td>\n",
       "      <td>47.0</td>\n",
       "      <td>50600.0</td>\n",
       "      <td>1</td>\n",
       "      <td>1</td>\n",
       "    </tr>\n",
       "  </tbody>\n",
       "</table>\n",
       "</div>"
      ],
      "text/plain": [
       "      gender   age   income  family_members  insurance_benefits\n",
       "259        0  29.0  38400.0               2                   0\n",
       "1460       0  33.0  52900.0               3                   0\n",
       "1549       0  38.0  40200.0               0                   0\n",
       "1834       0  21.0  31700.0               0                   0\n",
       "179        0  27.0  35600.0               1                   0\n",
       "4209       0  21.0  24900.0               4                   0\n",
       "708        0  35.0  28500.0               0                   0\n",
       "2944       0  23.0  19200.0               3                   0\n",
       "2158       0  26.0  36000.0               0                   0\n",
       "2343       1  47.0  50600.0               1                   1"
      ]
     },
     "execution_count": 4,
     "metadata": {},
     "output_type": "execute_result"
    }
   ],
   "source": [
    "# Checking the sample of the data\n",
    "df.sample(10)"
   ]
  },
  {
   "cell_type": "code",
   "execution_count": 5,
   "metadata": {},
   "outputs": [
    {
     "name": "stdout",
     "output_type": "stream",
     "text": [
      "<class 'pandas.core.frame.DataFrame'>\n",
      "RangeIndex: 5000 entries, 0 to 4999\n",
      "Data columns (total 5 columns):\n",
      " #   Column              Non-Null Count  Dtype  \n",
      "---  ------              --------------  -----  \n",
      " 0   gender              5000 non-null   int64  \n",
      " 1   age                 5000 non-null   float64\n",
      " 2   income              5000 non-null   float64\n",
      " 3   family_members      5000 non-null   int64  \n",
      " 4   insurance_benefits  5000 non-null   int64  \n",
      "dtypes: float64(2), int64(3)\n",
      "memory usage: 195.4 KB\n"
     ]
    }
   ],
   "source": [
    "# Checking the general information of the data\n",
    "df.info()"
   ]
  },
  {
   "cell_type": "code",
   "execution_count": 6,
   "metadata": {},
   "outputs": [],
   "source": [
    "# Changing data type all to integer\n",
    "df[['age', 'income']] = df[['age', 'income']].astype(int)"
   ]
  },
  {
   "cell_type": "code",
   "execution_count": 7,
   "metadata": {},
   "outputs": [
    {
     "name": "stdout",
     "output_type": "stream",
     "text": [
      "<class 'pandas.core.frame.DataFrame'>\n",
      "RangeIndex: 5000 entries, 0 to 4999\n",
      "Data columns (total 5 columns):\n",
      " #   Column              Non-Null Count  Dtype\n",
      "---  ------              --------------  -----\n",
      " 0   gender              5000 non-null   int64\n",
      " 1   age                 5000 non-null   int32\n",
      " 2   income              5000 non-null   int32\n",
      " 3   family_members      5000 non-null   int64\n",
      " 4   insurance_benefits  5000 non-null   int64\n",
      "dtypes: int32(2), int64(3)\n",
      "memory usage: 156.4 KB\n"
     ]
    }
   ],
   "source": [
    "# Rechecking the general information\n",
    "df.info()"
   ]
  },
  {
   "cell_type": "code",
   "execution_count": 8,
   "metadata": {
    "lang": "in"
   },
   "outputs": [
    {
     "data": {
      "text/html": [
       "<div>\n",
       "<style scoped>\n",
       "    .dataframe tbody tr th:only-of-type {\n",
       "        vertical-align: middle;\n",
       "    }\n",
       "\n",
       "    .dataframe tbody tr th {\n",
       "        vertical-align: top;\n",
       "    }\n",
       "\n",
       "    .dataframe thead th {\n",
       "        text-align: right;\n",
       "    }\n",
       "</style>\n",
       "<table border=\"1\" class=\"dataframe\">\n",
       "  <thead>\n",
       "    <tr style=\"text-align: right;\">\n",
       "      <th></th>\n",
       "      <th>gender</th>\n",
       "      <th>age</th>\n",
       "      <th>income</th>\n",
       "      <th>family_members</th>\n",
       "      <th>insurance_benefits</th>\n",
       "    </tr>\n",
       "  </thead>\n",
       "  <tbody>\n",
       "    <tr>\n",
       "      <th>count</th>\n",
       "      <td>5000.000000</td>\n",
       "      <td>5000.000000</td>\n",
       "      <td>5000.000000</td>\n",
       "      <td>5000.000000</td>\n",
       "      <td>5000.000000</td>\n",
       "    </tr>\n",
       "    <tr>\n",
       "      <th>mean</th>\n",
       "      <td>0.499000</td>\n",
       "      <td>30.952800</td>\n",
       "      <td>39916.359400</td>\n",
       "      <td>1.194200</td>\n",
       "      <td>0.148000</td>\n",
       "    </tr>\n",
       "    <tr>\n",
       "      <th>std</th>\n",
       "      <td>0.500049</td>\n",
       "      <td>8.440807</td>\n",
       "      <td>9900.082063</td>\n",
       "      <td>1.091387</td>\n",
       "      <td>0.463183</td>\n",
       "    </tr>\n",
       "    <tr>\n",
       "      <th>min</th>\n",
       "      <td>0.000000</td>\n",
       "      <td>18.000000</td>\n",
       "      <td>5300.000000</td>\n",
       "      <td>0.000000</td>\n",
       "      <td>0.000000</td>\n",
       "    </tr>\n",
       "    <tr>\n",
       "      <th>25%</th>\n",
       "      <td>0.000000</td>\n",
       "      <td>24.000000</td>\n",
       "      <td>33300.000000</td>\n",
       "      <td>0.000000</td>\n",
       "      <td>0.000000</td>\n",
       "    </tr>\n",
       "    <tr>\n",
       "      <th>50%</th>\n",
       "      <td>0.000000</td>\n",
       "      <td>30.000000</td>\n",
       "      <td>40200.000000</td>\n",
       "      <td>1.000000</td>\n",
       "      <td>0.000000</td>\n",
       "    </tr>\n",
       "    <tr>\n",
       "      <th>75%</th>\n",
       "      <td>1.000000</td>\n",
       "      <td>37.000000</td>\n",
       "      <td>46600.000000</td>\n",
       "      <td>2.000000</td>\n",
       "      <td>0.000000</td>\n",
       "    </tr>\n",
       "    <tr>\n",
       "      <th>max</th>\n",
       "      <td>1.000000</td>\n",
       "      <td>65.000000</td>\n",
       "      <td>79000.000000</td>\n",
       "      <td>6.000000</td>\n",
       "      <td>5.000000</td>\n",
       "    </tr>\n",
       "  </tbody>\n",
       "</table>\n",
       "</div>"
      ],
      "text/plain": [
       "            gender          age        income  family_members  \\\n",
       "count  5000.000000  5000.000000   5000.000000     5000.000000   \n",
       "mean      0.499000    30.952800  39916.359400        1.194200   \n",
       "std       0.500049     8.440807   9900.082063        1.091387   \n",
       "min       0.000000    18.000000   5300.000000        0.000000   \n",
       "25%       0.000000    24.000000  33300.000000        0.000000   \n",
       "50%       0.000000    30.000000  40200.000000        1.000000   \n",
       "75%       1.000000    37.000000  46600.000000        2.000000   \n",
       "max       1.000000    65.000000  79000.000000        6.000000   \n",
       "\n",
       "       insurance_benefits  \n",
       "count         5000.000000  \n",
       "mean             0.148000  \n",
       "std              0.463183  \n",
       "min              0.000000  \n",
       "25%              0.000000  \n",
       "50%              0.000000  \n",
       "75%              0.000000  \n",
       "max              5.000000  "
      ]
     },
     "execution_count": 8,
     "metadata": {},
     "output_type": "execute_result"
    }
   ],
   "source": [
    "# Observe the descriptive statistics of the data \n",
    "df.describe()"
   ]
  },
  {
   "cell_type": "code",
   "execution_count": 9,
   "metadata": {
    "lang": "in"
   },
   "outputs": [
    {
     "data": {
      "text/plain": [
       "153"
      ]
     },
     "execution_count": 9,
     "metadata": {},
     "output_type": "execute_result"
    }
   ],
   "source": [
    "# Checking for data duplication\n",
    "df.duplicated().sum()"
   ]
  },
  {
   "cell_type": "code",
   "execution_count": 10,
   "metadata": {
    "lang": "in"
   },
   "outputs": [
    {
     "name": "stdout",
     "output_type": "stream",
     "text": [
      "3.06 %\n"
     ]
    }
   ],
   "source": [
    "# Calculates the percentage of duplicates\n",
    "print(df.duplicated().sum() / df.shape[0] * 100, \"%\")"
   ]
  },
  {
   "cell_type": "code",
   "execution_count": 11,
   "metadata": {
    "lang": "in"
   },
   "outputs": [],
   "source": [
    "# The number of duplicates is quite low, so we'll just delete them\n",
    "df = df.drop_duplicates().reset_index(drop=True)"
   ]
  },
  {
   "cell_type": "code",
   "execution_count": 12,
   "metadata": {
    "lang": "in"
   },
   "outputs": [
    {
     "data": {
      "text/plain": [
       "(4847, 5)"
      ]
     },
     "execution_count": 12,
     "metadata": {},
     "output_type": "execute_result"
    }
   ],
   "source": [
    "# Checking dataset size\n",
    "df.shape"
   ]
  },
  {
   "cell_type": "markdown",
   "metadata": {},
   "source": [
    "**Findings**\n",
    "- The overall data quality is good.\n",
    "- There are no missing values in any of the columns.\n",
    "- The data is reasonably distributed, indicated by the close proximity of the mean and median (50%).\n",
    "- We have successfully removed 3.06 percent of duplicate data.\n",
    "- The current dataset contains 5 columns and 4,847 rows."
   ]
  },
  {
   "cell_type": "markdown",
   "metadata": {
    "lang": "en"
   },
   "source": [
    "## 3 Exploratory Data Analysis"
   ]
  },
  {
   "cell_type": "markdown",
   "metadata": {
    "lang": "en"
   },
   "source": [
    "Let's quickly check if there are certain customer groups by examining the scatter plot."
   ]
  },
  {
   "cell_type": "code",
   "execution_count": 13,
   "metadata": {},
   "outputs": [
    {
     "data": {
      "image/png": "[encoded data removed]",
      "text/plain": [
       "<Figure size 1200x1200 with 30 Axes>"
      ]
     },
     "metadata": {},
     "output_type": "display_data"
    }
   ],
   "source": [
    "g = sns.pairplot(df, kind='hist')\n",
    "g.fig.set_size_inches(12, 12)"
   ]
  },
  {
   "cell_type": "markdown",
   "metadata": {},
   "source": [
    "Indeed, analyzing multivariate distributions can be challenging, but with the power of linear algebra (LA) and machine learning (ML), we can overcome this difficulty and uncover meaningful clusters in the data. Let's leverage LA and ML techniques to gain valuable insights from the complex relationships between multiple variables."
   ]
  },
  {
   "cell_type": "markdown",
   "metadata": {
    "lang": "en"
   },
   "source": [
    "### 3.1 Task 1: Similar Clients"
   ]
  },
  {
   "cell_type": "markdown",
   "metadata": {},
   "source": [
    "In the machine learning (ML) programming language, it is essential to develop procedures to determine *k-nearest neighbors* (objects) based on the distance between objects.\n",
    "\n",
    "For this task, we will create a function that displays the closest *k-nearest neighbors* for the nth object using a specific distance metric. The amount of insurance claims received will not be considered in this analysis.\n",
    "\n",
    "To achieve this, we will try different distance metrics and test the algorithm for four combinations of two cases:\n",
    "- Scaling:\n",
    "  1. Data is not scaled.\n",
    "  2. Data is scaled with [MaxAbsScaler](https://scikit-learn.org/stable/modules/generated/sklearn.preprocessing.MaxAbsScaler.html).\n",
    "\n",
    "- Distance Metrics:\n",
    "  1. Euclidean distance.\n",
    "  2. Manhattan distance.\n",
    "\n",
    "We will use the kNN algorithm, which can be implemented using Scikit-learn's [NearestNeighbors](https://scikit-learn.org/stable/modules/generated/sklearn.neighbors.NearestNeighbors.html#sklearn.neighbors.NearestNeighbors) class or our custom implementation.\n",
    "\n",
    "After testing the algorithm, we will answer the following questions:\n",
    "- Does data that doesn't scale affect the kNN algorithm? If it does, then what form does it take?\n",
    "- How similar are the results obtained using the Euclidean metric compared to the Manhattan distance metric, regardless of the presence or absence of scaling?"
   ]
  },
  {
   "cell_type": "code",
   "execution_count": 14,
   "metadata": {
    "lang": "in"
   },
   "outputs": [],
   "source": [
    "# Create a function to display k Nearest Neighbors\n",
    "\n",
    "feature_names = ['gender', 'age', 'income', 'family_members']\n",
    "def get_knn(df, n, k, metric):\n",
    "    \n",
    "    \"\"\"\n",
    "    Show k nearest neighbors\n",
    "\n",
    "    :param df: pandas DataFrame is used to find similar objects\n",
    "    :param n: the number of the object being searched for nearest *neighbors*\n",
    "    :param k: number of nearest *neighbors* shown\n",
    "    :param metric: name of the distance metric\n",
    "    \"\"\"\n",
    "\n",
    "    nbrs = sklearn.neighbors.NearestNeighbors(n_neighbors=k, metric=metric, algorithm='brute')\n",
    "    nbrs.fit(df[feature_names])\n",
    "    nbrs_distances, nbrs_indices = nbrs.kneighbors([df.iloc[n][feature_names]], k, return_distance=True)\n",
    "    \n",
    "    df_res = pd.concat([\n",
    "        df.iloc[nbrs_indices[0]], \n",
    "        pd.DataFrame(nbrs_distances.T, index=nbrs_indices[0], columns=['distance'])\n",
    "        ], axis=1)\n",
    "    \n",
    "    return df_res"
   ]
  },
  {
   "cell_type": "code",
   "execution_count": 15,
   "metadata": {},
   "outputs": [],
   "source": [
    "# Features scaling\n",
    "feature_names = ['gender', 'age', 'income', 'family_members']\n",
    "\n",
    "transformer_mas = sklearn.preprocessing.MaxAbsScaler().fit(df[feature_names].to_numpy())\n",
    "\n",
    "df_scaled = df.copy()\n",
    "df_scaled.loc[:, feature_names] = transformer_mas.transform(df[feature_names].to_numpy())"
   ]
  },
  {
   "cell_type": "code",
   "execution_count": 16,
   "metadata": {
    "lang": "in"
   },
   "outputs": [
    {
     "data": {
      "text/html": [
       "<div>\n",
       "<style scoped>\n",
       "    .dataframe tbody tr th:only-of-type {\n",
       "        vertical-align: middle;\n",
       "    }\n",
       "\n",
       "    .dataframe tbody tr th {\n",
       "        vertical-align: top;\n",
       "    }\n",
       "\n",
       "    .dataframe thead th {\n",
       "        text-align: right;\n",
       "    }\n",
       "</style>\n",
       "<table border=\"1\" class=\"dataframe\">\n",
       "  <thead>\n",
       "    <tr style=\"text-align: right;\">\n",
       "      <th></th>\n",
       "      <th>gender</th>\n",
       "      <th>age</th>\n",
       "      <th>income</th>\n",
       "      <th>family_members</th>\n",
       "      <th>insurance_benefits</th>\n",
       "    </tr>\n",
       "  </thead>\n",
       "  <tbody>\n",
       "    <tr>\n",
       "      <th>3241</th>\n",
       "      <td>1.0</td>\n",
       "      <td>0.600000</td>\n",
       "      <td>0.713924</td>\n",
       "      <td>0.333333</td>\n",
       "      <td>0</td>\n",
       "    </tr>\n",
       "    <tr>\n",
       "      <th>1137</th>\n",
       "      <td>0.0</td>\n",
       "      <td>0.538462</td>\n",
       "      <td>0.456962</td>\n",
       "      <td>0.000000</td>\n",
       "      <td>0</td>\n",
       "    </tr>\n",
       "    <tr>\n",
       "      <th>2922</th>\n",
       "      <td>1.0</td>\n",
       "      <td>0.615385</td>\n",
       "      <td>0.486076</td>\n",
       "      <td>0.000000</td>\n",
       "      <td>0</td>\n",
       "    </tr>\n",
       "    <tr>\n",
       "      <th>778</th>\n",
       "      <td>0.0</td>\n",
       "      <td>0.384615</td>\n",
       "      <td>0.532911</td>\n",
       "      <td>0.000000</td>\n",
       "      <td>0</td>\n",
       "    </tr>\n",
       "    <tr>\n",
       "      <th>4225</th>\n",
       "      <td>0.0</td>\n",
       "      <td>0.676923</td>\n",
       "      <td>0.322785</td>\n",
       "      <td>0.000000</td>\n",
       "      <td>1</td>\n",
       "    </tr>\n",
       "  </tbody>\n",
       "</table>\n",
       "</div>"
      ],
      "text/plain": [
       "      gender       age    income  family_members  insurance_benefits\n",
       "3241     1.0  0.600000  0.713924        0.333333                   0\n",
       "1137     0.0  0.538462  0.456962        0.000000                   0\n",
       "2922     1.0  0.615385  0.486076        0.000000                   0\n",
       "778      0.0  0.384615  0.532911        0.000000                   0\n",
       "4225     0.0  0.676923  0.322785        0.000000                   1"
      ]
     },
     "execution_count": 16,
     "metadata": {},
     "output_type": "execute_result"
    }
   ],
   "source": [
    "# Displays sample data from scaling results\n",
    "df_scaled.sample(5)"
   ]
  },
  {
   "cell_type": "markdown",
   "metadata": {
    "lang": "en"
   },
   "source": [
    "Now, let's get a similar record for each of the possible combinations"
   ]
  },
  {
   "cell_type": "markdown",
   "metadata": {
    "lang": "en"
   },
   "source": [
    "#### 3.1.1 Euclidean Metric"
   ]
  },
  {
   "cell_type": "markdown",
   "metadata": {
    "lang": "en"
   },
   "source": [
    "Checks the five closest points around the point with index 1 using the `euclidean` metric."
   ]
  },
  {
   "cell_type": "code",
   "execution_count": 19,
   "metadata": {
    "lang": "in",
    "scrolled": false
   },
   "outputs": [
    {
     "data": {
      "text/html": [
       "<div>\n",
       "<style scoped>\n",
       "    .dataframe tbody tr th:only-of-type {\n",
       "        vertical-align: middle;\n",
       "    }\n",
       "\n",
       "    .dataframe tbody tr th {\n",
       "        vertical-align: top;\n",
       "    }\n",
       "\n",
       "    .dataframe thead th {\n",
       "        text-align: right;\n",
       "    }\n",
       "</style>\n",
       "<table border=\"1\" class=\"dataframe\">\n",
       "  <thead>\n",
       "    <tr style=\"text-align: right;\">\n",
       "      <th></th>\n",
       "      <th>gender</th>\n",
       "      <th>age</th>\n",
       "      <th>income</th>\n",
       "      <th>family_members</th>\n",
       "      <th>insurance_benefits</th>\n",
       "      <th>distance</th>\n",
       "    </tr>\n",
       "  </thead>\n",
       "  <tbody>\n",
       "    <tr>\n",
       "      <th>1</th>\n",
       "      <td>0</td>\n",
       "      <td>46</td>\n",
       "      <td>38000</td>\n",
       "      <td>1</td>\n",
       "      <td>1</td>\n",
       "      <td>0.000000</td>\n",
       "    </tr>\n",
       "    <tr>\n",
       "      <th>3810</th>\n",
       "      <td>0</td>\n",
       "      <td>40</td>\n",
       "      <td>38000</td>\n",
       "      <td>0</td>\n",
       "      <td>0</td>\n",
       "      <td>6.082763</td>\n",
       "    </tr>\n",
       "    <tr>\n",
       "      <th>4796</th>\n",
       "      <td>1</td>\n",
       "      <td>37</td>\n",
       "      <td>38000</td>\n",
       "      <td>1</td>\n",
       "      <td>0</td>\n",
       "      <td>9.055385</td>\n",
       "    </tr>\n",
       "    <tr>\n",
       "      <th>2480</th>\n",
       "      <td>1</td>\n",
       "      <td>36</td>\n",
       "      <td>38000</td>\n",
       "      <td>0</td>\n",
       "      <td>0</td>\n",
       "      <td>10.099505</td>\n",
       "    </tr>\n",
       "    <tr>\n",
       "      <th>3498</th>\n",
       "      <td>0</td>\n",
       "      <td>33</td>\n",
       "      <td>38000</td>\n",
       "      <td>0</td>\n",
       "      <td>0</td>\n",
       "      <td>13.038405</td>\n",
       "    </tr>\n",
       "  </tbody>\n",
       "</table>\n",
       "</div>"
      ],
      "text/plain": [
       "      gender  age  income  family_members  insurance_benefits   distance\n",
       "1          0   46   38000               1                   1   0.000000\n",
       "3810       0   40   38000               0                   0   6.082763\n",
       "4796       1   37   38000               1                   0   9.055385\n",
       "2480       1   36   38000               0                   0  10.099505\n",
       "3498       0   33   38000               0                   0  13.038405"
      ]
     },
     "execution_count": 19,
     "metadata": {},
     "output_type": "execute_result"
    }
   ],
   "source": [
    "# Implement the function to df dataset using euclidean metric\n",
    "get_knn(df, 1, 5, 'euclidean')"
   ]
  },
  {
   "cell_type": "code",
   "execution_count": 20,
   "metadata": {
    "scrolled": false
   },
   "outputs": [
    {
     "data": {
      "text/html": [
       "<div>\n",
       "<style scoped>\n",
       "    .dataframe tbody tr th:only-of-type {\n",
       "        vertical-align: middle;\n",
       "    }\n",
       "\n",
       "    .dataframe tbody tr th {\n",
       "        vertical-align: top;\n",
       "    }\n",
       "\n",
       "    .dataframe thead th {\n",
       "        text-align: right;\n",
       "    }\n",
       "</style>\n",
       "<table border=\"1\" class=\"dataframe\">\n",
       "  <thead>\n",
       "    <tr style=\"text-align: right;\">\n",
       "      <th></th>\n",
       "      <th>gender</th>\n",
       "      <th>age</th>\n",
       "      <th>income</th>\n",
       "      <th>family_members</th>\n",
       "      <th>insurance_benefits</th>\n",
       "      <th>distance</th>\n",
       "    </tr>\n",
       "  </thead>\n",
       "  <tbody>\n",
       "    <tr>\n",
       "      <th>1</th>\n",
       "      <td>0.0</td>\n",
       "      <td>0.707692</td>\n",
       "      <td>0.481013</td>\n",
       "      <td>0.166667</td>\n",
       "      <td>1</td>\n",
       "      <td>0.000000</td>\n",
       "    </tr>\n",
       "    <tr>\n",
       "      <th>4041</th>\n",
       "      <td>0.0</td>\n",
       "      <td>0.707692</td>\n",
       "      <td>0.477215</td>\n",
       "      <td>0.166667</td>\n",
       "      <td>1</td>\n",
       "      <td>0.003797</td>\n",
       "    </tr>\n",
       "    <tr>\n",
       "      <th>1835</th>\n",
       "      <td>0.0</td>\n",
       "      <td>0.707692</td>\n",
       "      <td>0.492405</td>\n",
       "      <td>0.166667</td>\n",
       "      <td>1</td>\n",
       "      <td>0.011392</td>\n",
       "    </tr>\n",
       "    <tr>\n",
       "      <th>4833</th>\n",
       "      <td>0.0</td>\n",
       "      <td>0.723077</td>\n",
       "      <td>0.491139</td>\n",
       "      <td>0.166667</td>\n",
       "      <td>1</td>\n",
       "      <td>0.018418</td>\n",
       "    </tr>\n",
       "    <tr>\n",
       "      <th>4341</th>\n",
       "      <td>0.0</td>\n",
       "      <td>0.692308</td>\n",
       "      <td>0.459494</td>\n",
       "      <td>0.166667</td>\n",
       "      <td>1</td>\n",
       "      <td>0.026453</td>\n",
       "    </tr>\n",
       "  </tbody>\n",
       "</table>\n",
       "</div>"
      ],
      "text/plain": [
       "      gender       age    income  family_members  insurance_benefits  distance\n",
       "1        0.0  0.707692  0.481013        0.166667                   1  0.000000\n",
       "4041     0.0  0.707692  0.477215        0.166667                   1  0.003797\n",
       "1835     0.0  0.707692  0.492405        0.166667                   1  0.011392\n",
       "4833     0.0  0.723077  0.491139        0.166667                   1  0.018418\n",
       "4341     0.0  0.692308  0.459494        0.166667                   1  0.026453"
      ]
     },
     "execution_count": 20,
     "metadata": {},
     "output_type": "execute_result"
    }
   ],
   "source": [
    "# Implement the function to df_scaled dataset using euclidean metric\n",
    "get_knn(df_scaled, 1, 5, 'euclidean')"
   ]
  },
  {
   "cell_type": "markdown",
   "metadata": {
    "lang": "en"
   },
   "source": [
    "#### 3.1.2 Manhattan Metric"
   ]
  },
  {
   "cell_type": "markdown",
   "metadata": {
    "lang": "en"
   },
   "source": [
    "Checks the five closest points around the point with index 1 using the `manhattan` metric."
   ]
  },
  {
   "cell_type": "code",
   "execution_count": 21,
   "metadata": {
    "scrolled": true
   },
   "outputs": [
    {
     "data": {
      "text/html": [
       "<div>\n",
       "<style scoped>\n",
       "    .dataframe tbody tr th:only-of-type {\n",
       "        vertical-align: middle;\n",
       "    }\n",
       "\n",
       "    .dataframe tbody tr th {\n",
       "        vertical-align: top;\n",
       "    }\n",
       "\n",
       "    .dataframe thead th {\n",
       "        text-align: right;\n",
       "    }\n",
       "</style>\n",
       "<table border=\"1\" class=\"dataframe\">\n",
       "  <thead>\n",
       "    <tr style=\"text-align: right;\">\n",
       "      <th></th>\n",
       "      <th>gender</th>\n",
       "      <th>age</th>\n",
       "      <th>income</th>\n",
       "      <th>family_members</th>\n",
       "      <th>insurance_benefits</th>\n",
       "      <th>distance</th>\n",
       "    </tr>\n",
       "  </thead>\n",
       "  <tbody>\n",
       "    <tr>\n",
       "      <th>1</th>\n",
       "      <td>0</td>\n",
       "      <td>46</td>\n",
       "      <td>38000</td>\n",
       "      <td>1</td>\n",
       "      <td>1</td>\n",
       "      <td>0.0</td>\n",
       "    </tr>\n",
       "    <tr>\n",
       "      <th>3810</th>\n",
       "      <td>0</td>\n",
       "      <td>40</td>\n",
       "      <td>38000</td>\n",
       "      <td>0</td>\n",
       "      <td>0</td>\n",
       "      <td>7.0</td>\n",
       "    </tr>\n",
       "    <tr>\n",
       "      <th>4796</th>\n",
       "      <td>1</td>\n",
       "      <td>37</td>\n",
       "      <td>38000</td>\n",
       "      <td>1</td>\n",
       "      <td>0</td>\n",
       "      <td>10.0</td>\n",
       "    </tr>\n",
       "    <tr>\n",
       "      <th>2480</th>\n",
       "      <td>1</td>\n",
       "      <td>36</td>\n",
       "      <td>38000</td>\n",
       "      <td>0</td>\n",
       "      <td>0</td>\n",
       "      <td>12.0</td>\n",
       "    </tr>\n",
       "    <tr>\n",
       "      <th>3498</th>\n",
       "      <td>0</td>\n",
       "      <td>33</td>\n",
       "      <td>38000</td>\n",
       "      <td>0</td>\n",
       "      <td>0</td>\n",
       "      <td>14.0</td>\n",
       "    </tr>\n",
       "  </tbody>\n",
       "</table>\n",
       "</div>"
      ],
      "text/plain": [
       "      gender  age  income  family_members  insurance_benefits  distance\n",
       "1          0   46   38000               1                   1       0.0\n",
       "3810       0   40   38000               0                   0       7.0\n",
       "4796       1   37   38000               1                   0      10.0\n",
       "2480       1   36   38000               0                   0      12.0\n",
       "3498       0   33   38000               0                   0      14.0"
      ]
     },
     "execution_count": 21,
     "metadata": {},
     "output_type": "execute_result"
    }
   ],
   "source": [
    "# Implement the function to df dataset using manhattan metric\n",
    "get_knn(df, 1, 5, 'manhattan')"
   ]
  },
  {
   "cell_type": "code",
   "execution_count": 22,
   "metadata": {
    "scrolled": false
   },
   "outputs": [
    {
     "data": {
      "text/html": [
       "<div>\n",
       "<style scoped>\n",
       "    .dataframe tbody tr th:only-of-type {\n",
       "        vertical-align: middle;\n",
       "    }\n",
       "\n",
       "    .dataframe tbody tr th {\n",
       "        vertical-align: top;\n",
       "    }\n",
       "\n",
       "    .dataframe thead th {\n",
       "        text-align: right;\n",
       "    }\n",
       "</style>\n",
       "<table border=\"1\" class=\"dataframe\">\n",
       "  <thead>\n",
       "    <tr style=\"text-align: right;\">\n",
       "      <th></th>\n",
       "      <th>gender</th>\n",
       "      <th>age</th>\n",
       "      <th>income</th>\n",
       "      <th>family_members</th>\n",
       "      <th>insurance_benefits</th>\n",
       "      <th>distance</th>\n",
       "    </tr>\n",
       "  </thead>\n",
       "  <tbody>\n",
       "    <tr>\n",
       "      <th>1</th>\n",
       "      <td>0.0</td>\n",
       "      <td>0.707692</td>\n",
       "      <td>0.481013</td>\n",
       "      <td>0.166667</td>\n",
       "      <td>1</td>\n",
       "      <td>0.000000</td>\n",
       "    </tr>\n",
       "    <tr>\n",
       "      <th>4041</th>\n",
       "      <td>0.0</td>\n",
       "      <td>0.707692</td>\n",
       "      <td>0.477215</td>\n",
       "      <td>0.166667</td>\n",
       "      <td>1</td>\n",
       "      <td>0.003797</td>\n",
       "    </tr>\n",
       "    <tr>\n",
       "      <th>1835</th>\n",
       "      <td>0.0</td>\n",
       "      <td>0.707692</td>\n",
       "      <td>0.492405</td>\n",
       "      <td>0.166667</td>\n",
       "      <td>1</td>\n",
       "      <td>0.011392</td>\n",
       "    </tr>\n",
       "    <tr>\n",
       "      <th>4833</th>\n",
       "      <td>0.0</td>\n",
       "      <td>0.723077</td>\n",
       "      <td>0.491139</td>\n",
       "      <td>0.166667</td>\n",
       "      <td>1</td>\n",
       "      <td>0.025511</td>\n",
       "    </tr>\n",
       "    <tr>\n",
       "      <th>2394</th>\n",
       "      <td>0.0</td>\n",
       "      <td>0.676923</td>\n",
       "      <td>0.482278</td>\n",
       "      <td>0.166667</td>\n",
       "      <td>1</td>\n",
       "      <td>0.032035</td>\n",
       "    </tr>\n",
       "  </tbody>\n",
       "</table>\n",
       "</div>"
      ],
      "text/plain": [
       "      gender       age    income  family_members  insurance_benefits  distance\n",
       "1        0.0  0.707692  0.481013        0.166667                   1  0.000000\n",
       "4041     0.0  0.707692  0.477215        0.166667                   1  0.003797\n",
       "1835     0.0  0.707692  0.492405        0.166667                   1  0.011392\n",
       "4833     0.0  0.723077  0.491139        0.166667                   1  0.025511\n",
       "2394     0.0  0.676923  0.482278        0.166667                   1  0.032035"
      ]
     },
     "execution_count": 22,
     "metadata": {},
     "output_type": "execute_result"
    }
   ],
   "source": [
    "# Implement the function to df_scaled dataset using manhattan metric\n",
    "get_knn(df_scaled, 1, 5, 'manhattan')"
   ]
  },
  {
   "cell_type": "markdown",
   "metadata": {
    "lang": "en"
   },
   "source": [
    "#### 3.2.3 Answer the Questions"
   ]
  },
  {
   "cell_type": "markdown",
   "metadata": {},
   "source": [
    "**Does unscalable data affect the kNN algorithm? If it has an effect, then what form does it take?**\n",
    "\n",
    "- Unscalable data significantly affects the kNN algorithm's performance. When comparing non-scaled data to scaled data, they produce different results. \n",
    "- Specifically, the target column (`insurance_benefits`) in non-scaled data leads to incorrect predictions, as some object points that should have a value of 1 in the target column are grouped with other points having a target value of 0. \n",
    "- In contrast, scaling the data provides more accurate results.\n",
    "\n",
    "**How similar are the results you get from the Euclidean metric to when you use the Manhattan distance metric (disregarding presence or absence of scale)?**\n",
    "\n",
    "- The results obtained from the Euclidean and Manhattan distance metrics are generally similar for non-scaled data, with differences mainly in the distance values due to their distinct calculation methods.\n",
    "- However, for scaled data, the two metrics yield different results, particularly in the selection of the fifth nearest point. The `euclidean` metric selects a different index point (4341) compared to the `manhattan` metric (2394)."
   ]
  },
  {
   "cell_type": "markdown",
   "metadata": {
    "lang": "en"
   },
   "source": [
    "### 3.2 Task 2: Predicting the Probability of Insurance Claim for Clients"
   ]
  },
  {
   "cell_type": "markdown",
   "metadata": {},
   "source": [
    "In the context of machine learning, this task involves binary classification.\n",
    "\n",
    "Evaluate whether the kNN classification model is superior to the *dummy* model for predicting insurance claim probability based on the `insurance_benefits` target, which has values greater than zero.\n",
    "\n",
    "Instructions:\n",
    "- Create a kNN-based classifier and evaluate its performance using the F1 metric for k=1..10 for both the original data and the scaled data. Observe how the choice of k influences the evaluation metrics and determine whether data scaling impacts the results. You can use the kNN classification algorithm implementation available in Scikit-learn (check [this link](https://scikit-learn.org/stable/modules/generated/sklearn.neighbors.KNeighborsClassifier.html)) or implement your own.\n",
    "- Generate a random *dummy* model for comparison. The dummy model should output \"1\" with various probabilities. Test the dummy model with four probability values: 0, the probability of any insurance benefit being paid; 0.5; 1.\n",
    "\n",
    "The probability of an insurance claim being paid can be defined as:\n",
    "\n",
    "$$\n",
    "P\\{\\text{received insurance claim}\\} = \\frac{\\text{number of clients receiving insurance claims}}{\\text{total number of clients}}.\n",
    "$$\n",
    "\n",
    "Split the entire data into a 70:30 ratio for the *training* and *test sets*."
   ]
  },
  {
   "cell_type": "markdown",
   "metadata": {
    "lang": "en"
   },
   "source": [
    "#### 3.2.1 Preparing Target Column"
   ]
  },
  {
   "cell_type": "code",
   "execution_count": 23,
   "metadata": {
    "lang": "in"
   },
   "outputs": [
    {
     "data": {
      "text/plain": [
       "0    4284\n",
       "1     423\n",
       "2     114\n",
       "3      18\n",
       "4       7\n",
       "5       1\n",
       "Name: insurance_benefits, dtype: int64"
      ]
     },
     "execution_count": 23,
     "metadata": {},
     "output_type": "execute_result"
    }
   ],
   "source": [
    "# Calculates and checks the distribution of target values\n",
    "df['insurance_benefits'].value_counts()"
   ]
  },
  {
   "cell_type": "markdown",
   "metadata": {
    "lang": "en"
   },
   "source": [
    "To simplify classification, the target column values ​​above 1 will be changed to 1."
   ]
  },
  {
   "cell_type": "code",
   "execution_count": 24,
   "metadata": {
    "lang": "in"
   },
   "outputs": [],
   "source": [
    "# Simplify target column\n",
    "df['insurance_benefits_received'] = np.where(df['insurance_benefits'] == 0, 0, 1) "
   ]
  },
  {
   "cell_type": "markdown",
   "metadata": {
    "lang": "en"
   },
   "source": [
    "#### 3.2.2 Checking the Balance of the Target Class"
   ]
  },
  {
   "cell_type": "code",
   "execution_count": 25,
   "metadata": {
    "lang": "in"
   },
   "outputs": [
    {
     "data": {
      "text/plain": [
       "0    4284\n",
       "1     563\n",
       "Name: insurance_benefits_received, dtype: int64"
      ]
     },
     "metadata": {},
     "output_type": "display_data"
    },
    {
     "data": {
      "text/plain": [
       "<Axes: >"
      ]
     },
     "execution_count": 25,
     "metadata": {},
     "output_type": "execute_result"
    },
    {
     "data": {
      "image/png": "[encoded data removed]",
      "text/plain": [
       "<Figure size 640x480 with 1 Axes>"
      ]
     },
     "metadata": {},
     "output_type": "display_data"
    }
   ],
   "source": [
    "# Check class imbalance with value_counts()\n",
    "display(df['insurance_benefits_received'].value_counts())\n",
    "df['insurance_benefits_received'].value_counts().plot(kind='bar')"
   ]
  },
  {
   "cell_type": "markdown",
   "metadata": {
    "lang": "en"
   },
   "source": [
    "The class is unbalanced. The majority of clients do not file insurance claims."
   ]
  },
  {
   "cell_type": "markdown",
   "metadata": {
    "lang": "en"
   },
   "source": [
    "#### 3.2.3 Preparing Functions for KNN-Based Classification"
   ]
  },
  {
   "cell_type": "code",
   "execution_count": 26,
   "metadata": {
    "lang": "in"
   },
   "outputs": [],
   "source": [
    "# Create functions and measure model quality with F1 metrics\n",
    "def eval_classifier(y_true, y_pred):\n",
    "    \n",
    "    f1_score = sklearn.metrics.f1_score(y_true, y_pred)\n",
    "    print(f'F1: {f1_score:.2f}')\n",
    "    \n",
    "    cm = sklearn.metrics.confusion_matrix(y_true, y_pred, normalize='all')\n",
    "    print('Error Matrix')\n",
    "    print(cm)"
   ]
  },
  {
   "cell_type": "markdown",
   "metadata": {
    "lang": "en"
   },
   "source": [
    "#### 3.2.4 Check Score on Random Dummy Model"
   ]
  },
  {
   "cell_type": "code",
   "execution_count": 27,
   "metadata": {},
   "outputs": [],
   "source": [
    "# Create function for random model predictor\n",
    "def rnd_model_predict(P, size, seed=42):\n",
    "    rng = np.random.default_rng(seed=seed)\n",
    "    return rng.binomial(n=1, p=P, size=size)"
   ]
  },
  {
   "cell_type": "markdown",
   "metadata": {},
   "source": [
    "The model should generate \"1\" with certain probabilities. Let's test the model with four probability values: 0; the probability of paying any insurance benefit; 0.5; and 1."
   ]
  },
  {
   "cell_type": "code",
   "execution_count": 28,
   "metadata": {
    "lang": "in",
    "scrolled": false
   },
   "outputs": [
    {
     "name": "stdout",
     "output_type": "stream",
     "text": [
      "Probability: 0.00\n",
      "F1: 0.00\n",
      "Error Matrix\n",
      "[[0.88384568 0.        ]\n",
      " [0.11615432 0.        ]]\n",
      "\n",
      "Probability: 0.12\n",
      "F1: 0.13\n",
      "Error Matrix\n",
      "[[0.78502166 0.09882401]\n",
      " [0.1017124  0.01444192]]\n",
      "\n",
      "Probability: 0.50\n",
      "F1: 0.19\n",
      "Error Matrix\n",
      "[[0.44873117 0.4351145 ]\n",
      " [0.05921188 0.05694244]]\n",
      "\n",
      "Probability: 1.00\n",
      "F1: 0.21\n",
      "Error Matrix\n",
      "[[0.         0.88384568]\n",
      " [0.         0.11615432]]\n",
      "\n"
     ]
    }
   ],
   "source": [
    "# Test the rnd_model_predict function to four probability values\n",
    "for P in [0, df['insurance_benefits_received'].sum() / len(df), 0.5, 1]:\n",
    "\n",
    "    print(f'Probability: {P:.2f}')\n",
    "    y_pred_rnd = rnd_model_predict(P, size=len(df), seed=42) \n",
    "        \n",
    "    eval_classifier(df['insurance_benefits_received'], y_pred_rnd)\n",
    "    \n",
    "    print()"
   ]
  },
  {
   "cell_type": "markdown",
   "metadata": {
    "lang": "en"
   },
   "source": [
    "#### 3.2.5 Divide the Train and Test Datasets with the Proportion of 70:30"
   ]
  },
  {
   "cell_type": "code",
   "execution_count": 29,
   "metadata": {},
   "outputs": [],
   "source": [
    "# Train test split\n",
    "y = df['insurance_benefits_received']\n",
    "X = df.drop(['insurance_benefits_received', 'insurance_benefits'], axis=1)\n",
    "\n",
    "X_train, X_test, y_train, y_test = train_test_split(X, y, test_size=0.3, random_state=12345)"
   ]
  },
  {
   "cell_type": "markdown",
   "metadata": {
    "lang": "en"
   },
   "source": [
    "#### 3.2.6 Creating Model for Unscalable Dataset"
   ]
  },
  {
   "cell_type": "code",
   "execution_count": 30,
   "metadata": {
    "lang": "in"
   },
   "outputs": [],
   "source": [
    "# Create a model to examine the F1 value on unscaled data\n",
    "model1 = sklearn.neighbors.KNeighborsClassifier()\n",
    "model1.fit(X_train, y_train)\n",
    "predict_test = model1.predict(X_test)"
   ]
  },
  {
   "cell_type": "code",
   "execution_count": 31,
   "metadata": {
    "lang": "in",
    "scrolled": true
   },
   "outputs": [
    {
     "name": "stdout",
     "output_type": "stream",
     "text": [
      "F1: 0.23\n",
      "Error Matrix\n",
      "[[0.87766323 0.00687285]\n",
      " [0.09965636 0.01580756]]\n"
     ]
    }
   ],
   "source": [
    "# Implements the previously created eval_classifier function\n",
    "eval_classifier(y_test, predict_test)"
   ]
  },
  {
   "cell_type": "markdown",
   "metadata": {
    "lang": "en"
   },
   "source": [
    "#### 3.2.7 Performs Model Tests on Scalable Data"
   ]
  },
  {
   "cell_type": "code",
   "execution_count": 32,
   "metadata": {
    "lang": "in"
   },
   "outputs": [],
   "source": [
    "# Scaling the datasets\n",
    "scaler = sklearn.preprocessing.MaxAbsScaler()\n",
    "X_train_scaled = scaler.fit_transform(X_train)\n",
    "X_test_scaled = scaler.transform(X_test)"
   ]
  },
  {
   "cell_type": "code",
   "execution_count": 33,
   "metadata": {
    "lang": "in"
   },
   "outputs": [],
   "source": [
    "# Build models based on scaled datasets\n",
    "model2 = sklearn.neighbors.KNeighborsClassifier()\n",
    "model2.fit(X_train_scaled, y_train)\n",
    "predict_test_sc = model2.predict(X_test_scaled)"
   ]
  },
  {
   "cell_type": "code",
   "execution_count": 34,
   "metadata": {},
   "outputs": [
    {
     "name": "stdout",
     "output_type": "stream",
     "text": [
      "F1: 0.90\n",
      "Error Matrix\n",
      "[[0.87972509 0.004811  ]\n",
      " [0.01786942 0.0975945 ]]\n"
     ]
    }
   ],
   "source": [
    "# Implements the previously created eval_classifier function\n",
    "eval_classifier(y_test, predict_test_sc)"
   ]
  },
  {
   "cell_type": "markdown",
   "metadata": {},
   "source": [
    "#### 3.2.8 Conclusion\n",
    "- Models using scaled datasets demonstrate significantly higher accuracy values compared to models using unscaled data.\n",
    "- Furthermore, models with scaled datasets outperform the dummy models in terms of accuracy."
   ]
  },
  {
   "cell_type": "markdown",
   "metadata": {
    "lang": "en"
   },
   "source": [
    "### 3.3 Task 3: Regression (using Linear Regression)"
   ]
  },
  {
   "cell_type": "markdown",
   "metadata": {},
   "source": [
    "In this task, we will perform linear regression to predict the `insurance_benefit` target. First, let's create our own implementation of Linear Regression using the LA form. We have the following components:\n",
    "\n",
    "- $X$: the feature matrix, where one row represents one case, each column is a feature, and the first column consists of units.\n",
    "- $y$: the target vector.\n",
    "- $\\hat{y}$: the target estimation vector.\n",
    "- $w$: the weight vector.\n",
    "\n",
    "The linear regression equation can be written as:\n",
    "\n",
    "$$\n",
    "y = Xw\n",
    "$$\n",
    "\n",
    "The goal of training the linear regression model is to find the weight vector $w$ that will minimize the L2 distance (MSE) between $Xw$ and $y$:\n",
    "\n",
    "$$\n",
    "\\min_w d_2(Xw, y) \\quad \\text{or} \\quad \\min_w \\text{MSE}(Xw, y)\n",
    "$$\n",
    "\n",
    "The analytical solution to this problem is given by:\n",
    "\n",
    "$$\n",
    "w = (X^T X)^{-1} X^T y\n",
    "$$\n",
    "\n",
    "Once we find the weights $w$, we can use them to calculate the predicted values $\\hat{y}$:\n",
    "\n",
    "$$\n",
    "\\hat{y} = X_{val}w\n",
    "$$\n",
    "\n",
    "Now, let's proceed with the steps for this task:\n",
    "\n",
    "1. Separate the entire data into the *training set* and *validation set* with a proportion of 70:30.\n",
    "2. Implement the Linear Regression model using the LA form.\n",
    "3. Calculate the weights $w$ using the analytical solution.\n",
    "4. Use the weights $w$ to predict the target values $\\hat{y}$ for the *validation set*.\n",
    "5. Evaluate the RMSE (Root Mean Squared Error) for both the original and scaled data to assess the model's performance on the *validation set*.\n",
    "\n",
    "By completing these steps, we can compare the performance of the Linear Regression model on the *validation set* for both the original and scaled data using the RMSE metric."
   ]
  },
  {
   "cell_type": "code",
   "execution_count": 35,
   "metadata": {
    "lang": "in"
   },
   "outputs": [],
   "source": [
    "# Create MyLinearRegression class for linear regression implementation\n",
    "class MyLinearRegression:\n",
    "    \n",
    "    def __init__(self):\n",
    "        \n",
    "        self.weights = None\n",
    "    \n",
    "    def fit(self, X, y):\n",
    "        \n",
    "        # Add units\n",
    "        X2 = np.append(np.ones([len(X), 1]), X, axis=1)\n",
    "        self.weights = np.linalg.inv(X2.T.dot(X2)).dot(X2.T).dot(y) \n",
    "\n",
    "    def predict(self, X):\n",
    "        \n",
    "        # Add units\n",
    "        X2 = np.append(np.ones([X.shape[0], 1]), X, axis=1) \n",
    "        y_pred = np.dot(X2, self.weights) \n",
    "        \n",
    "        return y_pred"
   ]
  },
  {
   "cell_type": "code",
   "execution_count": 36,
   "metadata": {},
   "outputs": [],
   "source": [
    "# Create eval_regressor function to calculate regression model performance\n",
    "def eval_regressor(y_true, y_pred):\n",
    "    \n",
    "    rmse = math.sqrt(sklearn.metrics.mean_squared_error(y_true, y_pred))\n",
    "    print(f'RMSE: {rmse:.2f}')\n",
    "    \n",
    "    r2_score = math.sqrt(sklearn.metrics.r2_score(y_true, y_pred))\n",
    "    print(f'R2: {r2_score:.2f}')    "
   ]
  },
  {
   "cell_type": "markdown",
   "metadata": {
    "lang": "en"
   },
   "source": [
    "#### 3.3.1 RMSE Evaluation for Unscaled Data"
   ]
  },
  {
   "cell_type": "code",
   "execution_count": 37,
   "metadata": {},
   "outputs": [
    {
     "name": "stdout",
     "output_type": "stream",
     "text": [
      "[-9.77366679e-01  3.58042290e-02  1.95594897e-02  5.85335011e-07\n",
      " -1.21618426e-02]\n",
      "RMSE: 0.36\n",
      "R2: 0.66\n"
     ]
    }
   ],
   "source": [
    "X = df[['age', 'gender', 'income', 'family_members']].to_numpy()\n",
    "y = df['insurance_benefits'].to_numpy()\n",
    "\n",
    "X_train, X_test, y_train, y_test = train_test_split(X, y, test_size=0.3, random_state=12345)\n",
    "\n",
    "lr = MyLinearRegression()\n",
    "\n",
    "lr.fit(X_train, y_train)\n",
    "print(lr.weights)\n",
    "\n",
    "y_test_pred = lr.predict(X_test)\n",
    "eval_regressor(y_test, y_test_pred)"
   ]
  },
  {
   "cell_type": "markdown",
   "metadata": {
    "lang": "en"
   },
   "source": [
    "#### 3.3.2 RMSE Evaluation for Scaled Data"
   ]
  },
  {
   "cell_type": "code",
   "execution_count": 38,
   "metadata": {},
   "outputs": [
    {
     "name": "stdout",
     "output_type": "stream",
     "text": [
      "[-0.97736668  2.32727489  0.01955949  0.04624147 -0.07297106]\n",
      "RMSE: 0.36\n",
      "R2: 0.66\n"
     ]
    }
   ],
   "source": [
    "X = df_scaled[['age', 'gender', 'income', 'family_members']].to_numpy()\n",
    "y = df_scaled['insurance_benefits'].to_numpy()\n",
    "\n",
    "X_train, X_test, y_train, y_test = train_test_split(X, y, test_size=0.3, random_state=12345)\n",
    "\n",
    "lr = MyLinearRegression()\n",
    "\n",
    "lr.fit(X_train, y_train)\n",
    "print(lr.weights)\n",
    "\n",
    "y_test_pred = lr.predict(X_test)\n",
    "eval_regressor(y_test, y_test_pred)"
   ]
  },
  {
   "cell_type": "markdown",
   "metadata": {},
   "source": [
    "#### 3.3.3 Conclusion\n",
    "- The RMSE and $R^2$ values do not show significant differences between models with unscaled and scaled data.\n",
    "- The relatively low RMSE values indicate that the model performs accurately on both unscaled and scaled data.\n",
    "- The $R^2$ value of 0.66 falls into the moderate category, indicating a relatively low error component."
   ]
  },
  {
   "cell_type": "markdown",
   "metadata": {
    "lang": "en"
   },
   "source": [
    "### 3.4 Task 4: Data Obfuscation"
   ]
  },
  {
   "cell_type": "markdown",
   "metadata": {
    "lang": "en"
   },
   "source": [
    "The best way to perform data obfuscation is by multiplying the numeric features (represented by matrix $X$) with invertible matrix $P$.\n",
    "\n",
    "$$\n",
    "X' = X \\times P\n",
    "$$\n",
    "\n",
    "Ensure that $P$ is invertible. Revisit the lesson 'Matrix and Matrix Operations -> Matrix Multiplication' to understand the matrix multiplication rule and its implementation with NumPy."
   ]
  },
  {
   "cell_type": "code",
   "execution_count": 39,
   "metadata": {},
   "outputs": [],
   "source": [
    "# Create a new personal info dataframe\n",
    "personal_info_column_list = ['gender', 'age', 'income', 'family_members']\n",
    "df_pn = df[personal_info_column_list]"
   ]
  },
  {
   "cell_type": "code",
   "execution_count": 40,
   "metadata": {
    "lang": "in"
   },
   "outputs": [],
   "source": [
    "# Convert Pandas dataframe to NumPy array\n",
    "X = df_pn.to_numpy()"
   ]
  },
  {
   "cell_type": "code",
   "execution_count": 41,
   "metadata": {
    "lang": "in"
   },
   "outputs": [],
   "source": [
    "# Create a random matrix P\n",
    "rng = np.random.default_rng(seed=42)\n",
    "P = rng.random(size=(X.shape[1], X.shape[1]))"
   ]
  },
  {
   "cell_type": "code",
   "execution_count": 42,
   "metadata": {},
   "outputs": [
    {
     "data": {
      "text/plain": [
       "array([[0.77395605, 0.43887844, 0.85859792, 0.69736803],\n",
       "       [0.09417735, 0.97562235, 0.7611397 , 0.78606431],\n",
       "       [0.12811363, 0.45038594, 0.37079802, 0.92676499],\n",
       "       [0.64386512, 0.82276161, 0.4434142 , 0.22723872]])"
      ]
     },
     "execution_count": 42,
     "metadata": {},
     "output_type": "execute_result"
    }
   ],
   "source": [
    "# Display random matrix P\n",
    "P"
   ]
  },
  {
   "cell_type": "markdown",
   "metadata": {
    "lang": "en"
   },
   "source": [
    "**Instruction:** Checks if matrix $P$ *invertible*\n",
    "\n",
    "$$ PP^{-1} = P^{-1}P = I $$"
   ]
  },
  {
   "cell_type": "code",
   "execution_count": 43,
   "metadata": {
    "lang": "in"
   },
   "outputs": [
    {
     "data": {
      "text/plain": [
       "array([[ 0.41467992, -1.43783972,  0.62798546,  1.14001268],\n",
       "       [-1.06101789,  0.44219337,  0.1329549 ,  1.18425933],\n",
       "       [ 1.42362442,  1.60461607, -2.0553823 , -1.53699695],\n",
       "       [-0.11128575, -0.65813802,  1.74995517, -0.11816316]])"
      ]
     },
     "execution_count": 43,
     "metadata": {},
     "output_type": "execute_result"
    }
   ],
   "source": [
    "# Inversion P value\n",
    "P_inv = np.linalg.inv(P)\n",
    "P_inv"
   ]
  },
  {
   "cell_type": "code",
   "execution_count": 44,
   "metadata": {
    "lang": "in"
   },
   "outputs": [
    {
     "data": {
      "text/plain": [
       "True"
      ]
     },
     "execution_count": 44,
     "metadata": {},
     "output_type": "execute_result"
    }
   ],
   "source": [
    "# Check if the P matrix is invertible\n",
    "np.allclose(np.dot(P, np.linalg.inv(P)), np.dot(np.linalg.inv(P), P))"
   ]
  },
  {
   "cell_type": "markdown",
   "metadata": {},
   "source": [
    "**Answer:** Yes, the P matrix is invertible."
   ]
  },
  {
   "cell_type": "markdown",
   "metadata": {
    "lang": "en"
   },
   "source": [
    "**Question:** Can you guess the client's age or income after the transformation?"
   ]
  },
  {
   "cell_type": "code",
   "execution_count": 45,
   "metadata": {
    "lang": "in"
   },
   "outputs": [
    {
     "data": {
      "text/plain": [
       "array([[    1,    41, 49600,     1],\n",
       "       [    0,    46, 38000,     1],\n",
       "       [    0,    29, 21000,     0],\n",
       "       ...,\n",
       "       [    0,    20, 33900,     2],\n",
       "       [    1,    22, 32700,     3],\n",
       "       [    1,    28, 40600,     1]], dtype=int64)"
      ]
     },
     "execution_count": 45,
     "metadata": {},
     "output_type": "execute_result"
    }
   ],
   "source": [
    "# Data before transformation\n",
    "X"
   ]
  },
  {
   "cell_type": "code",
   "execution_count": 46,
   "metadata": {
    "lang": "in",
    "scrolled": true
   },
   "outputs": [
    {
     "data": {
      "text/plain": [
       "array([[ 6359.71527314, 22380.40467609, 18424.09074184, 46000.69669016],\n",
       "       [ 4873.29406479, 17160.36702982, 14125.78076133, 35253.45577301],\n",
       "       [ 2693.11742928,  9486.397744  ,  7808.83156024, 19484.86063067],\n",
       "       ...,\n",
       "       [ 4346.2234249 , 15289.24126492, 12586.16264392, 31433.50888552],\n",
       "       [ 4194.09324155, 14751.9910242 , 12144.02930637, 30323.88763426],\n",
       "       [ 5205.46827354, 18314.24814446, 15077.01370762, 37649.59295455]])"
      ]
     },
     "execution_count": 46,
     "metadata": {},
     "output_type": "execute_result"
    }
   ],
   "source": [
    "# Transformed data\n",
    "X_trans = X.dot(P)\n",
    "X_trans"
   ]
  },
  {
   "cell_type": "markdown",
   "metadata": {
    "lang": "en"
   },
   "source": [
    "**Answer:** The transformed data does not allow us to guess the original data."
   ]
  },
  {
   "cell_type": "markdown",
   "metadata": {},
   "source": [
    "**Question:** Is it possible to recover the original data from $X'$ when $P$ is already known? Let's verify this by performing calculations and moving $P$ to the left side of the formula above. The matrix multiplication rule will be highly useful in this process."
   ]
  },
  {
   "cell_type": "code",
   "execution_count": 47,
   "metadata": {
    "lang": "in"
   },
   "outputs": [
    {
     "data": {
      "text/plain": [
       "array([[1.00000000e+00, 4.10000000e+01, 4.96000000e+04, 1.00000000e+00],\n",
       "       [6.66555413e-13, 4.60000000e+01, 3.80000000e+04, 1.00000000e+00],\n",
       "       [3.84747671e-13, 2.90000000e+01, 2.10000000e+04, 1.41940791e-12],\n",
       "       ...,\n",
       "       [1.18077361e-12, 2.00000000e+01, 3.39000000e+04, 2.00000000e+00],\n",
       "       [1.00000000e+00, 2.20000000e+01, 3.27000000e+04, 3.00000000e+00],\n",
       "       [1.00000000e+00, 2.80000000e+01, 4.06000000e+04, 1.00000000e+00]])"
      ]
     },
     "execution_count": 47,
     "metadata": {},
     "output_type": "execute_result"
    }
   ],
   "source": [
    "# Doing data recovery\n",
    "X_rec = X_trans.dot(P_inv)\n",
    "X_rec"
   ]
  },
  {
   "cell_type": "markdown",
   "metadata": {
    "lang": "en"
   },
   "source": [
    "**Answer**: Yes, the original data can be restored by using the inverse value of matrix $P$."
   ]
  },
  {
   "cell_type": "markdown",
   "metadata": {
    "lang": "en"
   },
   "source": [
    "**Instruction**: Demonstrate all three cases for multiple clients:\n",
    "- Original data\n",
    "- Data after transformation\n",
    "- Data restored to its original state"
   ]
  },
  {
   "cell_type": "code",
   "execution_count": 48,
   "metadata": {
    "lang": "in"
   },
   "outputs": [
    {
     "data": {
      "text/html": [
       "<div>\n",
       "<style scoped>\n",
       "    .dataframe tbody tr th:only-of-type {\n",
       "        vertical-align: middle;\n",
       "    }\n",
       "\n",
       "    .dataframe tbody tr th {\n",
       "        vertical-align: top;\n",
       "    }\n",
       "\n",
       "    .dataframe thead th {\n",
       "        text-align: right;\n",
       "    }\n",
       "</style>\n",
       "<table border=\"1\" class=\"dataframe\">\n",
       "  <thead>\n",
       "    <tr style=\"text-align: right;\">\n",
       "      <th></th>\n",
       "      <th>gender</th>\n",
       "      <th>age</th>\n",
       "      <th>income</th>\n",
       "      <th>family_members</th>\n",
       "    </tr>\n",
       "  </thead>\n",
       "  <tbody>\n",
       "    <tr>\n",
       "      <th>0</th>\n",
       "      <td>1</td>\n",
       "      <td>41</td>\n",
       "      <td>49600</td>\n",
       "      <td>1</td>\n",
       "    </tr>\n",
       "    <tr>\n",
       "      <th>1</th>\n",
       "      <td>0</td>\n",
       "      <td>46</td>\n",
       "      <td>38000</td>\n",
       "      <td>1</td>\n",
       "    </tr>\n",
       "    <tr>\n",
       "      <th>2</th>\n",
       "      <td>0</td>\n",
       "      <td>29</td>\n",
       "      <td>21000</td>\n",
       "      <td>0</td>\n",
       "    </tr>\n",
       "    <tr>\n",
       "      <th>3</th>\n",
       "      <td>0</td>\n",
       "      <td>21</td>\n",
       "      <td>41700</td>\n",
       "      <td>2</td>\n",
       "    </tr>\n",
       "    <tr>\n",
       "      <th>4</th>\n",
       "      <td>1</td>\n",
       "      <td>28</td>\n",
       "      <td>26100</td>\n",
       "      <td>0</td>\n",
       "    </tr>\n",
       "  </tbody>\n",
       "</table>\n",
       "</div>"
      ],
      "text/plain": [
       "   gender  age  income  family_members\n",
       "0       1   41   49600               1\n",
       "1       0   46   38000               1\n",
       "2       0   29   21000               0\n",
       "3       0   21   41700               2\n",
       "4       1   28   26100               0"
      ]
     },
     "execution_count": 48,
     "metadata": {},
     "output_type": "execute_result"
    }
   ],
   "source": [
    "# Original data\n",
    "pd.DataFrame(X, columns=personal_info_column_list).head()"
   ]
  },
  {
   "cell_type": "code",
   "execution_count": 49,
   "metadata": {},
   "outputs": [
    {
     "data": {
      "text/html": [
       "<div>\n",
       "<style scoped>\n",
       "    .dataframe tbody tr th:only-of-type {\n",
       "        vertical-align: middle;\n",
       "    }\n",
       "\n",
       "    .dataframe tbody tr th {\n",
       "        vertical-align: top;\n",
       "    }\n",
       "\n",
       "    .dataframe thead th {\n",
       "        text-align: right;\n",
       "    }\n",
       "</style>\n",
       "<table border=\"1\" class=\"dataframe\">\n",
       "  <thead>\n",
       "    <tr style=\"text-align: right;\">\n",
       "      <th></th>\n",
       "      <th>gender</th>\n",
       "      <th>age</th>\n",
       "      <th>income</th>\n",
       "      <th>family_members</th>\n",
       "    </tr>\n",
       "  </thead>\n",
       "  <tbody>\n",
       "    <tr>\n",
       "      <th>0</th>\n",
       "      <td>6359.715273</td>\n",
       "      <td>22380.404676</td>\n",
       "      <td>18424.090742</td>\n",
       "      <td>46000.696690</td>\n",
       "    </tr>\n",
       "    <tr>\n",
       "      <th>1</th>\n",
       "      <td>4873.294065</td>\n",
       "      <td>17160.367030</td>\n",
       "      <td>14125.780761</td>\n",
       "      <td>35253.455773</td>\n",
       "    </tr>\n",
       "    <tr>\n",
       "      <th>2</th>\n",
       "      <td>2693.117429</td>\n",
       "      <td>9486.397744</td>\n",
       "      <td>7808.831560</td>\n",
       "      <td>19484.860631</td>\n",
       "    </tr>\n",
       "    <tr>\n",
       "      <th>3</th>\n",
       "      <td>5345.603937</td>\n",
       "      <td>18803.227203</td>\n",
       "      <td>15479.148373</td>\n",
       "      <td>38663.061863</td>\n",
       "    </tr>\n",
       "    <tr>\n",
       "      <th>4</th>\n",
       "      <td>3347.176735</td>\n",
       "      <td>11782.829283</td>\n",
       "      <td>9699.998942</td>\n",
       "      <td>24211.273378</td>\n",
       "    </tr>\n",
       "  </tbody>\n",
       "</table>\n",
       "</div>"
      ],
      "text/plain": [
       "        gender           age        income  family_members\n",
       "0  6359.715273  22380.404676  18424.090742    46000.696690\n",
       "1  4873.294065  17160.367030  14125.780761    35253.455773\n",
       "2  2693.117429   9486.397744   7808.831560    19484.860631\n",
       "3  5345.603937  18803.227203  15479.148373    38663.061863\n",
       "4  3347.176735  11782.829283   9699.998942    24211.273378"
      ]
     },
     "execution_count": 49,
     "metadata": {},
     "output_type": "execute_result"
    }
   ],
   "source": [
    "# Data after transformation\n",
    "pd.DataFrame(X_trans, columns=personal_info_column_list).head()"
   ]
  },
  {
   "cell_type": "code",
   "execution_count": 50,
   "metadata": {},
   "outputs": [
    {
     "data": {
      "text/html": [
       "<div>\n",
       "<style scoped>\n",
       "    .dataframe tbody tr th:only-of-type {\n",
       "        vertical-align: middle;\n",
       "    }\n",
       "\n",
       "    .dataframe tbody tr th {\n",
       "        vertical-align: top;\n",
       "    }\n",
       "\n",
       "    .dataframe thead th {\n",
       "        text-align: right;\n",
       "    }\n",
       "</style>\n",
       "<table border=\"1\" class=\"dataframe\">\n",
       "  <thead>\n",
       "    <tr style=\"text-align: right;\">\n",
       "      <th></th>\n",
       "      <th>gender</th>\n",
       "      <th>age</th>\n",
       "      <th>income</th>\n",
       "      <th>family_members</th>\n",
       "    </tr>\n",
       "  </thead>\n",
       "  <tbody>\n",
       "    <tr>\n",
       "      <th>0</th>\n",
       "      <td>1.000000e+00</td>\n",
       "      <td>41.0</td>\n",
       "      <td>49600.0</td>\n",
       "      <td>1.000000e+00</td>\n",
       "    </tr>\n",
       "    <tr>\n",
       "      <th>1</th>\n",
       "      <td>6.665554e-13</td>\n",
       "      <td>46.0</td>\n",
       "      <td>38000.0</td>\n",
       "      <td>1.000000e+00</td>\n",
       "    </tr>\n",
       "    <tr>\n",
       "      <th>2</th>\n",
       "      <td>3.847477e-13</td>\n",
       "      <td>29.0</td>\n",
       "      <td>21000.0</td>\n",
       "      <td>1.419408e-12</td>\n",
       "    </tr>\n",
       "    <tr>\n",
       "      <th>3</th>\n",
       "      <td>-2.698751e-12</td>\n",
       "      <td>21.0</td>\n",
       "      <td>41700.0</td>\n",
       "      <td>2.000000e+00</td>\n",
       "    </tr>\n",
       "    <tr>\n",
       "      <th>4</th>\n",
       "      <td>1.000000e+00</td>\n",
       "      <td>28.0</td>\n",
       "      <td>26100.0</td>\n",
       "      <td>4.917514e-13</td>\n",
       "    </tr>\n",
       "  </tbody>\n",
       "</table>\n",
       "</div>"
      ],
      "text/plain": [
       "         gender   age   income  family_members\n",
       "0  1.000000e+00  41.0  49600.0    1.000000e+00\n",
       "1  6.665554e-13  46.0  38000.0    1.000000e+00\n",
       "2  3.847477e-13  29.0  21000.0    1.419408e-12\n",
       "3 -2.698751e-12  21.0  41700.0    2.000000e+00\n",
       "4  1.000000e+00  28.0  26100.0    4.917514e-13"
      ]
     },
     "execution_count": 50,
     "metadata": {},
     "output_type": "execute_result"
    }
   ],
   "source": [
    "# Data restored to its original state\n",
    "pd.DataFrame(X_rec, columns=personal_info_column_list).head()"
   ]
  },
  {
   "cell_type": "markdown",
   "metadata": {},
   "source": [
    "**Question:** You may notice that some values are not exactly the same as the data before transformation. How come?\n",
    "\n",
    "**Answer**: The recovered data in the `gender` and `family_members` columns produce slightly different values compared to the original data.\n",
    "\n",
    "This discrepancy is likely due to floating-point arithmetic errors. When performing calculations involving numbers with vastly different scales, such as very large and very small numbers, the precision of the smaller value may be lost due to the difference in scales. This phenomenon is known as floating-point error.\n",
    "\n",
    "In our case, the different scales in each column can lead to small distortions in the recovered data, causing the slight discrepancies observed in the `gender` and `family_members` columns."
   ]
  },
  {
   "cell_type": "markdown",
   "metadata": {
    "lang": "en"
   },
   "source": [
    "## 4 Prove That Data Obfuscation Works with Linear Regression"
   ]
  },
  {
   "cell_type": "markdown",
   "metadata": {},
   "source": [
    "In this project, the regression task was initially solved using linear regression. The subsequent task was to analytically prove that the method of data obfuscation would not affect the predicted linear regression values, meaning that the predicted values would remain unchanged from their initial results. \n",
    "\n",
    "The challenge is to demonstrate that data obfuscation, represented as $X \\times P$ instead of just $X$, would not alter the predictions when using the weights $w_P$ obtained through the obfuscated data.\n",
    "\n",
    "To connect the weights $w$ and $w_P$, we can simplify the formula for $w_P$ as follows:\n",
    "$$\n",
    "w = (X^T X)^{-1} X^T y \\quad \\Rightarrow \\quad w_P = [(XP)^T XP]^{-1} (XP)^T y\n",
    "$$\n",
    "\n",
    "By calculating $w_P$, we can predict its value. The essential question here is whether $w_P$ would yield meaningful predictions and what implications it holds for the quality of the linear regression model when measured by RMSE.\n",
    "\n",
    "To explore the answers to these questions, we can refer to Appendix B (Matrix Properties) in the notebook section, which contains useful formulas for further analysis. In this section, we focus on analytical explanations and do not require any specific code implementation."
   ]
  },
  {
   "cell_type": "markdown",
   "metadata": {},
   "source": [
    "**Answer:**\n",
    "\n",
    "**Analytical Proof: Data Obfuscation Impact on Linear Regression Predictions**\n",
    "\n",
    "Given the linear regression formula for calculating weights ($w$):\n",
    "$$\n",
    "w = (X^T X)^{-1} X^T y\n",
    "$$\n",
    "\n",
    "After data obfuscation, we have $X \\times P$ instead of $X$. Therefore, the new weights ($w_P$) can be calculated as:\n",
    "$$\n",
    "w_P = [(XP)^T XP]^{-1} (XP)^T y\n",
    "$$\n",
    "\n",
    "Now, we aim to show that $w_P$ will not alter the predicted values compared to the original $w$ obtained from non-obfuscated data.\n",
    "\n",
    "**Step 1:** Expressing $w$ in terms of $w_P$ and $P$:\n",
    "\n",
    "To achieve this, we need to perform some manipulations with $w_P$:\n",
    "\n",
    "$$\n",
    "w_P = [(XP)^T XP]^{-1} (XP)^T y\n",
    "$$\n",
    "\n",
    "Expanding the matrix products:\n",
    "\n",
    "$$\n",
    "w_P = (P^T X^T X P)^{-1} P^T X^T y\n",
    "$$\n",
    "\n",
    "Since $P$ is an invertible matrix, we can rewrite the equation as:\n",
    "\n",
    "$$\n",
    "w_P = P^{-1} (X^T X)^{-1} P^{-1} P^T X^T y\n",
    "$$\n",
    "\n",
    "Noting that $P^{-1} P = I$ (the identity matrix):\n",
    "\n",
    "$$\n",
    "w_P = P^{-1} (X^T X)^{-1} X^T y\n",
    "$$\n",
    "\n",
    "Since $w = (X^T X)^{-1} X^T y$, we have:\n",
    "\n",
    "$$\n",
    "w_P = P^{-1} w\n",
    "$$\n",
    "\n",
    "**Step 2:** Implications of $w_P = P^{-1} w$:\n",
    "\n",
    "The equation $w_P = P^{-1} w$ shows that the weights obtained from the obfuscated data ($w_P$) are directly related to the weights obtained from the original data ($w$) through the inverse of the obfuscation matrix $P$. It implies that multiplying the original weights by the inverse of the obfuscation matrix ($P^{-1}$) will give us the weights ($w_P$) obtained from the obfuscated data.\n",
    "\n",
    "**Step 3:** Predictions using $w_P$:\n",
    "\n",
    "Now, let's see how the prediction using $w_P$ is related to the original prediction using $w$:\n",
    "\n",
    "Original prediction using $w$:\n",
    "$$\n",
    "\\hat{y} = Xw\n",
    "$$\n",
    "\n",
    "Prediction using $w_P$:\n",
    "$$\n",
    "\\hat{y}_P = XPw_P\n",
    "$$\n",
    "\n",
    "Substituting $w_P = P^{-1} w$:\n",
    "\n",
    "$$\n",
    "\\hat{y}_P = XP (P^{-1} w)\n",
    "$$\n",
    "\n",
    "The matrix multiplication rule allows us to simplify $XP(P^{-1})$ to $X$, yielding:\n",
    "\n",
    "$$\n",
    "\\hat{y}_P = Xw = \\hat{y}\n",
    "$$\n",
    "\n",
    "**Conclusion:**\n",
    "\n",
    "The proof shows that the predictions using the original weights ($w$) and the weights obtained from the obfuscated data ($w_P$) are exactly the same. Therefore, data obfuscation does not affect the predicted linear regression values; the predictions remain unchanged from their initial results."
   ]
  },
  {
   "cell_type": "markdown",
   "metadata": {
    "lang": "en"
   },
   "source": [
    "## 5 Test Linear Regression with Data Obfuscation"
   ]
  },
  {
   "cell_type": "markdown",
   "metadata": {},
   "source": [
    "To demonstrate that Linear Regression remains computationally effective with the selected data obfuscation transformation, we will follow this procedure:\n",
    "\n",
    "**Procedure**\n",
    "\n",
    "1. Create a square matrix $P$ from random numbers.\n",
    "2. Check if the matrix $P$ is invertible. If not, repeat from step one until an invertible matrix is obtained.\n",
    "3. Perform Linear Regression with the obfuscated data using the new feature matrix $XP$.\n",
    "\n",
    "By running Linear Regression on both the original data and the obfuscated data, we will compare the predicted values, RMSE (Root Mean Squared Error), and $R^2$ metric values to ensure that data obfuscation does not significantly affect the model's performance."
   ]
  },
  {
   "cell_type": "code",
   "execution_count": 51,
   "metadata": {},
   "outputs": [],
   "source": [
    "# Create a square matrix P\n",
    "rng = np.random.default_rng(seed=12345)\n",
    "P2 = rng.random(size=(X.shape[1], X.shape[1]))"
   ]
  },
  {
   "cell_type": "code",
   "execution_count": 52,
   "metadata": {},
   "outputs": [
    {
     "data": {
      "text/plain": [
       "True"
      ]
     },
     "execution_count": 52,
     "metadata": {},
     "output_type": "execute_result"
    }
   ],
   "source": [
    "# Check if the matrix is invertible\n",
    "np.allclose(np.dot(P2, np.linalg.inv(P2)), np.dot(np.linalg.inv(P2), P2))"
   ]
  },
  {
   "cell_type": "markdown",
   "metadata": {
    "lang": "en"
   },
   "source": [
    "**Creating a Linear Regression Model**"
   ]
  },
  {
   "cell_type": "code",
   "execution_count": 53,
   "metadata": {
    "lang": "in"
   },
   "outputs": [
    {
     "name": "stdout",
     "output_type": "stream",
     "text": [
      "[-0.97736668  2.32727489  0.01955949  0.04624147 -0.07297106]\n",
      "RMSE: 0.36\n",
      "R2: 0.66\n"
     ]
    }
   ],
   "source": [
    "# Use initial data that is scaled, but not obfuscated (no P2)\n",
    "X = df_scaled[['age', 'gender', 'income', 'family_members']].to_numpy()\n",
    "y = df_scaled['insurance_benefits'].to_numpy()\n",
    "\n",
    "X_train, X_test, y_train, y_test = train_test_split(X, y, test_size=0.3, random_state=12345)\n",
    "\n",
    "lr = MyLinearRegression()\n",
    "\n",
    "lr.fit(X_train, y_train)\n",
    "print(lr.weights)\n",
    "\n",
    "y_test_pred = lr.predict(X_test)\n",
    "eval_regressor(y_test, y_test_pred)"
   ]
  },
  {
   "cell_type": "code",
   "execution_count": 54,
   "metadata": {
    "lang": "in",
    "scrolled": true
   },
   "outputs": [
    {
     "name": "stdout",
     "output_type": "stream",
     "text": [
      "[-0.97736638 -0.05106724  0.02701989  0.05239082 -0.00431754]\n",
      "RMSE: 0.36\n",
      "R2: 0.66\n"
     ]
    }
   ],
   "source": [
    "# Using unscaled, but obfuscated (with P2) initial data\n",
    "X = df[['age', 'gender', 'income', 'family_members']].to_numpy()\n",
    "y = df['insurance_benefits'].to_numpy()\n",
    "\n",
    "X_train_P, X_test_P, y_train_P, y_test_P = train_test_split(np.dot(X, P2), y, test_size=0.3, random_state=12345)\n",
    "\n",
    "lr = MyLinearRegression()\n",
    "\n",
    "lr.fit(X_train_P, y_train_P)\n",
    "print(lr.weights)\n",
    "\n",
    "y_test_pred_P = lr.predict(X_test_P)\n",
    "eval_regressor(y_test_P, y_test_pred_P)"
   ]
  },
  {
   "cell_type": "markdown",
   "metadata": {
    "lang": "en"
   },
   "source": [
    "Accuracy scores on both models are exactly the same."
   ]
  },
  {
   "cell_type": "markdown",
   "metadata": {
    "lang": "en"
   },
   "source": [
    "## 6 Conclusion"
   ]
  },
  {
   "cell_type": "markdown",
   "metadata": {},
   "source": [
    "In this project, we explored the practical applications of linear algebra in data analysis, which proved to be highly beneficial in solving real-world problems in data science. Throughout the project, we conducted the following processes:\n",
    "\n",
    "1. Utilized the `kNearestNeighbors` (kNN) algorithm to identify clients similar to a specific client object, employing both Euclidean and Manhattan distance metrics.\n",
    "2. Investigated the impact of data scaling on the kNN algorithm, revealing that scaled data led to significantly different results compared to unscaled data.\n",
    "3. Tested the kNN algorithm's performance using training and test datasets, finding that scaled data achieved notably higher accuracy values than unscaled data.\n",
    "4. Conducted model testing with the `Linear Regression` algorithm and discovered no significant difference in accuracy scores between scaled and unscaled data.\n",
    "5. Explored data obfuscation on numeric features, employing linear algebraic methods. While the obfuscated data rendered the original data unrecognizable, it could be restored with knowledge of the inverse value of the P metric, highlighting the importance of *invertibility*.\n",
    "6. Proved analytically that obfuscated data remains usable for analysis with the `Linear Regression` algorithm by demonstrating the mathematical equivalence between the original and obfuscated data.\n",
    "7. Confirmed that `Linear Regression` performs effectively on obfuscated data, as evidenced by the matching `RMSE` and $R^2$ accuracy values.\n",
    "\n",
    "Through these processes, we have demonstrated the significance of linear algebra in data science and its ability to support various analytical tasks, including data similarity analysis, model evaluation, and data obfuscation."
   ]
  },
  {
   "cell_type": "markdown",
   "metadata": {},
   "source": [
    "==================================================================================================================="
   ]
  },
  {
   "cell_type": "markdown",
   "metadata": {
    "lang": "en"
   },
   "source": [
    "## 7 Checklist"
   ]
  },
  {
   "cell_type": "markdown",
   "metadata": {
    "lang": "en"
   },
   "source": [
    "Type 'x' to check. Then press Shift+Enter"
   ]
  },
  {
   "cell_type": "markdown",
   "metadata": {},
   "source": [
    "- [x] Jupyter Notebook is opened.\n",
    "- [x] There are no error codes.\n",
    "- [x] Cells are arranged in a logical and executed order.\n",
    "- [x] Task 1 has been completed:\n",
    "  - [x] A procedure to display k clients similar to a particular client has been implemented.\n",
    "  - [x] The procedure has been tested for all four proposed combinations.\n",
    "  - [x] Questions regarding scale/distance have been answered.\n",
    "- [x] Task 2 has been completed:\n",
    "  - [x] A random classification model has been created for all probability levels.\n",
    "  - [x] The kNN classification model has been developed and tested for both the original data and the scaled data. The F1 metrics have been considered.\n",
    "- [x] Task 3 has been completed:\n",
    "  - [x] The linear regression solution is implemented using matrix operations.\n",
    "  - [x] RMSE has been calculated for the implemented solutions.\n",
    "- [x] Task 4 has been completed:\n",
    "  - [x] Data is obfuscated with a random P matrix and is invertible.\n",
    "  - [x] The obfuscated data has been recovered, and some examples are shown.\n",
    "  - [x] There is analytical evidence that the transformation does not affect RMSE.\n",
    "  - [x] There is computational evidence that the transformation does not affect RMSE.\n",
    "- [x] There is a conclusion."
   ]
  },
  {
   "cell_type": "markdown",
   "metadata": {
    "lang": "en"
   },
   "source": [
    "## 8 Appendix\n",
    "\n",
    "### 8.1 Appendix A: Writing Formulas in Jupyter Notebooks"
   ]
  },
  {
   "cell_type": "markdown",
   "metadata": {},
   "source": [
    "You can write formulas in Jupyter Notebook using the $\\LaTeX$ markup language, which provides high-quality formatting for mathematical expressions, making them look like textbook formulas.\n",
    "\n",
    "To include a formula within text, enclose it with dollar signs (\\\\$) before and after the formula, like this: $\\frac{1}{2} \\times \\frac{3}{2} = \\frac{3}{4}$ or $y = x^2, x \\ge 1$.\n",
    "\n",
    "If the formula needs to be in a separate paragraph, use double dollar signs (\\\\$\\$) before and after the formula, like this:\n",
    "\n",
    "$$\n",
    "\\bar{x} = \\frac{1}{n}\\sum_{i=1}^{n} x_i.\n",
    "$$\n",
    "\n",
    "The $\\LaTeX$ markup language is widely used in articles, books, and texts for presenting mathematical expressions. While it may seem complex at first, the basics are easy to grasp. You can refer to the [cheatsheet](http://tug.ctan.org/info/undergradmath/undergradmath.pdf) to learn how to create common formulas using $\\LaTeX$."
   ]
  },
  {
   "cell_type": "markdown",
   "metadata": {
    "lang": "en"
   },
   "source": [
    "### 8.2 Appendix B: Matrix Properties"
   ]
  },
  {
   "cell_type": "markdown",
   "metadata": {
    "lang": "en"
   },
   "source": [
    "Matrix has various properties in Linear Algebra, some of which are listed below and can be helpful in analytical proofs for this project:\n",
    "\n",
    "<table>\n",
    "<tr>\n",
    "<td>Distribution property</td><td>$A(B+C)=AB+AC$</td>\n",
    "</tr>\n",
    "<tr>\n",
    "<td>Non-commutativity property</td><td>$AB \\neq BA$</td>\n",
    "</tr>\n",
    "<tr>\n",
    "<td>Associative property of multiplication</td><td>$(AB)C = A(BC)$</td>\n",
    "</tr>\n",
    "<tr>\n",
    "<td>Multiplication identity property</td><td>$IA = AI = A$</td>\n",
    "</tr>\n",
    "<tr>\n",
    "<td>Inverse property</td><td>$A^{-1}A = AA^{-1} = I$\n",
    "</td>\n",
    "</tr>\n",
    "<tr>\n",
    "<td>Multiplicative inverse property</td><td>$(AB)^{-1} = B^{-1}A^{-1}$</td>\n",
    "</tr>\n",
    "<tr>\n",
    "<td>Reversibility of the matrix product transposition</td><td>$(AB)^T = B^TA^T$</td>\n",
    "</tr>\n",
    "</table>"
   ]
  }
 ],
 "metadata": {
  "kernelspec": {
   "display_name": "Python 3 (ipykernel)",
   "language": "python",
   "name": "python3"
  },
  "language_info": {
   "codemirror_mode": {
    "name": "ipython",
    "version": 3
   },
   "file_extension": ".py",
   "mimetype": "text/x-python",
   "name": "python",
   "nbconvert_exporter": "python",
   "pygments_lexer": "ipython3",
   "version": "3.9.13"
  },
  "nbTranslate": {
   "displayLangs": [
    "en",
    "in"
   ],
   "hotkey": "alt-t",
   "langInMainMenu": true,
   "sourceLang": "in",
   "targetLang": "en",
   "useGoogleTranslate": true
  },
  "toc": {
   "base_numbering": 1,
   "nav_menu": {},
   "number_sections": false,
   "sideBar": true,
   "skip_h1_title": true,
   "title_cell": "Table of Contents",
   "title_sidebar": "Contents",
   "toc_cell": true,
   "toc_position": {
    "height": "calc(100% - 180px)",
    "left": "10px",
    "top": "150px",
    "width": "303.837px"
   },
   "toc_section_display": true,
   "toc_window_display": true
  }
 },
 "nbformat": 4,
 "nbformat_minor": 4
}
