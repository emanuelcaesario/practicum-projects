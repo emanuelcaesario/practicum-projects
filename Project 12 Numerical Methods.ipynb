{
 "cells": [
  {
   "cell_type": "markdown",
   "metadata": {
    "lang": "en"
   },
   "source": [
    "# Attracting New Buyers for Used Car Trading Companies"
   ]
  },
  {
   "cell_type": "markdown",
   "metadata": {
    "toc": true
   },
   "source": [
    "<h1>Table of Contents<span class=\"tocSkip\"></span></h1>\n",
    "<div class=\"toc\"><ul class=\"toc-item\"><li><span><a href=\"#1-Introduction\" data-toc-modified-id=\"1-Introduction-1\">1 Introduction</a></span><ul class=\"toc-item\"><li><span><a href=\"#1.1-Project-Description\" data-toc-modified-id=\"1.1-Project-Description-1.1\">1.1 Project Description</a></span></li><li><span><a href=\"#1.2-Data-Description\" data-toc-modified-id=\"1.2-Data-Description-1.2\">1.2 Data Description</a></span></li></ul></li><li><span><a href=\"#2-Data-Preparation\" data-toc-modified-id=\"2-Data-Preparation-2\">2 Data Preparation</a></span><ul class=\"toc-item\"><li><span><a href=\"#2.1-Import-All-Libraries\" data-toc-modified-id=\"2.1-Import-All-Libraries-2.1\">2.1 Import All Libraries</a></span></li><li><span><a href=\"#2.2-Load-and-Read-the-Data\" data-toc-modified-id=\"2.2-Load-and-Read-the-Data-2.2\">2.2 Load and Read the Data</a></span></li><li><span><a href=\"#2.3-Data-Pre-processing\" data-toc-modified-id=\"2.3-Data-Pre-processing-2.3\">2.3 Data Pre-processing</a></span><ul class=\"toc-item\"><li><span><a href=\"#2.3.1-Removing-Unnecessary-Features\" data-toc-modified-id=\"2.3.1-Removing-Unnecessary-Features-2.3.1\">2.3.1 Removing Unnecessary Features</a></span></li><li><span><a href=\"#2.3.2-Checking-the-Price-Feature-Distribution\" data-toc-modified-id=\"2.3.2-Checking-the-Price-Feature-Distribution-2.3.2\">2.3.2 Checking the <code>Price</code> Feature Distribution</a></span></li><li><span><a href=\"#2.3.3-Checking-the-RegistrationYear-Feature-Distribution\" data-toc-modified-id=\"2.3.3-Checking-the-RegistrationYear-Feature-Distribution-2.3.3\">2.3.3 Checking the <code>RegistrationYear</code> Feature Distribution</a></span></li><li><span><a href=\"#2.3.4-Handling-Zero-Values\" data-toc-modified-id=\"2.3.4-Handling-Zero-Values-2.3.4\">2.3.4 Handling Zero Values</a></span></li><li><span><a href=\"#2.3.5-Removing-Duplicates\" data-toc-modified-id=\"2.3.5-Removing-Duplicates-2.3.5\">2.3.5 Removing Duplicates</a></span></li><li><span><a href=\"#2.3.6-Handling-Missing-Values\" data-toc-modified-id=\"2.3.6-Handling-Missing-Values-2.3.6\">2.3.6 Handling Missing Values</a></span></li><li><span><a href=\"#2.3.7-Reduce-Dataset-Size\" data-toc-modified-id=\"2.3.7-Reduce-Dataset-Size-2.3.7\">2.3.7 Reduce Dataset Size</a></span></li></ul></li><li><span><a href=\"#2.4-Preparing-the-Datasets\" data-toc-modified-id=\"2.4-Preparing-the-Datasets-2.4\">2.4 Preparing the Datasets</a></span><ul class=\"toc-item\"><li><span><a href=\"#2.4.1-df_new-Dataset\" data-toc-modified-id=\"2.4.1-df_new-Dataset-2.4.1\">2.4.1 <code>df_new</code> Dataset</a></span></li><li><span><a href=\"#2.4.2-Split-the-Dataset-Into-Features-and-Targets\" data-toc-modified-id=\"2.4.2-Split-the-Dataset-Into-Features-and-Targets-2.4.2\">2.4.2 Split the Dataset Into Features and Targets</a></span></li><li><span><a href=\"#2.4.3-Features-Scaling\" data-toc-modified-id=\"2.4.3-Features-Scaling-2.4.3\">2.4.3 Features Scaling</a></span></li></ul></li></ul></li><li><span><a href=\"#3-Model-Training\" data-toc-modified-id=\"3-Model-Training-3\">3 Model Training</a></span><ul class=\"toc-item\"><li><span><a href=\"#3.1-Linear-Regression-(Base-Model)\" data-toc-modified-id=\"3.1-Linear-Regression-(Base-Model)-3.1\">3.1 Linear Regression (Base Model)</a></span></li><li><span><a href=\"#3.2-Decision-Tree-Regressor\" data-toc-modified-id=\"3.2-Decision-Tree-Regressor-3.2\">3.2 Decision Tree Regressor</a></span></li><li><span><a href=\"#3.3-Random-Forest-Regressor\" data-toc-modified-id=\"3.3-Random-Forest-Regressor-3.3\">3.3 Random Forest Regressor</a></span></li><li><span><a href=\"#3.4-XGBoost-Regressor\" data-toc-modified-id=\"3.4-XGBoost-Regressor-3.4\">3.4 XGBoost Regressor</a></span><ul class=\"toc-item\"><li><span><a href=\"#3.4.1-Using-Definitive-Parameter-Numbers\" data-toc-modified-id=\"3.4.1-Using-Definitive-Parameter-Numbers-3.4.1\">3.4.1 Using Definitive Parameter Numbers</a></span></li><li><span><a href=\"#3.4.2-Using-Random-Parameter-Numbers\" data-toc-modified-id=\"3.4.2-Using-Random-Parameter-Numbers-3.4.2\">3.4.2 Using Random Parameter Numbers</a></span></li><li><span><a href=\"#3.4.3-Testing-on-the-Test-Dataset\" data-toc-modified-id=\"3.4.3-Testing-on-the-Test-Dataset-3.4.3\">3.4.3 Testing on the Test Dataset</a></span></li></ul></li><li><span><a href=\"#3.5-LightGBM-Regressor\" data-toc-modified-id=\"3.5-LightGBM-Regressor-3.5\">3.5 LightGBM Regressor</a></span><ul class=\"toc-item\"><li><span><a href=\"#3.5.1-Using-Definitive-Parameter-Numbers\" data-toc-modified-id=\"3.5.1-Using-Definitive-Parameter-Numbers-3.5.1\">3.5.1 Using Definitive Parameter Numbers</a></span></li><li><span><a href=\"#3.5.2-Using-Random-Parameter-Numbers\" data-toc-modified-id=\"3.5.2-Using-Random-Parameter-Numbers-3.5.2\">3.5.2 Using Random Parameter Numbers</a></span></li><li><span><a href=\"#3.5.3-Testing-on-the-Test-Dataset\" data-toc-modified-id=\"3.5.3-Testing-on-the-Test-Dataset-3.5.3\">3.5.3 Testing on the Test Dataset</a></span></li></ul></li><li><span><a href=\"#3.6-CatBoost-Regressor\" data-toc-modified-id=\"3.6-CatBoost-Regressor-3.6\">3.6 CatBoost Regressor</a></span><ul class=\"toc-item\"><li><span><a href=\"#3.6.1-Using-Definitive-Parameter-Numbers\" data-toc-modified-id=\"3.6.1-Using-Definitive-Parameter-Numbers-3.6.1\">3.6.1 Using Definitive Parameter Numbers</a></span></li><li><span><a href=\"#3.6.2-Using-Random-Parameter-Numbers\" data-toc-modified-id=\"3.6.2-Using-Random-Parameter-Numbers-3.6.2\">3.6.2 Using Random Parameter Numbers</a></span></li><li><span><a href=\"#3.6.3-Testing-on-the-Test-Dataset\" data-toc-modified-id=\"3.6.3-Testing-on-the-Test-Dataset-3.6.3\">3.6.3 Testing on the Test Dataset</a></span></li></ul></li></ul></li><li><span><a href=\"#4-Models-Analysis\" data-toc-modified-id=\"4-Models-Analysis-4\">4 Models Analysis</a></span></li></ul></div>"
   ]
  },
  {
   "cell_type": "markdown",
   "metadata": {
    "lang": "en"
   },
   "source": [
    "## 1 Introduction"
   ]
  },
  {
   "cell_type": "markdown",
   "metadata": {},
   "source": [
    "### 1.1 Project Description\n",
    "\n",
    "Our task involves assisting Rusty Bargain, a company engaged in buying and selling used cars, with the development of an app to attract new buyers. The app will enable users who wish to sell their cars to swiftly ascertain their market value.\n",
    "\n",
    "To achieve this, we have access to historical data, technical specifications of various vehicles, different model versions, and their corresponding prices. Our primary objective is to create a model that accurately predicts the market value of these cars.\n",
    "\n",
    "Key factors of interest to Rusty Bargain include:\n",
    "- the prediction quality\n",
    "- the speed of the prediction model\n",
    "- the time required for model training"
   ]
  },
  {
   "cell_type": "markdown",
   "metadata": {},
   "source": [
    "### 1.2 Data Description\n",
    "\n",
    "The datasets are stored in the file `car_data.csv`.\n",
    "\n",
    "**Features**\n",
    "- `DateCrawled`: The date when the profile was downloaded from the database.\n",
    "- `VehicleType`: Vehicle body type.\n",
    "- `RegistrationYear`: Vehicle registration year.\n",
    "- `Gearbox`: Gearbox type.\n",
    "- `Power`: Power of the vehicle (in horsepower).\n",
    "- `Model`: Vehicle model.\n",
    "- `Mileage`: Distance traveled by the vehicle (measured in kilometers based on certain regional datasets).\n",
    "- `RegistrationMonth`: Month of vehicle registration.\n",
    "- `FuelType`: Fuel type used by the vehicle.\n",
    "- `Brand`: Vehicle brand.\n",
    "- `NotRepaired`: Indicates whether the vehicle has been repaired before.\n",
    "- `DateCreated`: Profile creation date.\n",
    "- `NumberOfPictures`: Number of vehicle images available.\n",
    "- `PostalCode`: Postal code of the profile owner (user).\n",
    "- `LastSeen`: The date of the user's last activity.\n",
    "\n",
    "**Target**\n",
    "- `Price`: Price of the vehicle (in Euros)."
   ]
  },
  {
   "cell_type": "markdown",
   "metadata": {
    "lang": "en"
   },
   "source": [
    "## 2 Data Preparation"
   ]
  },
  {
   "cell_type": "markdown",
   "metadata": {
    "lang": "en"
   },
   "source": [
    "### 2.1 Import All Libraries"
   ]
  },
  {
   "cell_type": "code",
   "execution_count": 81,
   "metadata": {},
   "outputs": [],
   "source": [
    "# Import all libraries\n",
    "import pandas as pd\n",
    "import numpy as np\n",
    "import matplotlib.pyplot as plt\n",
    "import seaborn as sns\n",
    "\n",
    "from sklearn.linear_model import LinearRegression\n",
    "from sklearn.tree import DecisionTreeRegressor\n",
    "from sklearn.ensemble import RandomForestRegressor\n",
    "from sklearn.model_selection import RandomizedSearchCV\n",
    "from sklearn.model_selection import train_test_split\n",
    "from sklearn.model_selection import cross_val_score\n",
    "from sklearn.model_selection import KFold\n",
    "from sklearn.preprocessing import StandardScaler\n",
    "from sklearn.preprocessing import OneHotEncoder\n",
    "from sklearn.model_selection import GridSearchCV\n",
    "from sklearn.metrics import make_scorer, mean_squared_error\n",
    "from scipy.stats import randint as sp_randInt\n",
    "from scipy.stats import uniform as sp_randFloat\n",
    "from sklearn.pipeline import Pipeline\n",
    "\n",
    "\n",
    "from catboost import CatBoostRegressor, Pool\n",
    "from lightgbm import LGBMRegressor\n",
    "from xgboost import XGBRegressor\n",
    "\n",
    "import warnings\n",
    "warnings.filterwarnings('ignore')\n"
   ]
  },
  {
   "cell_type": "markdown",
   "metadata": {
    "lang": "en"
   },
   "source": [
    "### 2.2 Load and Read the Data"
   ]
  },
  {
   "cell_type": "code",
   "execution_count": 3,
   "metadata": {},
   "outputs": [],
   "source": [
    "# Load the data\n",
    "try:\n",
    "    df = pd.read_csv('/datasets/car_data.csv')\n",
    "except:\n",
    "    df = pd.read_csv('car_data.csv')"
   ]
  },
  {
   "cell_type": "code",
   "execution_count": 4,
   "metadata": {
    "lang": "in"
   },
   "outputs": [],
   "source": [
    "# Create a function to read the data\n",
    "# We will read the head(), shape, info(), describe(), duplicated(), and isna().sum() of the data\n",
    "def data_info(df):\n",
    "    print('Data Head')\n",
    "    display(df.head())\n",
    "    print('='*100)\n",
    "    print()\n",
    "    \n",
    "    print('Column Names')\n",
    "    display(df.columns)\n",
    "    \n",
    "    print('Data Shape')\n",
    "    display(df.shape)\n",
    "    print('='*100)\n",
    "    print()\n",
    "    \n",
    "    print('Data Info')\n",
    "    display(df.info())\n",
    "    print('='*100)\n",
    "    print()\n",
    "    \n",
    "    print('Data Describe')\n",
    "    display(df.describe())\n",
    "    print('='*100)\n",
    "    print()\n",
    "    \n",
    "    print('Data Duplicated')\n",
    "    display(df.duplicated().sum())\n",
    "    print('='*100)\n",
    "    print()\n",
    "    \n",
    "    print('Missing Values')\n",
    "    display(df.isna().sum())\n",
    "    print('*'*100)"
   ]
  },
  {
   "cell_type": "code",
   "execution_count": 5,
   "metadata": {
    "lang": "in",
    "scrolled": false
   },
   "outputs": [
    {
     "name": "stdout",
     "output_type": "stream",
     "text": [
      "Data Head\n"
     ]
    },
    {
     "data": {
      "text/html": [
       "<div>\n",
       "<style scoped>\n",
       "    .dataframe tbody tr th:only-of-type {\n",
       "        vertical-align: middle;\n",
       "    }\n",
       "\n",
       "    .dataframe tbody tr th {\n",
       "        vertical-align: top;\n",
       "    }\n",
       "\n",
       "    .dataframe thead th {\n",
       "        text-align: right;\n",
       "    }\n",
       "</style>\n",
       "<table border=\"1\" class=\"dataframe\">\n",
       "  <thead>\n",
       "    <tr style=\"text-align: right;\">\n",
       "      <th></th>\n",
       "      <th>DateCrawled</th>\n",
       "      <th>Price</th>\n",
       "      <th>VehicleType</th>\n",
       "      <th>RegistrationYear</th>\n",
       "      <th>Gearbox</th>\n",
       "      <th>Power</th>\n",
       "      <th>Model</th>\n",
       "      <th>Mileage</th>\n",
       "      <th>RegistrationMonth</th>\n",
       "      <th>FuelType</th>\n",
       "      <th>Brand</th>\n",
       "      <th>NotRepaired</th>\n",
       "      <th>DateCreated</th>\n",
       "      <th>NumberOfPictures</th>\n",
       "      <th>PostalCode</th>\n",
       "      <th>LastSeen</th>\n",
       "    </tr>\n",
       "  </thead>\n",
       "  <tbody>\n",
       "    <tr>\n",
       "      <th>0</th>\n",
       "      <td>24/03/2016 11:52</td>\n",
       "      <td>480</td>\n",
       "      <td>NaN</td>\n",
       "      <td>1993</td>\n",
       "      <td>manual</td>\n",
       "      <td>0</td>\n",
       "      <td>golf</td>\n",
       "      <td>150000</td>\n",
       "      <td>0</td>\n",
       "      <td>petrol</td>\n",
       "      <td>volkswagen</td>\n",
       "      <td>NaN</td>\n",
       "      <td>24/03/2016 00:00</td>\n",
       "      <td>0</td>\n",
       "      <td>70435</td>\n",
       "      <td>07/04/2016 03:16</td>\n",
       "    </tr>\n",
       "    <tr>\n",
       "      <th>1</th>\n",
       "      <td>24/03/2016 10:58</td>\n",
       "      <td>18300</td>\n",
       "      <td>coupe</td>\n",
       "      <td>2011</td>\n",
       "      <td>manual</td>\n",
       "      <td>190</td>\n",
       "      <td>NaN</td>\n",
       "      <td>125000</td>\n",
       "      <td>5</td>\n",
       "      <td>gasoline</td>\n",
       "      <td>audi</td>\n",
       "      <td>yes</td>\n",
       "      <td>24/03/2016 00:00</td>\n",
       "      <td>0</td>\n",
       "      <td>66954</td>\n",
       "      <td>07/04/2016 01:46</td>\n",
       "    </tr>\n",
       "    <tr>\n",
       "      <th>2</th>\n",
       "      <td>14/03/2016 12:52</td>\n",
       "      <td>9800</td>\n",
       "      <td>suv</td>\n",
       "      <td>2004</td>\n",
       "      <td>auto</td>\n",
       "      <td>163</td>\n",
       "      <td>grand</td>\n",
       "      <td>125000</td>\n",
       "      <td>8</td>\n",
       "      <td>gasoline</td>\n",
       "      <td>jeep</td>\n",
       "      <td>NaN</td>\n",
       "      <td>14/03/2016 00:00</td>\n",
       "      <td>0</td>\n",
       "      <td>90480</td>\n",
       "      <td>05/04/2016 12:47</td>\n",
       "    </tr>\n",
       "    <tr>\n",
       "      <th>3</th>\n",
       "      <td>17/03/2016 16:54</td>\n",
       "      <td>1500</td>\n",
       "      <td>small</td>\n",
       "      <td>2001</td>\n",
       "      <td>manual</td>\n",
       "      <td>75</td>\n",
       "      <td>golf</td>\n",
       "      <td>150000</td>\n",
       "      <td>6</td>\n",
       "      <td>petrol</td>\n",
       "      <td>volkswagen</td>\n",
       "      <td>no</td>\n",
       "      <td>17/03/2016 00:00</td>\n",
       "      <td>0</td>\n",
       "      <td>91074</td>\n",
       "      <td>17/03/2016 17:40</td>\n",
       "    </tr>\n",
       "    <tr>\n",
       "      <th>4</th>\n",
       "      <td>31/03/2016 17:25</td>\n",
       "      <td>3600</td>\n",
       "      <td>small</td>\n",
       "      <td>2008</td>\n",
       "      <td>manual</td>\n",
       "      <td>69</td>\n",
       "      <td>fabia</td>\n",
       "      <td>90000</td>\n",
       "      <td>7</td>\n",
       "      <td>gasoline</td>\n",
       "      <td>skoda</td>\n",
       "      <td>no</td>\n",
       "      <td>31/03/2016 00:00</td>\n",
       "      <td>0</td>\n",
       "      <td>60437</td>\n",
       "      <td>06/04/2016 10:17</td>\n",
       "    </tr>\n",
       "  </tbody>\n",
       "</table>\n",
       "</div>"
      ],
      "text/plain": [
       "        DateCrawled  Price VehicleType  RegistrationYear Gearbox  Power  \\\n",
       "0  24/03/2016 11:52    480         NaN              1993  manual      0   \n",
       "1  24/03/2016 10:58  18300       coupe              2011  manual    190   \n",
       "2  14/03/2016 12:52   9800         suv              2004    auto    163   \n",
       "3  17/03/2016 16:54   1500       small              2001  manual     75   \n",
       "4  31/03/2016 17:25   3600       small              2008  manual     69   \n",
       "\n",
       "   Model  Mileage  RegistrationMonth  FuelType       Brand NotRepaired  \\\n",
       "0   golf   150000                  0    petrol  volkswagen         NaN   \n",
       "1    NaN   125000                  5  gasoline        audi         yes   \n",
       "2  grand   125000                  8  gasoline        jeep         NaN   \n",
       "3   golf   150000                  6    petrol  volkswagen          no   \n",
       "4  fabia    90000                  7  gasoline       skoda          no   \n",
       "\n",
       "        DateCreated  NumberOfPictures  PostalCode          LastSeen  \n",
       "0  24/03/2016 00:00                 0       70435  07/04/2016 03:16  \n",
       "1  24/03/2016 00:00                 0       66954  07/04/2016 01:46  \n",
       "2  14/03/2016 00:00                 0       90480  05/04/2016 12:47  \n",
       "3  17/03/2016 00:00                 0       91074  17/03/2016 17:40  \n",
       "4  31/03/2016 00:00                 0       60437  06/04/2016 10:17  "
      ]
     },
     "metadata": {},
     "output_type": "display_data"
    },
    {
     "name": "stdout",
     "output_type": "stream",
     "text": [
      "====================================================================================================\n",
      "\n",
      "Column Names\n"
     ]
    },
    {
     "data": {
      "text/plain": [
       "Index(['DateCrawled', 'Price', 'VehicleType', 'RegistrationYear', 'Gearbox',\n",
       "       'Power', 'Model', 'Mileage', 'RegistrationMonth', 'FuelType', 'Brand',\n",
       "       'NotRepaired', 'DateCreated', 'NumberOfPictures', 'PostalCode',\n",
       "       'LastSeen'],\n",
       "      dtype='object')"
      ]
     },
     "metadata": {},
     "output_type": "display_data"
    },
    {
     "name": "stdout",
     "output_type": "stream",
     "text": [
      "Data Shape\n"
     ]
    },
    {
     "data": {
      "text/plain": [
       "(354369, 16)"
      ]
     },
     "metadata": {},
     "output_type": "display_data"
    },
    {
     "name": "stdout",
     "output_type": "stream",
     "text": [
      "====================================================================================================\n",
      "\n",
      "Data Info\n",
      "<class 'pandas.core.frame.DataFrame'>\n",
      "RangeIndex: 354369 entries, 0 to 354368\n",
      "Data columns (total 16 columns):\n",
      " #   Column             Non-Null Count   Dtype \n",
      "---  ------             --------------   ----- \n",
      " 0   DateCrawled        354369 non-null  object\n",
      " 1   Price              354369 non-null  int64 \n",
      " 2   VehicleType        316879 non-null  object\n",
      " 3   RegistrationYear   354369 non-null  int64 \n",
      " 4   Gearbox            334536 non-null  object\n",
      " 5   Power              354369 non-null  int64 \n",
      " 6   Model              334664 non-null  object\n",
      " 7   Mileage            354369 non-null  int64 \n",
      " 8   RegistrationMonth  354369 non-null  int64 \n",
      " 9   FuelType           321474 non-null  object\n",
      " 10  Brand              354369 non-null  object\n",
      " 11  NotRepaired        283215 non-null  object\n",
      " 12  DateCreated        354369 non-null  object\n",
      " 13  NumberOfPictures   354369 non-null  int64 \n",
      " 14  PostalCode         354369 non-null  int64 \n",
      " 15  LastSeen           354369 non-null  object\n",
      "dtypes: int64(7), object(9)\n",
      "memory usage: 43.3+ MB\n"
     ]
    },
    {
     "data": {
      "text/plain": [
       "None"
      ]
     },
     "metadata": {},
     "output_type": "display_data"
    },
    {
     "name": "stdout",
     "output_type": "stream",
     "text": [
      "====================================================================================================\n",
      "\n",
      "Data Describe\n"
     ]
    },
    {
     "data": {
      "text/html": [
       "<div>\n",
       "<style scoped>\n",
       "    .dataframe tbody tr th:only-of-type {\n",
       "        vertical-align: middle;\n",
       "    }\n",
       "\n",
       "    .dataframe tbody tr th {\n",
       "        vertical-align: top;\n",
       "    }\n",
       "\n",
       "    .dataframe thead th {\n",
       "        text-align: right;\n",
       "    }\n",
       "</style>\n",
       "<table border=\"1\" class=\"dataframe\">\n",
       "  <thead>\n",
       "    <tr style=\"text-align: right;\">\n",
       "      <th></th>\n",
       "      <th>Price</th>\n",
       "      <th>RegistrationYear</th>\n",
       "      <th>Power</th>\n",
       "      <th>Mileage</th>\n",
       "      <th>RegistrationMonth</th>\n",
       "      <th>NumberOfPictures</th>\n",
       "      <th>PostalCode</th>\n",
       "    </tr>\n",
       "  </thead>\n",
       "  <tbody>\n",
       "    <tr>\n",
       "      <th>count</th>\n",
       "      <td>354369.000000</td>\n",
       "      <td>354369.000000</td>\n",
       "      <td>354369.000000</td>\n",
       "      <td>354369.000000</td>\n",
       "      <td>354369.000000</td>\n",
       "      <td>354369.0</td>\n",
       "      <td>354369.000000</td>\n",
       "    </tr>\n",
       "    <tr>\n",
       "      <th>mean</th>\n",
       "      <td>4416.656776</td>\n",
       "      <td>2004.234448</td>\n",
       "      <td>110.094337</td>\n",
       "      <td>128211.172535</td>\n",
       "      <td>5.714645</td>\n",
       "      <td>0.0</td>\n",
       "      <td>50508.689087</td>\n",
       "    </tr>\n",
       "    <tr>\n",
       "      <th>std</th>\n",
       "      <td>4514.158514</td>\n",
       "      <td>90.227958</td>\n",
       "      <td>189.850405</td>\n",
       "      <td>37905.341530</td>\n",
       "      <td>3.726421</td>\n",
       "      <td>0.0</td>\n",
       "      <td>25783.096248</td>\n",
       "    </tr>\n",
       "    <tr>\n",
       "      <th>min</th>\n",
       "      <td>0.000000</td>\n",
       "      <td>1000.000000</td>\n",
       "      <td>0.000000</td>\n",
       "      <td>5000.000000</td>\n",
       "      <td>0.000000</td>\n",
       "      <td>0.0</td>\n",
       "      <td>1067.000000</td>\n",
       "    </tr>\n",
       "    <tr>\n",
       "      <th>25%</th>\n",
       "      <td>1050.000000</td>\n",
       "      <td>1999.000000</td>\n",
       "      <td>69.000000</td>\n",
       "      <td>125000.000000</td>\n",
       "      <td>3.000000</td>\n",
       "      <td>0.0</td>\n",
       "      <td>30165.000000</td>\n",
       "    </tr>\n",
       "    <tr>\n",
       "      <th>50%</th>\n",
       "      <td>2700.000000</td>\n",
       "      <td>2003.000000</td>\n",
       "      <td>105.000000</td>\n",
       "      <td>150000.000000</td>\n",
       "      <td>6.000000</td>\n",
       "      <td>0.0</td>\n",
       "      <td>49413.000000</td>\n",
       "    </tr>\n",
       "    <tr>\n",
       "      <th>75%</th>\n",
       "      <td>6400.000000</td>\n",
       "      <td>2008.000000</td>\n",
       "      <td>143.000000</td>\n",
       "      <td>150000.000000</td>\n",
       "      <td>9.000000</td>\n",
       "      <td>0.0</td>\n",
       "      <td>71083.000000</td>\n",
       "    </tr>\n",
       "    <tr>\n",
       "      <th>max</th>\n",
       "      <td>20000.000000</td>\n",
       "      <td>9999.000000</td>\n",
       "      <td>20000.000000</td>\n",
       "      <td>150000.000000</td>\n",
       "      <td>12.000000</td>\n",
       "      <td>0.0</td>\n",
       "      <td>99998.000000</td>\n",
       "    </tr>\n",
       "  </tbody>\n",
       "</table>\n",
       "</div>"
      ],
      "text/plain": [
       "               Price  RegistrationYear          Power        Mileage  \\\n",
       "count  354369.000000     354369.000000  354369.000000  354369.000000   \n",
       "mean     4416.656776       2004.234448     110.094337  128211.172535   \n",
       "std      4514.158514         90.227958     189.850405   37905.341530   \n",
       "min         0.000000       1000.000000       0.000000    5000.000000   \n",
       "25%      1050.000000       1999.000000      69.000000  125000.000000   \n",
       "50%      2700.000000       2003.000000     105.000000  150000.000000   \n",
       "75%      6400.000000       2008.000000     143.000000  150000.000000   \n",
       "max     20000.000000       9999.000000   20000.000000  150000.000000   \n",
       "\n",
       "       RegistrationMonth  NumberOfPictures     PostalCode  \n",
       "count      354369.000000          354369.0  354369.000000  \n",
       "mean            5.714645               0.0   50508.689087  \n",
       "std             3.726421               0.0   25783.096248  \n",
       "min             0.000000               0.0    1067.000000  \n",
       "25%             3.000000               0.0   30165.000000  \n",
       "50%             6.000000               0.0   49413.000000  \n",
       "75%             9.000000               0.0   71083.000000  \n",
       "max            12.000000               0.0   99998.000000  "
      ]
     },
     "metadata": {},
     "output_type": "display_data"
    },
    {
     "name": "stdout",
     "output_type": "stream",
     "text": [
      "====================================================================================================\n",
      "\n",
      "Data Duplicated\n"
     ]
    },
    {
     "data": {
      "text/plain": [
       "262"
      ]
     },
     "metadata": {},
     "output_type": "display_data"
    },
    {
     "name": "stdout",
     "output_type": "stream",
     "text": [
      "====================================================================================================\n",
      "\n",
      "Missing Values\n"
     ]
    },
    {
     "data": {
      "text/plain": [
       "DateCrawled              0\n",
       "Price                    0\n",
       "VehicleType          37490\n",
       "RegistrationYear         0\n",
       "Gearbox              19833\n",
       "Power                    0\n",
       "Model                19705\n",
       "Mileage                  0\n",
       "RegistrationMonth        0\n",
       "FuelType             32895\n",
       "Brand                    0\n",
       "NotRepaired          71154\n",
       "DateCreated              0\n",
       "NumberOfPictures         0\n",
       "PostalCode               0\n",
       "LastSeen                 0\n",
       "dtype: int64"
      ]
     },
     "metadata": {},
     "output_type": "display_data"
    },
    {
     "name": "stdout",
     "output_type": "stream",
     "text": [
      "****************************************************************************************************\n"
     ]
    }
   ],
   "source": [
    "# Apply the function and check the content and quality of the data\n",
    "data_info(df)"
   ]
  },
  {
   "cell_type": "code",
   "execution_count": 6,
   "metadata": {
    "lang": "in"
   },
   "outputs": [
    {
     "name": "stdout",
     "output_type": "stream",
     "text": [
      "features VehicleType 8\n",
      "features Gearbox 2\n",
      "features Model 250\n",
      "features FuelType 7\n",
      "features Brand 40\n",
      "features NotRepaired 2\n"
     ]
    }
   ],
   "source": [
    "# Checking the unique value in the categorical column\n",
    "categorical_features = [\n",
    "    'VehicleType',\n",
    "    'Gearbox',\n",
    "    'Model',\n",
    "    'FuelType',\n",
    "    'Brand',\n",
    "    'NotRepaired',\n",
    "]\n",
    "\n",
    "for feature in categorical_features:\n",
    "    print(f'features {feature} {len(df[feature].value_counts())}')"
   ]
  },
  {
   "cell_type": "code",
   "execution_count": 7,
   "metadata": {
    "lang": "in"
   },
   "outputs": [
    {
     "name": "stdout",
     "output_type": "stream",
     "text": [
      "Model\n"
     ]
    },
    {
     "data": {
      "text/plain": [
       "array(['golf', nan, 'grand', 'fabia', '3er', '2_reihe', 'other', 'c_max',\n",
       "       '3_reihe', 'passat', 'navara', 'ka', 'polo', 'twingo', 'a_klasse',\n",
       "       'scirocco', '5er', 'meriva', 'arosa', 'c4', 'civic', 'transporter',\n",
       "       'punto', 'e_klasse', 'clio', 'kadett', 'kangoo', 'corsa', 'one',\n",
       "       'fortwo', '1er', 'b_klasse', 'signum', 'astra', 'a8', 'jetta',\n",
       "       'fiesta', 'c_klasse', 'micra', 'vito', 'sprinter', '156', 'escort',\n",
       "       'forester', 'xc_reihe', 'scenic', 'a4', 'a1', 'insignia', 'combo',\n",
       "       'focus', 'tt', 'a6', 'jazz', 'omega', 'slk', '7er', '80', '147',\n",
       "       '100', 'z_reihe', 'sportage', 'sorento', 'v40', 'ibiza', 'mustang',\n",
       "       'eos', 'touran', 'getz', 'a3', 'almera', 'megane', 'lupo', 'r19',\n",
       "       'zafira', 'caddy', 'mondeo', 'cordoba', 'colt', 'impreza',\n",
       "       'vectra', 'berlingo', 'tiguan', 'i_reihe', 'espace', 'sharan',\n",
       "       '6_reihe', 'panda', 'up', 'seicento', 'ceed', '5_reihe', 'yeti',\n",
       "       'octavia', 'mii', 'rx_reihe', '6er', 'modus', 'fox', 'matiz',\n",
       "       'beetle', 'c1', 'rio', 'touareg', 'logan', 'spider', 'cuore',\n",
       "       's_max', 'a2', 'galaxy', 'c3', 'viano', 's_klasse', '1_reihe',\n",
       "       'avensis', 'roomster', 'sl', 'kaefer', 'santa', 'cooper', 'leon',\n",
       "       '4_reihe', 'a5', '500', 'laguna', 'ptcruiser', 'clk', 'primera',\n",
       "       'x_reihe', 'exeo', '159', 'transit', 'juke', 'qashqai', 'carisma',\n",
       "       'accord', 'corolla', 'lanos', 'phaeton', 'verso', 'swift', 'rav',\n",
       "       'picanto', 'boxster', 'kalos', 'superb', 'stilo', 'alhambra',\n",
       "       'mx_reihe', 'roadster', 'ypsilon', 'cayenne', 'galant', 'justy',\n",
       "       '90', 'sirion', 'crossfire', 'agila', 'duster', 'cr_reihe', 'v50',\n",
       "       'c_reihe', 'v_klasse', 'm_klasse', 'yaris', 'c5', 'aygo', 'cc',\n",
       "       'carnival', 'fusion', '911', 'bora', 'forfour', 'm_reihe', 'cl',\n",
       "       'tigra', '300c', 'spark', 'v70', 'kuga', 'x_type', 'ducato',\n",
       "       's_type', 'x_trail', 'toledo', 'altea', 'voyager', 'calibra',\n",
       "       'bravo', 'antara', 'tucson', 'citigo', 'jimny', 'wrangler',\n",
       "       'lybra', 'q7', 'lancer', 'captiva', 'c2', 'discovery',\n",
       "       'freelander', 'sandero', 'note', '900', 'cherokee', 'clubman',\n",
       "       'samara', 'defender', '601', 'cx_reihe', 'legacy', 'pajero',\n",
       "       'auris', 'niva', 's60', 'nubira', 'vivaro', 'g_klasse', 'lodgy',\n",
       "       '850', 'range_rover', 'q3', 'serie_2', 'glk', 'charade', 'croma',\n",
       "       'outlander', 'doblo', 'musa', 'move', '9000', 'v60', '145', 'aveo',\n",
       "       '200', 'b_max', 'range_rover_sport', 'terios', 'rangerover', 'q5',\n",
       "       'range_rover_evoque', 'materia', 'delta', 'gl', 'kalina', 'amarok',\n",
       "       'elefantino', 'i3', 'kappa', 'serie_3', 'serie_1'], dtype=object)"
      ]
     },
     "metadata": {},
     "output_type": "display_data"
    },
    {
     "name": "stdout",
     "output_type": "stream",
     "text": [
      "==================================================\n",
      "Brand\n"
     ]
    },
    {
     "data": {
      "text/plain": [
       "array(['volkswagen', 'audi', 'jeep', 'skoda', 'bmw', 'peugeot', 'ford',\n",
       "       'mazda', 'nissan', 'renault', 'mercedes_benz', 'opel', 'seat',\n",
       "       'citroen', 'honda', 'fiat', 'mini', 'smart', 'hyundai',\n",
       "       'sonstige_autos', 'alfa_romeo', 'subaru', 'volvo', 'mitsubishi',\n",
       "       'kia', 'suzuki', 'lancia', 'toyota', 'chevrolet', 'dacia',\n",
       "       'daihatsu', 'trabant', 'saab', 'chrysler', 'jaguar', 'daewoo',\n",
       "       'porsche', 'rover', 'land_rover', 'lada'], dtype=object)"
      ]
     },
     "metadata": {},
     "output_type": "display_data"
    }
   ],
   "source": [
    "# Check details on the two columns that have the most unique values\n",
    "print('Model')\n",
    "display(df['Model'].unique())\n",
    "print('='*50)\n",
    "print('Brand')\n",
    "display(df['Brand'].unique())"
   ]
  },
  {
   "cell_type": "markdown",
   "metadata": {},
   "source": [
    "**Findings:**\n",
    "\n",
    "- The dataset contains 16 columns and 354,369 rows of data.\n",
    "- The first 5 lines of data show some missing values.\n",
    "- There are no errors in the column names, and the writing format is consistent.\n",
    "- The dataset consumes 43.4 MB of memory, which could potentially be reduced to improve learning process efficiency.\n",
    "- The data types in columns containing dates, such as `DateCrawled`, `DateCreated`, and `LastSeen`, do not always match the data content. These columns are not relevant for machine learning and should be deleted.\n",
    "- The `Price` column exhibits a significant difference between the mean and median, suggesting the presence of outliers that need to be addressed.\n",
    "- Some fields have values as low as 0, including `Price`, `Power`, and `RegistrationMonth`. The reasons behind these 0 values need to be investigated and resolved.\n",
    "- The `RegistrationYear` field has a maximum value of 9999, indicating an obvious input error that needs correction.\n",
    "- The `NumberOfPictures` field contains only the value 0, making it irrelevant and can be removed.\n",
    "- The `Model` and `Brand` categorical fields contain a large number of unique values, which would result in a large number of columns after one-hot encoding (OHE). Alternative approaches should be considered for handling these categorical data without OHE.\n",
    "- There are 262 rows of duplicate data, which can be safely removed.\n",
    "- Missing values are prevalent across different columns and need to be addressed.\n",
    "- More than 10% of rows have missing values in the `VehicleType` column, and more than 20% in the `NotRepaired` column. These missing values require alternative handling methods."
   ]
  },
  {
   "cell_type": "markdown",
   "metadata": {
    "lang": "in"
   },
   "source": [
    "### 2.3 Data Pre-processing"
   ]
  },
  {
   "cell_type": "markdown",
   "metadata": {
    "lang": "en"
   },
   "source": [
    "We will address each problem in the dataset's quality one by one."
   ]
  },
  {
   "cell_type": "markdown",
   "metadata": {
    "lang": "en"
   },
   "source": [
    "#### 2.3.1 Removing Unnecessary Features"
   ]
  },
  {
   "cell_type": "markdown",
   "metadata": {},
   "source": [
    "We consider some of the columns or features as unnecessary for the machine learning process, namely `DateCrawled`, `RegistrationMonth`, `DateCreated`, `NumberOfPictures`, `LastSeen`, and `PostalCode`. These features may not have a strong correlation with the target feature (`Price`) or already have suitable substitutions, thus they can potentially distract the machine learning process."
   ]
  },
  {
   "cell_type": "code",
   "execution_count": 8,
   "metadata": {
    "lang": "in"
   },
   "outputs": [
    {
     "data": {
      "text/html": [
       "<div>\n",
       "<style scoped>\n",
       "    .dataframe tbody tr th:only-of-type {\n",
       "        vertical-align: middle;\n",
       "    }\n",
       "\n",
       "    .dataframe tbody tr th {\n",
       "        vertical-align: top;\n",
       "    }\n",
       "\n",
       "    .dataframe thead th {\n",
       "        text-align: right;\n",
       "    }\n",
       "</style>\n",
       "<table border=\"1\" class=\"dataframe\">\n",
       "  <thead>\n",
       "    <tr style=\"text-align: right;\">\n",
       "      <th></th>\n",
       "      <th>Price</th>\n",
       "      <th>VehicleType</th>\n",
       "      <th>RegistrationYear</th>\n",
       "      <th>Gearbox</th>\n",
       "      <th>Power</th>\n",
       "      <th>Model</th>\n",
       "      <th>Mileage</th>\n",
       "      <th>FuelType</th>\n",
       "      <th>Brand</th>\n",
       "      <th>NotRepaired</th>\n",
       "    </tr>\n",
       "  </thead>\n",
       "  <tbody>\n",
       "    <tr>\n",
       "      <th>0</th>\n",
       "      <td>480</td>\n",
       "      <td>NaN</td>\n",
       "      <td>1993</td>\n",
       "      <td>manual</td>\n",
       "      <td>0</td>\n",
       "      <td>golf</td>\n",
       "      <td>150000</td>\n",
       "      <td>petrol</td>\n",
       "      <td>volkswagen</td>\n",
       "      <td>NaN</td>\n",
       "    </tr>\n",
       "    <tr>\n",
       "      <th>1</th>\n",
       "      <td>18300</td>\n",
       "      <td>coupe</td>\n",
       "      <td>2011</td>\n",
       "      <td>manual</td>\n",
       "      <td>190</td>\n",
       "      <td>NaN</td>\n",
       "      <td>125000</td>\n",
       "      <td>gasoline</td>\n",
       "      <td>audi</td>\n",
       "      <td>yes</td>\n",
       "    </tr>\n",
       "    <tr>\n",
       "      <th>2</th>\n",
       "      <td>9800</td>\n",
       "      <td>suv</td>\n",
       "      <td>2004</td>\n",
       "      <td>auto</td>\n",
       "      <td>163</td>\n",
       "      <td>grand</td>\n",
       "      <td>125000</td>\n",
       "      <td>gasoline</td>\n",
       "      <td>jeep</td>\n",
       "      <td>NaN</td>\n",
       "    </tr>\n",
       "    <tr>\n",
       "      <th>3</th>\n",
       "      <td>1500</td>\n",
       "      <td>small</td>\n",
       "      <td>2001</td>\n",
       "      <td>manual</td>\n",
       "      <td>75</td>\n",
       "      <td>golf</td>\n",
       "      <td>150000</td>\n",
       "      <td>petrol</td>\n",
       "      <td>volkswagen</td>\n",
       "      <td>no</td>\n",
       "    </tr>\n",
       "    <tr>\n",
       "      <th>4</th>\n",
       "      <td>3600</td>\n",
       "      <td>small</td>\n",
       "      <td>2008</td>\n",
       "      <td>manual</td>\n",
       "      <td>69</td>\n",
       "      <td>fabia</td>\n",
       "      <td>90000</td>\n",
       "      <td>gasoline</td>\n",
       "      <td>skoda</td>\n",
       "      <td>no</td>\n",
       "    </tr>\n",
       "  </tbody>\n",
       "</table>\n",
       "</div>"
      ],
      "text/plain": [
       "   Price VehicleType  RegistrationYear Gearbox  Power  Model  Mileage  \\\n",
       "0    480         NaN              1993  manual      0   golf   150000   \n",
       "1  18300       coupe              2011  manual    190    NaN   125000   \n",
       "2   9800         suv              2004    auto    163  grand   125000   \n",
       "3   1500       small              2001  manual     75   golf   150000   \n",
       "4   3600       small              2008  manual     69  fabia    90000   \n",
       "\n",
       "   FuelType       Brand NotRepaired  \n",
       "0    petrol  volkswagen         NaN  \n",
       "1  gasoline        audi         yes  \n",
       "2  gasoline        jeep         NaN  \n",
       "3    petrol  volkswagen          no  \n",
       "4  gasoline       skoda          no  "
      ]
     },
     "execution_count": 8,
     "metadata": {},
     "output_type": "execute_result"
    }
   ],
   "source": [
    "# Remove unnecessary features and check the result\n",
    "df = df.drop(['DateCrawled', 'RegistrationMonth', 'DateCreated', 'NumberOfPictures', 'LastSeen', 'PostalCode'], axis=1)\n",
    "df.head()"
   ]
  },
  {
   "cell_type": "markdown",
   "metadata": {
    "lang": "en"
   },
   "source": [
    "#### 2.3.2 Checking the `Price` Feature Distribution"
   ]
  },
  {
   "cell_type": "code",
   "execution_count": 9,
   "metadata": {},
   "outputs": [
    {
     "data": {
      "image/png": "[encoded data removed]",
      "text/plain": [
       "<Figure size 2000x400 with 1 Axes>"
      ]
     },
     "metadata": {},
     "output_type": "display_data"
    }
   ],
   "source": [
    "plt.figure(figsize=(20, 4))\n",
    "\n",
    "plt.title('Price Distribution')\n",
    "sns.boxplot(x = df['Price'])\n",
    "\n",
    "plt.show()"
   ]
  },
  {
   "cell_type": "markdown",
   "metadata": {
    "lang": "en"
   },
   "source": [
    "All outliers are above the upper whisker. The amount of data that falls into this category can be determined by calculating the number of data points that lie above the upper whisker in the box plot."
   ]
  },
  {
   "cell_type": "code",
   "execution_count": 10,
   "metadata": {
    "lang": "in"
   },
   "outputs": [
    {
     "data": {
      "text/plain": [
       "14425.0"
      ]
     },
     "execution_count": 10,
     "metadata": {},
     "output_type": "execute_result"
    }
   ],
   "source": [
    "# Calculate the value of the upper whisker\n",
    "upper_whisker = df['Price'].quantile(0.75) + (1.5 * (df['Price'].quantile(0.75) - df['Price'].quantile(0.25)))\n",
    "upper_whisker"
   ]
  },
  {
   "cell_type": "code",
   "execution_count": 11,
   "metadata": {
    "lang": "in"
   },
   "outputs": [
    {
     "name": "stdout",
     "output_type": "stream",
     "text": [
      "5.36 %\n"
     ]
    }
   ],
   "source": [
    "# Calculate the percentage of outliers\n",
    "print(round(len(df[df['Price'] > 14425]) / len(df['Price']) * 100, 2), '%')"
   ]
  },
  {
   "cell_type": "markdown",
   "metadata": {
    "lang": "en"
   },
   "source": [
    "The outlier data is only 5.36%, small enough that we will just delete it."
   ]
  },
  {
   "cell_type": "code",
   "execution_count": 12,
   "metadata": {
    "lang": "in"
   },
   "outputs": [
    {
     "data": {
      "text/plain": [
       "(335390, 10)"
      ]
     },
     "execution_count": 12,
     "metadata": {},
     "output_type": "execute_result"
    }
   ],
   "source": [
    "# Update data without oulier in column `Price`\n",
    "df = df[df['Price'] < 14425].reset_index(drop=True)\n",
    "df.shape"
   ]
  },
  {
   "cell_type": "markdown",
   "metadata": {
    "lang": "en"
   },
   "source": [
    "#### 2.3.3 Checking the `RegistrationYear` Feature Distribution"
   ]
  },
  {
   "cell_type": "code",
   "execution_count": 13,
   "metadata": {
    "lang": "in"
   },
   "outputs": [
    {
     "name": "stdout",
     "output_type": "stream",
     "text": [
      "[1000, 1001, 1039, 1111, 1200, 1234, 1253, 1255, 1300, 1400, 1500, 1600, 1602, 1688, 1800, 1910, 1915, 1919, 1920, 1923, 1925, 1928, 1929, 1930, 1931, 1932, 1933, 1934, 1935, 1936, 1937, 1938, 1940, 1941, 1942, 1943, 1944, 1945, 1946, 1948, 1949, 1950, 1951, 1952, 1953, 1954, 1955, 1956, 1957, 1958, 1959, 1960, 1961, 1962, 1963, 1964, 1965, 1966, 1967, 1968, 1969, 1970, 1971, 1972, 1973, 1974, 1975, 1976, 1977, 1978, 1979, 1980, 1981, 1982, 1983, 1984, 1985, 1986, 1987, 1988, 1989, 1990, 1991, 1992, 1993, 1994, 1995, 1996, 1997, 1998, 1999, 2000, 2001, 2002, 2003, 2004, 2005, 2006, 2007, 2008, 2009, 2010, 2011, 2012, 2013, 2014, 2015, 2016, 2017, 2018, 2019, 2066, 2200, 2222, 2290, 2500, 2800, 2900, 3000, 3200, 3500, 3700, 3800, 4000, 4100, 4500, 4800, 5000, 5300, 5555, 5600, 5900, 5911, 6000, 6500, 7000, 7100, 7500, 7800, 8000, 8200, 8455, 8500, 8888, 9000, 9229, 9450, 9996, 9999]\n"
     ]
    }
   ],
   "source": [
    "# Check for unique values in the `RegistrationYear` feature\n",
    "print(sorted(df['RegistrationYear'].unique()))"
   ]
  },
  {
   "cell_type": "code",
   "execution_count": 14,
   "metadata": {
    "lang": "in"
   },
   "outputs": [
    {
     "data": {
      "text/plain": [
       "RegistrationYear\n",
       "1000    36\n",
       "1001     1\n",
       "1039     1\n",
       "1111     3\n",
       "1200     1\n",
       "        ..\n",
       "9000     3\n",
       "9229     1\n",
       "9450     1\n",
       "9996     1\n",
       "9999    24\n",
       "Name: RegistrationYear, Length: 149, dtype: int64"
      ]
     },
     "execution_count": 14,
     "metadata": {},
     "output_type": "execute_result"
    }
   ],
   "source": [
    "# Check the distribution\n",
    "df.groupby(by='RegistrationYear')['RegistrationYear'].count()"
   ]
  },
  {
   "cell_type": "code",
   "execution_count": 15,
   "metadata": {
    "lang": "in"
   },
   "outputs": [
    {
     "data": {
      "image/png": "[encoded data removed]",
      "text/plain": [
       "<Figure size 2000x400 with 1 Axes>"
      ]
     },
     "metadata": {},
     "output_type": "display_data"
    }
   ],
   "source": [
    "# Check the visualization of data distribution\n",
    "plt.figure(figsize=(20, 4))\n",
    "\n",
    "plt.title('Registration Year')\n",
    "sns.boxplot(x = df['RegistrationYear'])\n",
    "\n",
    "plt.show()"
   ]
  },
  {
   "cell_type": "markdown",
   "metadata": {
    "lang": "en"
   },
   "source": [
    "This feature contains values ​​that are too random and do not make sense. The boxplot shows that the data is concentrated in the year range of 2000. To be on the safe side, we will only consider data within the year range of 1900 to 2022."
   ]
  },
  {
   "cell_type": "code",
   "execution_count": 16,
   "metadata": {
    "lang": "in"
   },
   "outputs": [
    {
     "data": {
      "text/plain": [
       "(335225, 10)"
      ]
     },
     "execution_count": 16,
     "metadata": {},
     "output_type": "execute_result"
    }
   ],
   "source": [
    "# Select the 1RegistrationYear1 data from 1900 to 2022\n",
    "df =df[(1900 <= df['RegistrationYear']) & (df['RegistrationYear'] <= 2022)].reset_index(drop=True)\n",
    "df.shape"
   ]
  },
  {
   "cell_type": "markdown",
   "metadata": {
    "lang": "en"
   },
   "source": [
    "#### 2.3.4 Handling Zero Values"
   ]
  },
  {
   "cell_type": "markdown",
   "metadata": {
    "lang": "en"
   },
   "source": [
    "**`Price` Column**"
   ]
  },
  {
   "cell_type": "code",
   "execution_count": 17,
   "metadata": {
    "lang": "in"
   },
   "outputs": [
    {
     "name": "stdout",
     "output_type": "stream",
     "text": [
      "[0, 1, 2, 3, 4, 5, 7, 8, 9, 10, 11, 12, 13, 14, 15, 16, 17, 18, 19, 20, 21, 24, 25, 26, 27, 29, 30, 32, 33, 35, 38, 39, 40, 45, 47, 49, 50, 55, 58, 59, 60, 65, 66, 69, 70, 74, 75, 77, 79, 80, 85, 88, 89, 90, 95, 98, 99, 100, 101, 105, 106, 108, 110, 111, 112, 115, 117, 119, 120, 121, 122, 123, 125, 126, 127, 128, 129, 130, 132, 133, 135, 139, 140, 142, 145, 149, 150, 155, 156, 157, 158, 159, 160, 162, 165, 166, 169, 170, 173, 175, 177, 179, 180, 181, 185, 188, 189, 190, 192, 193, 195, 196, 198, 199, 200, 202, 205, 209, 210, 211, 215, 217, 219, 220, 222, 224, 225, 229, 230, 233, 235, 236, 238, 240, 243, 245, 248, 249, 250, 251, 252, 253, 255, 259, 260, 261, 263, 265, 266, 269, 270, 272, 273, 274, 275, 277, 278, 279, 280, 281, 284, 285, 288, 289, 290, 293, 295, 298, 299, 300, 301, 305, 308, 309, 310, 315, 316, 319, 320, 321, 323, 325, 329, 330, 331, 332, 333, 335, 338, 339, 340, 341, 344, 345, 348, 349, 350, 355, 356, 359, 360, 365, 366, 368, 369, 370, 373, 375, 377, 378, 379, 380, 384, 385, 388, 389, 390, 393, 395, 397, 398, 399, 400, 408, 410, 414, 415, 418, 419, 420, 422, 424, 425, 429, 430, 433, 435, 439, 440, 444, 445, 449, 450, 455, 456, 458, 459, 460, 465, 466, 467, 469, 470, 475, 477, 479, 480, 485, 487, 489, 490, 495, 498, 499, 500, 501, 505, 510, 514, 515, 517, 519, 520, 522, 523, 525, 530, 531, 533, 535, 536, 540, 543, 544, 545, 548, 549, 550, 554, 555, 559, 560, 565, 566, 569, 570, 574, 575, 576, 577, 578, 579, 580, 585, 586, 588, 589, 590, 593, 595, 597, 598, 599, 600, 601, 605, 606, 610, 615, 619, 620, 622, 623, 624, 625, 628, 629, 630, 632, 633, 634, 635, 639, 640, 644, 645, 647, 648, 649, 650, 655, 656, 658, 659, 660, 665, 666, 667, 669, 670, 675, 679, 680, 685, 686, 688, 689, 690, 691, 695, 696, 698, 699, 700, 701, 706, 709, 710, 715, 717, 719, 720, 722, 725, 728, 729, 730, 732, 735, 739, 740, 744, 745, 747, 749, 750, 755, 759, 760, 765, 766, 768, 769, 770, 775, 776, 777, 780, 785, 788, 789, 790, 793, 795, 797, 798, 799, 800, 801, 804, 810, 816, 820, 822, 823, 825, 828, 829, 830, 833, 834, 835, 836, 837, 839, 840, 844, 845, 846, 849, 850, 851, 855, 859, 860, 865, 866, 868, 869, 870, 873, 875, 877, 879, 880, 885, 887, 888, 889, 890, 895, 897, 898, 899, 900, 901, 907, 909, 910, 915, 919, 920, 923, 925, 929, 930, 934, 935, 940, 943, 944, 945, 948, 949, 950, 951, 955, 958, 959, 960, 965, 966, 968, 969, 970, 975, 976, 979, 980, 982, 985, 987, 988, 989, 990, 991, 993, 995, 996, 997, 998, 999, 1000, 1001, 1003, 1009, 1010, 1020, 1025, 1026, 1030, 1031, 1033, 1035, 1039, 1040, 1042, 1045, 1047, 1049, 1050, 1052, 1055, 1059, 1060, 1070, 1075, 1080, 1085, 1089, 1090, 1095, 1098, 1099, 1100, 1101, 1110, 1111, 1112, 1113, 1119, 1120, 1125, 1129, 1130, 1135, 1140, 1144, 1145, 1149, 1150, 1155, 1159, 1160, 1165, 1169, 1170, 1175, 1179, 1180, 1185, 1187, 1189, 1190, 1192, 1193, 1195, 1198, 1199, 1200, 1201, 1208, 1209, 1210, 1211, 1212, 1220, 1221, 1222, 1224, 1225, 1230, 1231, 1233, 1234, 1240, 1247, 1249, 1250, 1252, 1253, 1255, 1259, 1260, 1262, 1265, 1269, 1270, 1275, 1277, 1280, 1285, 1288, 1289, 1290, 1294, 1295, 1296, 1297, 1298, 1299, 1300, 1301, 1310, 1311, 1320, 1321, 1323, 1325, 1329, 1330, 1333, 1335, 1340, 1344, 1345, 1347, 1348, 1349, 1350, 1355, 1357, 1358, 1359, 1360, 1361, 1365, 1366, 1368, 1370, 1375, 1378, 1379, 1380, 1385, 1388, 1389, 1390, 1391, 1395, 1396, 1397, 1398, 1399, 1400, 1401, 1402, 1410, 1411, 1414, 1416, 1420, 1425, 1429, 1430, 1432, 1433, 1440, 1441, 1444, 1445, 1448, 1449, 1450, 1453, 1455, 1459, 1460, 1465, 1466, 1469, 1470, 1475, 1479, 1480, 1483, 1485, 1488, 1489, 1490, 1494, 1495, 1496, 1497, 1498, 1499, 1500, 1506, 1510, 1515, 1517, 1520, 1525, 1529, 1530, 1540, 1544, 1545, 1549, 1550, 1551, 1555, 1558, 1559, 1560, 1565, 1566, 1570, 1575, 1577, 1579, 1580, 1585, 1587, 1588, 1589, 1590, 1595, 1596, 1598, 1599, 1600, 1605, 1620, 1622, 1625, 1629, 1630, 1631, 1633, 1635, 1640, 1642, 1645, 1648, 1649, 1650, 1652, 1654, 1655, 1656, 1659, 1660, 1666, 1669, 1670, 1675, 1679, 1680, 1685, 1687, 1688, 1689, 1690, 1693, 1695, 1697, 1698, 1699, 1700, 1710, 1720, 1722, 1725, 1730, 1733, 1735, 1740, 1745, 1749, 1750, 1755, 1759, 1760, 1765, 1770, 1775, 1777, 1779, 1780, 1789, 1790, 1795, 1797, 1798, 1799, 1800, 1801, 1802, 1810, 1811, 1820, 1823, 1829, 1830, 1840, 1845, 1849, 1850, 1855, 1856, 1857, 1858, 1860, 1870, 1875, 1877, 1878, 1879, 1880, 1881, 1885, 1887, 1888, 1890, 1894, 1895, 1896, 1897, 1898, 1899, 1900, 1904, 1906, 1910, 1920, 1925, 1929, 1930, 1933, 1935, 1940, 1945, 1947, 1948, 1949, 1950, 1954, 1955, 1956, 1958, 1959, 1960, 1965, 1966, 1970, 1975, 1980, 1981, 1982, 1984, 1985, 1986, 1987, 1989, 1990, 1991, 1994, 1995, 1996, 1997, 1998, 1999, 2000, 2001, 2002, 2004, 2005, 2010, 2025, 2030, 2033, 2035, 2036, 2049, 2050, 2055, 2070, 2075, 2080, 2085, 2090, 2091, 2095, 2098, 2099, 2100, 2101, 2105, 2110, 2111, 2120, 2125, 2128, 2130, 2134, 2140, 2148, 2149, 2150, 2151, 2155, 2165, 2170, 2175, 2179, 2180, 2189, 2190, 2194, 2195, 2198, 2199, 2200, 2201, 2210, 2211, 2215, 2220, 2221, 2222, 2224, 2225, 2229, 2230, 2233, 2235, 2238, 2240, 2241, 2243, 2245, 2249, 2250, 2255, 2259, 2260, 2262, 2265, 2270, 2275, 2276, 2278, 2279, 2280, 2285, 2288, 2289, 2290, 2295, 2298, 2299, 2300, 2301, 2305, 2314, 2320, 2321, 2322, 2323, 2325, 2329, 2330, 2333, 2335, 2340, 2344, 2345, 2349, 2350, 2351, 2353, 2355, 2359, 2360, 2365, 2366, 2370, 2375, 2377, 2379, 2380, 2384, 2385, 2388, 2389, 2390, 2395, 2398, 2399, 2400, 2405, 2410, 2420, 2421, 2424, 2425, 2430, 2432, 2440, 2444, 2448, 2449, 2450, 2455, 2459, 2460, 2465, 2470, 2475, 2479, 2480, 2488, 2489, 2490, 2495, 2496, 2498, 2499, 2500, 2501, 2510, 2511, 2512, 2520, 2525, 2530, 2540, 2544, 2549, 2550, 2555, 2560, 2565, 2569, 2570, 2575, 2579, 2580, 2589, 2590, 2595, 2598, 2599, 2600, 2601, 2610, 2620, 2625, 2629, 2630, 2633, 2640, 2645, 2649, 2650, 2651, 2655, 2657, 2660, 2666, 2670, 2671, 2675, 2677, 2679, 2680, 2683, 2689, 2690, 2691, 2695, 2698, 2699, 2700, 2701, 2717, 2720, 2723, 2725, 2727, 2730, 2740, 2744, 2745, 2749, 2750, 2754, 2759, 2760, 2765, 2766, 2770, 2775, 2777, 2780, 2785, 2788, 2789, 2790, 2792, 2795, 2796, 2798, 2799, 2800, 2810, 2820, 2825, 2828, 2833, 2840, 2845, 2846, 2849, 2850, 2855, 2860, 2869, 2870, 2874, 2875, 2877, 2879, 2880, 2885, 2888, 2889, 2890, 2895, 2897, 2898, 2899, 2900, 2901, 2910, 2911, 2920, 2925, 2930, 2940, 2944, 2945, 2946, 2947, 2949, 2950, 2955, 2960, 2962, 2965, 2968, 2970, 2975, 2977, 2980, 2982, 2985, 2986, 2988, 2989, 2990, 2992, 2993, 2995, 2996, 2997, 2998, 2999, 3000, 3001, 3003, 3009, 3010, 3012, 3015, 3020, 3021, 3030, 3038, 3040, 3049, 3050, 3051, 3055, 3060, 3070, 3075, 3080, 3087, 3089, 3090, 3099, 3100, 3111, 3112, 3119, 3120, 3122, 3125, 3129, 3130, 3131, 3140, 3149, 3150, 3151, 3160, 3165, 3170, 3178, 3180, 3190, 3195, 3198, 3199, 3200, 3210, 3211, 3219, 3220, 3222, 3225, 3230, 3240, 3245, 3249, 3250, 3255, 3256, 3259, 3260, 3266, 3270, 3275, 3279, 3280, 3285, 3290, 3295, 3298, 3299, 3300, 3310, 3318, 3320, 3321, 3325, 3330, 3333, 3339, 3340, 3349, 3350, 3360, 3370, 3378, 3380, 3385, 3390, 3393, 3395, 3398, 3399, 3400, 3410, 3420, 3425, 3431, 3440, 3444, 3445, 3448, 3449, 3450, 3452, 3455, 3456, 3458, 3460, 3470, 3475, 3480, 3485, 3488, 3489, 3490, 3494, 3495, 3496, 3498, 3499, 3500, 3501, 3509, 3510, 3512, 3520, 3522, 3525, 3529, 3530, 3535, 3540, 3544, 3545, 3549, 3550, 3555, 3560, 3561, 3566, 3570, 3575, 3579, 3580, 3585, 3589, 3590, 3591, 3595, 3598, 3599, 3600, 3620, 3622, 3630, 3633, 3640, 3649, 3650, 3651, 3655, 3660, 3666, 3670, 3673, 3675, 3680, 3690, 3695, 3699, 3700, 3710, 3715, 3720, 3725, 3730, 3740, 3745, 3749, 3750, 3755, 3757, 3759, 3760, 3765, 3768, 3770, 3774, 3775, 3777, 3779, 3780, 3785, 3787, 3789, 3790, 3795, 3798, 3799, 3800, 3801, 3805, 3810, 3830, 3838, 3840, 3845, 3849, 3850, 3855, 3859, 3860, 3867, 3869, 3870, 3875, 3876, 3879, 3880, 3884, 3885, 3888, 3889, 3890, 3895, 3896, 3898, 3899, 3900, 3901, 3902, 3905, 3910, 3920, 3925, 3933, 3940, 3941, 3944, 3945, 3948, 3949, 3950, 3952, 3955, 3957, 3960, 3965, 3969, 3970, 3975, 3977, 3980, 3985, 3987, 3988, 3989, 3990, 3991, 3993, 3995, 3996, 3997, 3998, 3999, 4000, 4001, 4002, 4004, 4005, 4012, 4030, 4033, 4040, 4044, 4049, 4050, 4088, 4090, 4095, 4099, 4100, 4101, 4110, 4111, 4123, 4124, 4125, 4130, 4140, 4145, 4149, 4150, 4155, 4158, 4159, 4160, 4165, 4170, 4175, 4179, 4180, 4190, 4195, 4198, 4199, 4200, 4201, 4205, 4210, 4220, 4222, 4225, 4230, 4239, 4240, 4242, 4249, 4250, 4255, 4260, 4270, 4275, 4278, 4279, 4280, 4285, 4286, 4290, 4295, 4298, 4299, 4300, 4301, 4317, 4320, 4321, 4330, 4333, 4335, 4339, 4340, 4349, 4350, 4355, 4359, 4360, 4370, 4375, 4378, 4380, 4390, 4395, 4398, 4399, 4400, 4411, 4415, 4420, 4430, 4440, 4444, 4445, 4449, 4450, 4455, 4460, 4470, 4475, 4477, 4480, 4484, 4485, 4487, 4488, 4489, 4490, 4495, 4497, 4498, 4499, 4500, 4510, 4516, 4525, 4529, 4530, 4532, 4538, 4545, 4548, 4549, 4550, 4555, 4559, 4560, 4565, 4567, 4570, 4580, 4590, 4595, 4598, 4599, 4600, 4620, 4622, 4630, 4635, 4640, 4645, 4646, 4649, 4650, 4652, 4655, 4660, 4666, 4670, 4675, 4680, 4684, 4688, 4689, 4690, 4698, 4699, 4700, 4710, 4720, 4725, 4730, 4737, 4740, 4747, 4749, 4750, 4751, 4755, 4758, 4759, 4760, 4766, 4770, 4775, 4777, 4780, 4782, 4785, 4786, 4790, 4792, 4795, 4797, 4798, 4799, 4800, 4816, 4820, 4824, 4825, 4829, 4830, 4835, 4840, 4849, 4850, 4855, 4860, 4870, 4872, 4877, 4880, 4885, 4887, 4888, 4889, 4890, 4895, 4898, 4899, 4900, 4901, 4909, 4911, 4919, 4920, 4925, 4930, 4938, 4940, 4949, 4950, 4955, 4960, 4970, 4975, 4977, 4980, 4985, 4988, 4989, 4990, 4994, 4995, 4997, 4998, 4999, 5000, 5001, 5002, 5003, 5005, 5006, 5007, 5008, 5012, 5015, 5020, 5022, 5030, 5049, 5050, 5090, 5099, 5100, 5111, 5120, 5123, 5125, 5129, 5130, 5140, 5145, 5149, 5150, 5151, 5160, 5175, 5180, 5185, 5189, 5190, 5195, 5198, 5199, 5200, 5210, 5211, 5220, 5222, 5225, 5234, 5235, 5240, 5246, 5247, 5248, 5249, 5250, 5255, 5275, 5277, 5280, 5285, 5289, 5290, 5298, 5299, 5300, 5318, 5320, 5333, 5340, 5349, 5350, 5359, 5370, 5372, 5375, 5377, 5380, 5385, 5390, 5395, 5398, 5399, 5400, 5401, 5409, 5411, 5425, 5430, 5432, 5440, 5444, 5445, 5449, 5450, 5454, 5455, 5459, 5470, 5475, 5480, 5485, 5488, 5489, 5490, 5495, 5497, 5498, 5499, 5500, 5520, 5530, 5540, 5542, 5544, 5549, 5550, 5554, 5555, 5558, 5560, 5569, 5570, 5575, 5580, 5581, 5585, 5590, 5595, 5599, 5600, 5606, 5620, 5625, 5630, 5634, 5648, 5649, 5650, 5655, 5660, 5666, 5680, 5685, 5686, 5688, 5689, 5690, 5695, 5697, 5699, 5700, 5708, 5723, 5740, 5748, 5749, 5750, 5755, 5760, 5765, 5770, 5775, 5777, 5780, 5790, 5795, 5799, 5800, 5803, 5822, 5827, 5830, 5840, 5844, 5849, 5850, 5855, 5860, 5865, 5870, 5875, 5876, 5879, 5880, 5885, 5888, 5889, 5890, 5895, 5896, 5898, 5899, 5900, 5911, 5913, 5920, 5924, 5925, 5940, 5949, 5950, 5955, 5959, 5960, 5970, 5975, 5980, 5988, 5990, 5994, 5995, 5996, 5997, 5998, 5999, 6000, 6001, 6010, 6039, 6050, 6066, 6089, 6090, 6099, 6100, 6101, 6106, 6111, 6120, 6124, 6125, 6130, 6140, 6144, 6149, 6150, 6155, 6165, 6170, 6180, 6190, 6192, 6195, 6198, 6199, 6200, 6202, 6208, 6220, 6222, 6225, 6229, 6230, 6235, 6240, 6249, 6250, 6252, 6255, 6275, 6279, 6280, 6289, 6290, 6295, 6298, 6299, 6300, 6303, 6310, 6322, 6330, 6333, 6340, 6344, 6349, 6350, 6365, 6370, 6375, 6380, 6385, 6389, 6390, 6395, 6398, 6399, 6400, 6410, 6434, 6435, 6440, 6444, 6447, 6449, 6450, 6453, 6455, 6460, 6470, 6475, 6479, 6480, 6489, 6490, 6495, 6498, 6499, 6500, 6501, 6510, 6523, 6530, 6537, 6540, 6543, 6545, 6550, 6555, 6560, 6570, 6575, 6578, 6580, 6583, 6588, 6589, 6590, 6595, 6598, 6599, 6600, 6609, 6620, 6639, 6640, 6649, 6650, 6657, 6660, 6665, 6666, 6667, 6680, 6687, 6690, 6695, 6699, 6700, 6720, 6725, 6730, 6740, 6745, 6749, 6750, 6755, 6759, 6770, 6777, 6780, 6783, 6785, 6788, 6789, 6790, 6792, 6795, 6798, 6799, 6800, 6801, 6820, 6830, 6840, 6845, 6849, 6850, 6855, 6860, 6866, 6868, 6870, 6872, 6875, 6879, 6880, 6888, 6889, 6890, 6895, 6897, 6899, 6900, 6911, 6913, 6916, 6920, 6930, 6940, 6944, 6949, 6950, 6951, 6959, 6960, 6966, 6969, 6970, 6973, 6975, 6977, 6979, 6980, 6985, 6988, 6989, 6990, 6995, 6996, 6998, 6999, 7000, 7001, 7007, 7016, 7040, 7049, 7050, 7052, 7070, 7085, 7090, 7099, 7100, 7111, 7115, 7118, 7130, 7139, 7140, 7149, 7150, 7170, 7180, 7185, 7188, 7190, 7198, 7199, 7200, 7217, 7220, 7222, 7230, 7234, 7240, 7249, 7250, 7255, 7260, 7270, 7280, 7285, 7290, 7291, 7295, 7298, 7299, 7300, 7328, 7330, 7333, 7340, 7349, 7350, 7359, 7360, 7370, 7373, 7379, 7380, 7385, 7390, 7395, 7396, 7399, 7400, 7420, 7428, 7430, 7435, 7440, 7444, 7446, 7449, 7450, 7455, 7460, 7470, 7480, 7485, 7489, 7490, 7491, 7495, 7497, 7498, 7499, 7500, 7522, 7530, 7539, 7540, 7545, 7549, 7550, 7555, 7560, 7563, 7570, 7588, 7590, 7591, 7595, 7596, 7598, 7599, 7600, 7603, 7640, 7645, 7649, 7650, 7654, 7655, 7657, 7660, 7666, 7675, 7680, 7685, 7688, 7689, 7690, 7695, 7699, 7700, 7740, 7745, 7749, 7750, 7760, 7770, 7775, 7777, 7780, 7787, 7789, 7790, 7795, 7799, 7800, 7820, 7825, 7830, 7839, 7840, 7844, 7845, 7849, 7850, 7855, 7856, 7859, 7860, 7869, 7875, 7877, 7880, 7885, 7888, 7890, 7893, 7895, 7898, 7899, 7900, 7924, 7930, 7940, 7949, 7950, 7960, 7970, 7980, 7985, 7988, 7989, 7990, 7994, 7995, 7996, 7997, 7998, 7999, 8000, 8008, 8035, 8050, 8069, 8080, 8090, 8098, 8099, 8100, 8111, 8115, 8125, 8129, 8146, 8150, 8155, 8159, 8180, 8181, 8188, 8189, 8190, 8198, 8199, 8200, 8211, 8219, 8222, 8225, 8230, 8240, 8245, 8248, 8249, 8250, 8255, 8258, 8265, 8270, 8275, 8280, 8282, 8285, 8288, 8290, 8295, 8299, 8300, 8320, 8321, 8330, 8333, 8335, 8340, 8345, 8349, 8350, 8360, 8370, 8380, 8390, 8395, 8399, 8400, 8419, 8420, 8425, 8431, 8444, 8446, 8447, 8449, 8450, 8460, 8469, 8470, 8480, 8484, 8485, 8488, 8490, 8494, 8495, 8498, 8499, 8500, 8510, 8519, 8520, 8549, 8550, 8555, 8560, 8570, 8579, 8580, 8590, 8595, 8599, 8600, 8620, 8630, 8640, 8645, 8650, 8655, 8663, 8665, 8666, 8670, 8675, 8680, 8690, 8695, 8698, 8699, 8700, 8720, 8730, 8749, 8750, 8751, 8755, 8760, 8764, 8765, 8770, 8777, 8780, 8785, 8788, 8790, 8795, 8798, 8799, 8800, 8801, 8833, 8840, 8849, 8850, 8854, 8870, 8875, 8880, 8885, 8886, 8887, 8888, 8889, 8890, 8891, 8895, 8897, 8898, 8899, 8900, 8904, 8911, 8925, 8930, 8940, 8944, 8945, 8949, 8950, 8955, 8960, 8970, 8974, 8975, 8979, 8980, 8987, 8989, 8990, 8995, 8998, 8999, 9000, 9001, 9049, 9050, 9090, 9099, 9100, 9110, 9111, 9120, 9125, 9130, 9149, 9150, 9170, 9190, 9195, 9198, 9199, 9200, 9203, 9221, 9222, 9240, 9245, 9249, 9250, 9270, 9275, 9280, 9289, 9290, 9298, 9299, 9300, 9307, 9320, 9325, 9333, 9349, 9350, 9370, 9375, 9379, 9380, 9385, 9390, 9395, 9398, 9399, 9400, 9410, 9420, 9428, 9440, 9444, 9445, 9449, 9450, 9455, 9460, 9469, 9470, 9475, 9480, 9488, 9490, 9495, 9498, 9499, 9500, 9520, 9525, 9529, 9530, 9540, 9549, 9550, 9555, 9560, 9570, 9577, 9580, 9590, 9599, 9600, 9649, 9650, 9654, 9655, 9660, 9666, 9667, 9675, 9680, 9681, 9690, 9695, 9699, 9700, 9720, 9725, 9734, 9740, 9745, 9749, 9750, 9760, 9769, 9773, 9777, 9780, 9788, 9789, 9790, 9793, 9799, 9800, 9840, 9845, 9849, 9850, 9860, 9870, 9875, 9876, 9877, 9880, 9885, 9888, 9890, 9895, 9899, 9900, 9911, 9920, 9925, 9939, 9945, 9948, 9949, 9950, 9951, 9959, 9964, 9968, 9970, 9975, 9980, 9985, 9987, 9988, 9989, 9990, 9991, 9993, 9994, 9995, 9996, 9997, 9998, 9999, 10000, 10001, 10009, 10050, 10080, 10089, 10090, 10099, 10100, 10111, 10150, 10175, 10180, 10190, 10198, 10199, 10200, 10220, 10222, 10230, 10240, 10249, 10250, 10260, 10280, 10288, 10290, 10295, 10299, 10300, 10310, 10317, 10328, 10333, 10340, 10344, 10349, 10350, 10370, 10375, 10379, 10380, 10389, 10390, 10398, 10399, 10400, 10420, 10422, 10430, 10444, 10449, 10450, 10466, 10470, 10472, 10475, 10480, 10488, 10490, 10495, 10498, 10499, 10500, 10529, 10540, 10550, 10555, 10556, 10560, 10570, 10590, 10599, 10600, 10625, 10650, 10655, 10666, 10670, 10680, 10690, 10695, 10699, 10700, 10725, 10730, 10749, 10750, 10755, 10760, 10777, 10780, 10789, 10790, 10791, 10795, 10799, 10800, 10830, 10849, 10850, 10860, 10870, 10875, 10879, 10880, 10888, 10890, 10891, 10895, 10898, 10899, 10900, 10910, 10920, 10930, 10939, 10940, 10945, 10949, 10950, 10960, 10970, 10975, 10980, 10985, 10986, 10987, 10988, 10989, 10990, 10995, 10997, 10998, 10999, 11000, 11050, 11080, 11090, 11099, 11100, 11111, 11140, 11148, 11149, 11150, 11180, 11190, 11195, 11199, 11200, 11205, 11220, 11222, 11230, 11235, 11240, 11247, 11250, 11270, 11290, 11295, 11299, 11300, 11320, 11325, 11330, 11333, 11349, 11350, 11360, 11379, 11380, 11389, 11390, 11399, 11400, 11410, 11430, 11432, 11444, 11448, 11449, 11450, 11454, 11470, 11475, 11479, 11480, 11488, 11489, 11490, 11495, 11498, 11499, 11500, 11533, 11540, 11546, 11549, 11550, 11552, 11555, 11580, 11590, 11599, 11600, 11625, 11649, 11650, 11654, 11660, 11666, 11670, 11680, 11685, 11687, 11690, 11693, 11697, 11699, 11700, 11720, 11722, 11725, 11733, 11738, 11749, 11750, 11756, 11760, 11770, 11777, 11780, 11784, 11790, 11798, 11799, 11800, 11820, 11825, 11840, 11845, 11849, 11850, 11878, 11880, 11888, 11889, 11890, 11897, 11899, 11900, 11909, 11919, 11920, 11923, 11928, 11930, 11935, 11940, 11950, 11955, 11960, 11968, 11970, 11975, 11979, 11980, 11981, 11982, 11985, 11987, 11988, 11989, 11990, 11995, 11998, 11999, 12000, 12050, 12059, 12090, 12099, 12100, 12120, 12125, 12145, 12150, 12180, 12190, 12195, 12199, 12200, 12220, 12222, 12225, 12249, 12250, 12255, 12270, 12280, 12290, 12295, 12298, 12299, 12300, 12318, 12320, 12330, 12333, 12340, 12345, 12349, 12350, 12355, 12360, 12368, 12370, 12380, 12390, 12395, 12399, 12400, 12430, 12440, 12444, 12449, 12450, 12465, 12469, 12470, 12475, 12480, 12488, 12489, 12490, 12495, 12498, 12499, 12500, 12501, 12523, 12525, 12540, 12549, 12550, 12555, 12560, 12567, 12580, 12590, 12599, 12600, 12647, 12650, 12660, 12667, 12680, 12685, 12690, 12696, 12699, 12700, 12735, 12740, 12749, 12750, 12770, 12777, 12780, 12789, 12790, 12799, 12800, 12808, 12821, 12830, 12850, 12860, 12870, 12877, 12880, 12887, 12888, 12889, 12890, 12898, 12899, 12900, 12920, 12932, 12944, 12949, 12950, 12955, 12968, 12970, 12973, 12978, 12980, 12985, 12986, 12987, 12988, 12989, 12990, 12991, 12995, 12996, 12997, 12998, 12999, 13000, 13049, 13050, 13090, 13099, 13100, 13131, 13150, 13180, 13190, 13199, 13200, 13220, 13222, 13225, 13230, 13240, 13249, 13250, 13275, 13280, 13290, 13298, 13299, 13300, 13321, 13330, 13333, 13349, 13350, 13362, 13380, 13383, 13384, 13387, 13390, 13399, 13400, 13423, 13440, 13444, 13449, 13450, 13456, 13470, 13475, 13480, 13485, 13488, 13489, 13490, 13493, 13495, 13498, 13499, 13500, 13520, 13530, 13548, 13550, 13555, 13560, 13590, 13599, 13600, 13620, 13650, 13666, 13680, 13690, 13699, 13700, 13730, 13749, 13750, 13755, 13777, 13780, 13790, 13798, 13799, 13800, 13830, 13849, 13850, 13870, 13875, 13879, 13880, 13885, 13888, 13890, 13899, 13900, 13911, 13930, 13940, 13949, 13950, 13955, 13960, 13970, 13975, 13978, 13980, 13985, 13986, 13988, 13989, 13990, 13995, 13998, 13999, 14000, 14001, 14010, 14050, 14099, 14100, 14111, 14114, 14140, 14150, 14180, 14190, 14199, 14200, 14220, 14222, 14227, 14230, 14240, 14249, 14250, 14260, 14270, 14275, 14280, 14290, 14295, 14299, 14300, 14320, 14321, 14333, 14335, 14337, 14341, 14349, 14350, 14386, 14390, 14398, 14399, 14400]\n"
     ]
    }
   ],
   "source": [
    "# Check the values in column 'Price'\n",
    "print(sorted(df['Price'].unique()))"
   ]
  },
  {
   "cell_type": "code",
   "execution_count": 18,
   "metadata": {
    "lang": "in"
   },
   "outputs": [
    {
     "data": {
      "text/plain": [
       "Price\n",
       "0     10740\n",
       "1      1181\n",
       "2        12\n",
       "3         8\n",
       "4         1\n",
       "5        26\n",
       "7         3\n",
       "8         9\n",
       "9         8\n",
       "10       84\n",
       "11        5\n",
       "12        8\n",
       "13        7\n",
       "14        5\n",
       "15       27\n",
       "16        2\n",
       "17        5\n",
       "18        3\n",
       "19        3\n",
       "20       50\n",
       "Name: Price, dtype: int64"
      ]
     },
     "execution_count": 18,
     "metadata": {},
     "output_type": "execute_result"
    }
   ],
   "source": [
    "# Check its distribution on the 20 smallest values\n",
    "df.groupby(by='Price')['Price'].count().head(20)"
   ]
  },
  {
   "cell_type": "markdown",
   "metadata": {
    "lang": "en"
   },
   "source": [
    "What does the value 0 mean here? Is it indicating a free vehicle?\n",
    "Interestingly, besides 0, there are other small values that are equally absurd for the price of the vehicle.\n",
    "Removing the value 0 should also involve removing these unreasonably small values.\n",
    "\n",
    "What is considered a fair price for a car? There is no exact value, but it certainly should not be below 100. Therefore, we have decided to delete only the data rows with `df['Price']` values below 100."
   ]
  },
  {
   "cell_type": "code",
   "execution_count": 19,
   "metadata": {
    "lang": "in"
   },
   "outputs": [
    {
     "data": {
      "text/plain": [
       "(321967, 10)"
      ]
     },
     "execution_count": 19,
     "metadata": {},
     "output_type": "execute_result"
    }
   ],
   "source": [
    "# Delete 'Price' data less than 100\n",
    "df = df[df['Price'] > 99].reset_index(drop=True)\n",
    "df.shape"
   ]
  },
  {
   "cell_type": "markdown",
   "metadata": {
    "lang": "en"
   },
   "source": [
    "Data has been successfully deleted. However, we still have a substantial number of data rows remaining."
   ]
  },
  {
   "cell_type": "markdown",
   "metadata": {
    "lang": "en"
   },
   "source": [
    "**`Power` Column**"
   ]
  },
  {
   "cell_type": "code",
   "execution_count": 20,
   "metadata": {
    "lang": "in"
   },
   "outputs": [
    {
     "name": "stdout",
     "output_type": "stream",
     "text": [
      "[0, 1, 2, 3, 4, 5, 6, 7, 8, 9, 10, 11, 12, 13, 14, 15, 16, 17, 18, 19, 20, 21, 22, 23, 24, 25, 26, 27, 28, 29, 30, 31, 32, 33, 34, 35, 36, 37, 38, 39, 40, 41, 42, 43, 44, 45, 46, 47, 48, 49, 50, 51, 52, 53, 54, 55, 56, 57, 58, 59, 60, 61, 62, 63, 64, 65, 66, 67, 68, 69, 70, 71, 72, 73, 74, 75, 76, 77, 78, 79, 80, 81, 82, 83, 84, 85, 86, 87, 88, 89, 90, 91, 92, 93, 94, 95, 96, 97, 98, 99, 100, 101, 102, 103, 104, 105, 106, 107, 108, 109, 110, 111, 112, 113, 114, 115, 116, 117, 118, 119, 120, 121, 122, 123, 124, 125, 126, 127, 128, 129, 130, 131, 132, 133, 134, 135, 136, 137, 138, 139, 140, 141, 142, 143, 144, 145, 146, 147, 148, 149, 150, 151, 152, 153, 154, 155, 156, 157, 158, 159, 160, 161, 162, 163, 164, 165, 166, 167, 168, 169, 170, 171, 172, 173, 174, 175, 176, 177, 178, 179, 180, 181, 182, 183, 184, 185, 186, 187, 188, 189, 190, 191, 192, 193, 194, 195, 196, 197, 198, 199, 200, 201, 202, 203, 204, 205, 206, 207, 208, 209, 210, 211, 212, 213, 214, 215, 216, 217, 218, 219, 220, 221, 222, 223, 224, 225, 226, 227, 228, 229, 230, 231, 232, 233, 234, 235, 236, 237, 238, 239, 240, 241, 242, 243, 244, 245, 246, 247, 248, 249, 250, 251, 252, 253, 254, 255, 256, 257, 258, 259, 260, 261, 262, 264, 265, 266, 267, 268, 269, 270, 271, 272, 273, 274, 275, 276, 277, 278, 279, 280, 281, 282, 283, 284, 285, 286, 287, 288, 289, 290, 292, 293, 294, 295, 296, 297, 298, 299, 300, 301, 303, 304, 305, 306, 307, 308, 309, 310, 311, 313, 314, 315, 316, 318, 320, 321, 322, 323, 324, 325, 326, 328, 329, 330, 331, 333, 334, 335, 336, 338, 339, 340, 341, 343, 344, 345, 346, 347, 348, 349, 350, 353, 354, 355, 356, 357, 358, 360, 362, 363, 364, 365, 367, 370, 374, 376, 379, 380, 381, 382, 385, 386, 387, 388, 390, 392, 394, 396, 398, 399, 400, 401, 405, 408, 411, 420, 430, 431, 435, 442, 445, 449, 450, 454, 459, 475, 476, 500, 504, 505, 507, 515, 520, 521, 540, 541, 544, 550, 551, 553, 572, 580, 584, 585, 599, 600, 601, 602, 603, 604, 606, 607, 610, 612, 620, 645, 650, 651, 671, 678, 682, 685, 696, 700, 702, 703, 732, 743, 750, 754, 771, 776, 800, 805, 808, 850, 851, 871, 900, 901, 902, 903, 907, 909, 923, 950, 952, 953, 998, 999, 1000, 1001, 1002, 1003, 1004, 1005, 1011, 1012, 1016, 1017, 1021, 1024, 1054, 1055, 1056, 1062, 1079, 1082, 1090, 1100, 1103, 1105, 1115, 1120, 1149, 1151, 1158, 1160, 1162, 1164, 1199, 1200, 1202, 1221, 1223, 1230, 1239, 1240, 1241, 1250, 1252, 1256, 1275, 1299, 1300, 1312, 1317, 1324, 1339, 1351, 1360, 1362, 1363, 1367, 1390, 1394, 1398, 1399, 1400, 1401, 1403, 1405, 1416, 1432, 1433, 1436, 1500, 1501, 1502, 1503, 1506, 1521, 1548, 1595, 1596, 1597, 1598, 1600, 1625, 1631, 1653, 1659, 1689, 1700, 1701, 1703, 1704, 1707, 1753, 1771, 1779, 1780, 1781, 1783, 1793, 1796, 1799, 1800, 1801, 1870, 1895, 1896, 1900, 1920, 1922, 1933, 1937, 1968, 1986, 1988, 1992, 1993, 1995, 1998, 1999, 2000, 2004, 2005, 2007, 2009, 2016, 2017, 2018, 2172, 2331, 2340, 2389, 2402, 2461, 2598, 2729, 2789, 2792, 2799, 3199, 3454, 3500, 3750, 4400, 4507, 4700, 5411, 5420, 5575, 5809, 5815, 5867, 6006, 6010, 6011, 6012, 6018, 6045, 6062, 6226, 6512, 6920, 7508, 7511, 7512, 7515, 7518, 7529, 7544, 8259, 8404, 8500, 9000, 9007, 9010, 9011, 9012, 9013, 10000, 10110, 10311, 10520, 10522, 10710, 10910, 10912, 11011, 11025, 11111, 11509, 11530, 11635, 12012, 12510, 12512, 12684, 13616, 14009, 15001, 15017, 15020, 15033, 16011, 16051, 16311, 16312, 17011, 17019, 17410, 17700, 17932, 19208, 19211, 19312, 20000]\n"
     ]
    }
   ],
   "source": [
    "# Check the values in column 'Power'\n",
    "print(sorted(df['Power'].unique()))"
   ]
  },
  {
   "cell_type": "code",
   "execution_count": 21,
   "metadata": {
    "lang": "in"
   },
   "outputs": [
    {
     "data": {
      "text/plain": [
       "Power\n",
       "0     34403\n",
       "1        24\n",
       "2         8\n",
       "3         8\n",
       "4        30\n",
       "5        98\n",
       "6        11\n",
       "7        10\n",
       "8         7\n",
       "9         5\n",
       "10       12\n",
       "11       28\n",
       "12       16\n",
       "13        7\n",
       "14       20\n",
       "15       16\n",
       "16       10\n",
       "17        8\n",
       "18       46\n",
       "19       13\n",
       "Name: Power, dtype: int64"
      ]
     },
     "execution_count": 21,
     "metadata": {},
     "output_type": "execute_result"
    }
   ],
   "source": [
    "# Check its distribution on the 20 smallest values\n",
    "df.groupby(by='Power')['Power'].count().head(20)"
   ]
  },
  {
   "cell_type": "code",
   "execution_count": 22,
   "metadata": {
    "lang": "in"
   },
   "outputs": [
    {
     "data": {
      "text/plain": [
       "0      480\n",
       "11     450\n",
       "28     245\n",
       "32    1500\n",
       "47    4700\n",
       "48     550\n",
       "60    1200\n",
       "61     800\n",
       "80    2400\n",
       "83    8390\n",
       "Name: Price, dtype: int64"
      ]
     },
     "execution_count": 22,
     "metadata": {},
     "output_type": "execute_result"
    }
   ],
   "source": [
    "# Check deeper the prices of cars with 'Power' 0\n",
    "df.query('Power == 0')['Price'].head(10)"
   ]
  },
  {
   "cell_type": "markdown",
   "metadata": {},
   "source": [
    "The situation is similar in the `Price` column. Cars with 0 horsepower are certainly not common, but those with low horsepower are also very rare. Most recent car models generally don't have horsepower values below 50.\n",
    "\n",
    "However, it's possible that older cars with lower horsepower are included in the dataset. Therefore, we will not simply delete data rows with low horsepower values.\n",
    "\n",
    "On the other hand, the data in the `Power` column with a value of 0 is quite significant, accounting for more than 10% of the data. Upon further investigation, some of these cars have relatively high prices and were registered relatively recently. This indicates that the data is rather random. We will consider this data as missing values and fill them based on data from other columns that have a strong correlation. To do this, we need to check the correlations between columns first."
   ]
  },
  {
   "cell_type": "code",
   "execution_count": 23,
   "metadata": {
    "lang": "in"
   },
   "outputs": [
    {
     "data": {
      "text/html": [
       "<div>\n",
       "<style scoped>\n",
       "    .dataframe tbody tr th:only-of-type {\n",
       "        vertical-align: middle;\n",
       "    }\n",
       "\n",
       "    .dataframe tbody tr th {\n",
       "        vertical-align: top;\n",
       "    }\n",
       "\n",
       "    .dataframe thead th {\n",
       "        text-align: right;\n",
       "    }\n",
       "</style>\n",
       "<table border=\"1\" class=\"dataframe\">\n",
       "  <thead>\n",
       "    <tr style=\"text-align: right;\">\n",
       "      <th></th>\n",
       "      <th>Price</th>\n",
       "      <th>RegistrationYear</th>\n",
       "      <th>Power</th>\n",
       "      <th>Mileage</th>\n",
       "    </tr>\n",
       "  </thead>\n",
       "  <tbody>\n",
       "    <tr>\n",
       "      <th>Price</th>\n",
       "      <td>1.000000</td>\n",
       "      <td>0.369010</td>\n",
       "      <td>0.138608</td>\n",
       "      <td>-0.299724</td>\n",
       "    </tr>\n",
       "    <tr>\n",
       "      <th>RegistrationYear</th>\n",
       "      <td>0.369010</td>\n",
       "      <td>1.000000</td>\n",
       "      <td>0.021138</td>\n",
       "      <td>-0.159125</td>\n",
       "    </tr>\n",
       "    <tr>\n",
       "      <th>Power</th>\n",
       "      <td>0.138608</td>\n",
       "      <td>0.021138</td>\n",
       "      <td>1.000000</td>\n",
       "      <td>0.031455</td>\n",
       "    </tr>\n",
       "    <tr>\n",
       "      <th>Mileage</th>\n",
       "      <td>-0.299724</td>\n",
       "      <td>-0.159125</td>\n",
       "      <td>0.031455</td>\n",
       "      <td>1.000000</td>\n",
       "    </tr>\n",
       "  </tbody>\n",
       "</table>\n",
       "</div>"
      ],
      "text/plain": [
       "                     Price  RegistrationYear     Power   Mileage\n",
       "Price             1.000000          0.369010  0.138608 -0.299724\n",
       "RegistrationYear  0.369010          1.000000  0.021138 -0.159125\n",
       "Power             0.138608          0.021138  1.000000  0.031455\n",
       "Mileage          -0.299724         -0.159125  0.031455  1.000000"
      ]
     },
     "execution_count": 23,
     "metadata": {},
     "output_type": "execute_result"
    }
   ],
   "source": [
    "# Check data correlation\n",
    "df.corr()"
   ]
  },
  {
   "cell_type": "markdown",
   "metadata": {},
   "source": [
    "The `Power` column shows the strongest correlation with the `Price` column. Consequently, we will use the `Price` column data as a reference to group the data in the `Power` column and calculate the median for each group. The median values will be used to replace the 0 values in the `Power` column."
   ]
  },
  {
   "cell_type": "code",
   "execution_count": 24,
   "metadata": {
    "lang": "in"
   },
   "outputs": [],
   "source": [
    "# Create a function for grouping prices\n",
    "def price_group(price):\n",
    "    if price <= 500:\n",
    "        return 'cheap'\n",
    "    elif 500 < price <= 2000:\n",
    "        return 'medium'\n",
    "    elif 2000 < price <= 10000:\n",
    "        return 'expensive'\n",
    "    else:\n",
    "        return 'very_expensive'"
   ]
  },
  {
   "cell_type": "code",
   "execution_count": 25,
   "metadata": {
    "lang": "in"
   },
   "outputs": [
    {
     "name": "stdout",
     "output_type": "stream",
     "text": [
      "cheap\n",
      "medium\n",
      "expensive\n",
      "very_expensive\n"
     ]
    }
   ],
   "source": [
    "# Function testing\n",
    "print(price_group(150))\n",
    "print(price_group(1000))\n",
    "print(price_group(5000))\n",
    "print(price_group(12000))"
   ]
  },
  {
   "cell_type": "code",
   "execution_count": 26,
   "metadata": {
    "lang": "in"
   },
   "outputs": [],
   "source": [
    "# Create a new column based on the function\n",
    "df['PriceGroup'] = df['Price'].apply(price_group)"
   ]
  },
  {
   "cell_type": "code",
   "execution_count": 27,
   "metadata": {
    "lang": "in",
    "scrolled": true
   },
   "outputs": [
    {
     "data": {
      "text/html": [
       "<div>\n",
       "<style scoped>\n",
       "    .dataframe tbody tr th:only-of-type {\n",
       "        vertical-align: middle;\n",
       "    }\n",
       "\n",
       "    .dataframe tbody tr th {\n",
       "        vertical-align: top;\n",
       "    }\n",
       "\n",
       "    .dataframe thead th {\n",
       "        text-align: right;\n",
       "    }\n",
       "</style>\n",
       "<table border=\"1\" class=\"dataframe\">\n",
       "  <thead>\n",
       "    <tr style=\"text-align: right;\">\n",
       "      <th></th>\n",
       "      <th>Price</th>\n",
       "      <th>VehicleType</th>\n",
       "      <th>RegistrationYear</th>\n",
       "      <th>Gearbox</th>\n",
       "      <th>Power</th>\n",
       "      <th>Model</th>\n",
       "      <th>Mileage</th>\n",
       "      <th>FuelType</th>\n",
       "      <th>Brand</th>\n",
       "      <th>NotRepaired</th>\n",
       "      <th>PriceGroup</th>\n",
       "    </tr>\n",
       "  </thead>\n",
       "  <tbody>\n",
       "    <tr>\n",
       "      <th>0</th>\n",
       "      <td>480</td>\n",
       "      <td>NaN</td>\n",
       "      <td>1993</td>\n",
       "      <td>manual</td>\n",
       "      <td>0</td>\n",
       "      <td>golf</td>\n",
       "      <td>150000</td>\n",
       "      <td>petrol</td>\n",
       "      <td>volkswagen</td>\n",
       "      <td>NaN</td>\n",
       "      <td>cheap</td>\n",
       "    </tr>\n",
       "    <tr>\n",
       "      <th>1</th>\n",
       "      <td>9800</td>\n",
       "      <td>suv</td>\n",
       "      <td>2004</td>\n",
       "      <td>auto</td>\n",
       "      <td>163</td>\n",
       "      <td>grand</td>\n",
       "      <td>125000</td>\n",
       "      <td>gasoline</td>\n",
       "      <td>jeep</td>\n",
       "      <td>NaN</td>\n",
       "      <td>expensive</td>\n",
       "    </tr>\n",
       "    <tr>\n",
       "      <th>2</th>\n",
       "      <td>1500</td>\n",
       "      <td>small</td>\n",
       "      <td>2001</td>\n",
       "      <td>manual</td>\n",
       "      <td>75</td>\n",
       "      <td>golf</td>\n",
       "      <td>150000</td>\n",
       "      <td>petrol</td>\n",
       "      <td>volkswagen</td>\n",
       "      <td>no</td>\n",
       "      <td>medium</td>\n",
       "    </tr>\n",
       "    <tr>\n",
       "      <th>3</th>\n",
       "      <td>3600</td>\n",
       "      <td>small</td>\n",
       "      <td>2008</td>\n",
       "      <td>manual</td>\n",
       "      <td>69</td>\n",
       "      <td>fabia</td>\n",
       "      <td>90000</td>\n",
       "      <td>gasoline</td>\n",
       "      <td>skoda</td>\n",
       "      <td>no</td>\n",
       "      <td>expensive</td>\n",
       "    </tr>\n",
       "    <tr>\n",
       "      <th>4</th>\n",
       "      <td>650</td>\n",
       "      <td>sedan</td>\n",
       "      <td>1995</td>\n",
       "      <td>manual</td>\n",
       "      <td>102</td>\n",
       "      <td>3er</td>\n",
       "      <td>150000</td>\n",
       "      <td>petrol</td>\n",
       "      <td>bmw</td>\n",
       "      <td>yes</td>\n",
       "      <td>medium</td>\n",
       "    </tr>\n",
       "  </tbody>\n",
       "</table>\n",
       "</div>"
      ],
      "text/plain": [
       "   Price VehicleType  RegistrationYear Gearbox  Power  Model  Mileage  \\\n",
       "0    480         NaN              1993  manual      0   golf   150000   \n",
       "1   9800         suv              2004    auto    163  grand   125000   \n",
       "2   1500       small              2001  manual     75   golf   150000   \n",
       "3   3600       small              2008  manual     69  fabia    90000   \n",
       "4    650       sedan              1995  manual    102    3er   150000   \n",
       "\n",
       "   FuelType       Brand NotRepaired PriceGroup  \n",
       "0    petrol  volkswagen         NaN      cheap  \n",
       "1  gasoline        jeep         NaN  expensive  \n",
       "2    petrol  volkswagen          no     medium  \n",
       "3  gasoline       skoda          no  expensive  \n",
       "4    petrol         bmw         yes     medium  "
      ]
     },
     "execution_count": 27,
     "metadata": {},
     "output_type": "execute_result"
    }
   ],
   "source": [
    "# Check the results in the dataset\n",
    "df.head()"
   ]
  },
  {
   "cell_type": "code",
   "execution_count": 28,
   "metadata": {
    "lang": "in"
   },
   "outputs": [
    {
     "data": {
      "text/plain": [
       "PriceGroup\n",
       "cheap              60.0\n",
       "expensive         116.0\n",
       "medium             75.0\n",
       "very_expensive    150.0\n",
       "Name: Power, dtype: float64"
      ]
     },
     "execution_count": 28,
     "metadata": {},
     "output_type": "execute_result"
    }
   ],
   "source": [
    "# Check the median value of each 'Power' group based on 'PriceGroup' grouping\n",
    "df.groupby('PriceGroup')['Power'].median()"
   ]
  },
  {
   "cell_type": "markdown",
   "metadata": {
    "lang": "en"
   },
   "source": [
    "As observed, the median value of the `Power` column increases with higher price classes, which seems reasonable. Now, it's time to replace the 0 values in the `Power` column with the corresponding median values from the `Power` column, based on the grouping in the `PriceGroup` column."
   ]
  },
  {
   "cell_type": "code",
   "execution_count": 29,
   "metadata": {
    "lang": "in"
   },
   "outputs": [],
   "source": [
    "# Create a new function\n",
    "def replace_zero_with_median(df, column_a, column_b, column_c):\n",
    "    \"\"\"\n",
    "    Replace the zeros in a specific column (column_a) with the median value of column_b, \n",
    "    grouped by unique value in column_c.\n",
    "    \n",
    "    Args:\n",
    "    df (pandas.DataFrame): Dataframe that contains rows of data.\n",
    "    column_a (str): Column name to replace null values.\n",
    "    column_b (str): Column name to calculate median.\n",
    "    column_c (str): Column name for group by.\n",
    "    \n",
    "    Returns:\n",
    "    pandas.DataFrame: New version of Dataframe that has been fixed.\n",
    "    \"\"\"\n",
    "\n",
    "    # Group data by unique values in column_c, and calculate the median of column_b.\n",
    "    median_values = df.groupby(column_c)[column_b].median()\n",
    "\n",
    "    # Replace the zeros in column_a with the appropriate median value.\n",
    "    df[column_a] = df.apply(lambda x: median_values[x[column_c]] if x[column_a] == 0 else x[column_a], axis=1)\n",
    "\n",
    "    return df\n"
   ]
  },
  {
   "cell_type": "code",
   "execution_count": 30,
   "metadata": {
    "lang": "in"
   },
   "outputs": [],
   "source": [
    "# Implement the function\n",
    "df = replace_zero_with_median(df, 'Power', 'Power', 'PriceGroup')"
   ]
  },
  {
   "cell_type": "code",
   "execution_count": 31,
   "metadata": {
    "lang": "in",
    "scrolled": true
   },
   "outputs": [
    {
     "data": {
      "text/html": [
       "<div>\n",
       "<style scoped>\n",
       "    .dataframe tbody tr th:only-of-type {\n",
       "        vertical-align: middle;\n",
       "    }\n",
       "\n",
       "    .dataframe tbody tr th {\n",
       "        vertical-align: top;\n",
       "    }\n",
       "\n",
       "    .dataframe thead th {\n",
       "        text-align: right;\n",
       "    }\n",
       "</style>\n",
       "<table border=\"1\" class=\"dataframe\">\n",
       "  <thead>\n",
       "    <tr style=\"text-align: right;\">\n",
       "      <th></th>\n",
       "      <th>Price</th>\n",
       "      <th>VehicleType</th>\n",
       "      <th>RegistrationYear</th>\n",
       "      <th>Gearbox</th>\n",
       "      <th>Power</th>\n",
       "      <th>Model</th>\n",
       "      <th>Mileage</th>\n",
       "      <th>FuelType</th>\n",
       "      <th>Brand</th>\n",
       "      <th>NotRepaired</th>\n",
       "      <th>PriceGroup</th>\n",
       "    </tr>\n",
       "  </thead>\n",
       "  <tbody>\n",
       "  </tbody>\n",
       "</table>\n",
       "</div>"
      ],
      "text/plain": [
       "Empty DataFrame\n",
       "Columns: [Price, VehicleType, RegistrationYear, Gearbox, Power, Model, Mileage, FuelType, Brand, NotRepaired, PriceGroup]\n",
       "Index: []"
      ]
     },
     "execution_count": 31,
     "metadata": {},
     "output_type": "execute_result"
    }
   ],
   "source": [
    "# Checking the value 0 in 'Power' feature\n",
    "df.query('Power == 0')"
   ]
  },
  {
   "cell_type": "markdown",
   "metadata": {},
   "source": [
    "Next, we will verify the accuracy of the function by checking several rows of data that originally had a value of 0 in the 'Power' column. Based on the previous query, we obtained indexes 11 (for Price < 500), 32 (Price 500 - 2000), and 47 (Price 2000 - 10,000)."
   ]
  },
  {
   "cell_type": "code",
   "execution_count": 32,
   "metadata": {},
   "outputs": [
    {
     "data": {
      "text/html": [
       "<div>\n",
       "<style scoped>\n",
       "    .dataframe tbody tr th:only-of-type {\n",
       "        vertical-align: middle;\n",
       "    }\n",
       "\n",
       "    .dataframe tbody tr th {\n",
       "        vertical-align: top;\n",
       "    }\n",
       "\n",
       "    .dataframe thead th {\n",
       "        text-align: right;\n",
       "    }\n",
       "</style>\n",
       "<table border=\"1\" class=\"dataframe\">\n",
       "  <thead>\n",
       "    <tr style=\"text-align: right;\">\n",
       "      <th></th>\n",
       "      <th>Price</th>\n",
       "      <th>VehicleType</th>\n",
       "      <th>RegistrationYear</th>\n",
       "      <th>Gearbox</th>\n",
       "      <th>Power</th>\n",
       "      <th>Model</th>\n",
       "      <th>Mileage</th>\n",
       "      <th>FuelType</th>\n",
       "      <th>Brand</th>\n",
       "      <th>NotRepaired</th>\n",
       "      <th>PriceGroup</th>\n",
       "    </tr>\n",
       "  </thead>\n",
       "  <tbody>\n",
       "    <tr>\n",
       "      <th>11</th>\n",
       "      <td>450</td>\n",
       "      <td>small</td>\n",
       "      <td>1910</td>\n",
       "      <td>NaN</td>\n",
       "      <td>60.0</td>\n",
       "      <td>ka</td>\n",
       "      <td>5000</td>\n",
       "      <td>petrol</td>\n",
       "      <td>ford</td>\n",
       "      <td>NaN</td>\n",
       "      <td>cheap</td>\n",
       "    </tr>\n",
       "    <tr>\n",
       "      <th>32</th>\n",
       "      <td>1500</td>\n",
       "      <td>NaN</td>\n",
       "      <td>2016</td>\n",
       "      <td>NaN</td>\n",
       "      <td>75.0</td>\n",
       "      <td>kangoo</td>\n",
       "      <td>150000</td>\n",
       "      <td>gasoline</td>\n",
       "      <td>renault</td>\n",
       "      <td>no</td>\n",
       "      <td>medium</td>\n",
       "    </tr>\n",
       "    <tr>\n",
       "      <th>47</th>\n",
       "      <td>4700</td>\n",
       "      <td>wagon</td>\n",
       "      <td>2005</td>\n",
       "      <td>manual</td>\n",
       "      <td>116.0</td>\n",
       "      <td>signum</td>\n",
       "      <td>150000</td>\n",
       "      <td>NaN</td>\n",
       "      <td>opel</td>\n",
       "      <td>no</td>\n",
       "      <td>expensive</td>\n",
       "    </tr>\n",
       "  </tbody>\n",
       "</table>\n",
       "</div>"
      ],
      "text/plain": [
       "    Price VehicleType  RegistrationYear Gearbox  Power   Model  Mileage  \\\n",
       "11    450       small              1910     NaN   60.0      ka     5000   \n",
       "32   1500         NaN              2016     NaN   75.0  kangoo   150000   \n",
       "47   4700       wagon              2005  manual  116.0  signum   150000   \n",
       "\n",
       "    FuelType    Brand NotRepaired PriceGroup  \n",
       "11    petrol     ford         NaN      cheap  \n",
       "32  gasoline  renault          no     medium  \n",
       "47       NaN     opel          no  expensive  "
      ]
     },
     "execution_count": 32,
     "metadata": {},
     "output_type": "execute_result"
    }
   ],
   "source": [
    "df.iloc[[11, 32, 47]]"
   ]
  },
  {
   "cell_type": "markdown",
   "metadata": {
    "lang": "en"
   },
   "source": [
    "The function works perfectly; the 0 values have been replaced with the appropriate median values."
   ]
  },
  {
   "cell_type": "markdown",
   "metadata": {
    "lang": "en"
   },
   "source": [
    "#### 2.3.5 Removing Duplicates"
   ]
  },
  {
   "cell_type": "markdown",
   "metadata": {
    "lang": "en"
   },
   "source": [
    "There are only 262 duplicate rows, which can be safely deleted."
   ]
  },
  {
   "cell_type": "code",
   "execution_count": 33,
   "metadata": {},
   "outputs": [
    {
     "data": {
      "text/plain": [
       "0"
      ]
     },
     "execution_count": 33,
     "metadata": {},
     "output_type": "execute_result"
    }
   ],
   "source": [
    "# Drop duplicates\n",
    "df = df.drop_duplicates().reset_index(drop=True)\n",
    "df.duplicated().sum()"
   ]
  },
  {
   "cell_type": "code",
   "execution_count": 34,
   "metadata": {},
   "outputs": [
    {
     "data": {
      "text/plain": [
       "(279741, 11)"
      ]
     },
     "execution_count": 34,
     "metadata": {},
     "output_type": "execute_result"
    }
   ],
   "source": [
    "# Rechecking the shape of the data\n",
    "df.shape"
   ]
  },
  {
   "cell_type": "markdown",
   "metadata": {
    "lang": "en"
   },
   "source": [
    "#### 2.3.6 Handling Missing Values"
   ]
  },
  {
   "cell_type": "markdown",
   "metadata": {
    "lang": "en"
   },
   "source": [
    "Based on the previous checks, there are a considerable number of missing values in this dataset."
   ]
  },
  {
   "cell_type": "code",
   "execution_count": 35,
   "metadata": {
    "lang": "in",
    "scrolled": true
   },
   "outputs": [
    {
     "data": {
      "text/plain": [
       "Price                   0\n",
       "VehicleType         29775\n",
       "RegistrationYear        0\n",
       "Gearbox             14073\n",
       "Power                   0\n",
       "Model               15589\n",
       "Mileage                 0\n",
       "FuelType            26357\n",
       "Brand                   0\n",
       "NotRepaired         57232\n",
       "PriceGroup              0\n",
       "dtype: int64"
      ]
     },
     "execution_count": 35,
     "metadata": {},
     "output_type": "execute_result"
    }
   ],
   "source": [
    "# Checking total missing values\n",
    "df.isna().sum()"
   ]
  },
  {
   "cell_type": "code",
   "execution_count": 36,
   "metadata": {
    "lang": "in"
   },
   "outputs": [
    {
     "data": {
      "text/html": [
       "<div>\n",
       "<style scoped>\n",
       "    .dataframe tbody tr th:only-of-type {\n",
       "        vertical-align: middle;\n",
       "    }\n",
       "\n",
       "    .dataframe tbody tr th {\n",
       "        vertical-align: top;\n",
       "    }\n",
       "\n",
       "    .dataframe thead th {\n",
       "        text-align: right;\n",
       "    }\n",
       "</style>\n",
       "<table border=\"1\" class=\"dataframe\">\n",
       "  <thead>\n",
       "    <tr style=\"text-align: right;\">\n",
       "      <th></th>\n",
       "      <th>Price</th>\n",
       "      <th>VehicleType</th>\n",
       "      <th>RegistrationYear</th>\n",
       "      <th>Gearbox</th>\n",
       "      <th>Power</th>\n",
       "      <th>Model</th>\n",
       "      <th>Mileage</th>\n",
       "      <th>FuelType</th>\n",
       "      <th>Brand</th>\n",
       "      <th>NotRepaired</th>\n",
       "      <th>PriceGroup</th>\n",
       "    </tr>\n",
       "  </thead>\n",
       "  <tbody>\n",
       "    <tr>\n",
       "      <th>0</th>\n",
       "      <td>480</td>\n",
       "      <td>NaN</td>\n",
       "      <td>1993</td>\n",
       "      <td>manual</td>\n",
       "      <td>60.0</td>\n",
       "      <td>golf</td>\n",
       "      <td>150000</td>\n",
       "      <td>petrol</td>\n",
       "      <td>volkswagen</td>\n",
       "      <td>NaN</td>\n",
       "      <td>cheap</td>\n",
       "    </tr>\n",
       "    <tr>\n",
       "      <th>1</th>\n",
       "      <td>9800</td>\n",
       "      <td>suv</td>\n",
       "      <td>2004</td>\n",
       "      <td>auto</td>\n",
       "      <td>163.0</td>\n",
       "      <td>grand</td>\n",
       "      <td>125000</td>\n",
       "      <td>gasoline</td>\n",
       "      <td>jeep</td>\n",
       "      <td>NaN</td>\n",
       "      <td>expensive</td>\n",
       "    </tr>\n",
       "    <tr>\n",
       "      <th>2</th>\n",
       "      <td>1500</td>\n",
       "      <td>small</td>\n",
       "      <td>2001</td>\n",
       "      <td>manual</td>\n",
       "      <td>75.0</td>\n",
       "      <td>golf</td>\n",
       "      <td>150000</td>\n",
       "      <td>petrol</td>\n",
       "      <td>volkswagen</td>\n",
       "      <td>no</td>\n",
       "      <td>medium</td>\n",
       "    </tr>\n",
       "  </tbody>\n",
       "</table>\n",
       "</div>"
      ],
      "text/plain": [
       "   Price VehicleType  RegistrationYear Gearbox  Power  Model  Mileage  \\\n",
       "0    480         NaN              1993  manual   60.0   golf   150000   \n",
       "1   9800         suv              2004    auto  163.0  grand   125000   \n",
       "2   1500       small              2001  manual   75.0   golf   150000   \n",
       "\n",
       "   FuelType       Brand NotRepaired PriceGroup  \n",
       "0    petrol  volkswagen         NaN      cheap  \n",
       "1  gasoline        jeep         NaN  expensive  \n",
       "2    petrol  volkswagen          no     medium  "
      ]
     },
     "execution_count": 36,
     "metadata": {},
     "output_type": "execute_result"
    }
   ],
   "source": [
    "# Checking the characteristics of columns with missing values\n",
    "df.head(3)"
   ]
  },
  {
   "cell_type": "code",
   "execution_count": 37,
   "metadata": {},
   "outputs": [
    {
     "data": {
      "text/plain": [
       "Price                 int64\n",
       "VehicleType          object\n",
       "RegistrationYear      int64\n",
       "Gearbox              object\n",
       "Power               float64\n",
       "Model                object\n",
       "Mileage               int64\n",
       "FuelType             object\n",
       "Brand                object\n",
       "NotRepaired          object\n",
       "PriceGroup           object\n",
       "dtype: object"
      ]
     },
     "execution_count": 37,
     "metadata": {},
     "output_type": "execute_result"
    }
   ],
   "source": [
    "# Checking the data types\n",
    "df.dtypes"
   ]
  },
  {
   "cell_type": "markdown",
   "metadata": {
    "lang": "en"
   },
   "source": [
    "It can be seen that all missing data is in non-numeric columns or categorical data. We'll fill all missing values with 'unknown'."
   ]
  },
  {
   "cell_type": "code",
   "execution_count": 38,
   "metadata": {},
   "outputs": [
    {
     "data": {
      "text/html": [
       "<div>\n",
       "<style scoped>\n",
       "    .dataframe tbody tr th:only-of-type {\n",
       "        vertical-align: middle;\n",
       "    }\n",
       "\n",
       "    .dataframe tbody tr th {\n",
       "        vertical-align: top;\n",
       "    }\n",
       "\n",
       "    .dataframe thead th {\n",
       "        text-align: right;\n",
       "    }\n",
       "</style>\n",
       "<table border=\"1\" class=\"dataframe\">\n",
       "  <thead>\n",
       "    <tr style=\"text-align: right;\">\n",
       "      <th></th>\n",
       "      <th>Price</th>\n",
       "      <th>VehicleType</th>\n",
       "      <th>RegistrationYear</th>\n",
       "      <th>Gearbox</th>\n",
       "      <th>Power</th>\n",
       "      <th>Model</th>\n",
       "      <th>Mileage</th>\n",
       "      <th>FuelType</th>\n",
       "      <th>Brand</th>\n",
       "      <th>NotRepaired</th>\n",
       "      <th>PriceGroup</th>\n",
       "    </tr>\n",
       "  </thead>\n",
       "  <tbody>\n",
       "    <tr>\n",
       "      <th>0</th>\n",
       "      <td>480</td>\n",
       "      <td>unknown</td>\n",
       "      <td>1993</td>\n",
       "      <td>manual</td>\n",
       "      <td>60.0</td>\n",
       "      <td>golf</td>\n",
       "      <td>150000</td>\n",
       "      <td>petrol</td>\n",
       "      <td>volkswagen</td>\n",
       "      <td>unknown</td>\n",
       "      <td>cheap</td>\n",
       "    </tr>\n",
       "    <tr>\n",
       "      <th>1</th>\n",
       "      <td>9800</td>\n",
       "      <td>suv</td>\n",
       "      <td>2004</td>\n",
       "      <td>auto</td>\n",
       "      <td>163.0</td>\n",
       "      <td>grand</td>\n",
       "      <td>125000</td>\n",
       "      <td>gasoline</td>\n",
       "      <td>jeep</td>\n",
       "      <td>unknown</td>\n",
       "      <td>expensive</td>\n",
       "    </tr>\n",
       "    <tr>\n",
       "      <th>2</th>\n",
       "      <td>1500</td>\n",
       "      <td>small</td>\n",
       "      <td>2001</td>\n",
       "      <td>manual</td>\n",
       "      <td>75.0</td>\n",
       "      <td>golf</td>\n",
       "      <td>150000</td>\n",
       "      <td>petrol</td>\n",
       "      <td>volkswagen</td>\n",
       "      <td>no</td>\n",
       "      <td>medium</td>\n",
       "    </tr>\n",
       "  </tbody>\n",
       "</table>\n",
       "</div>"
      ],
      "text/plain": [
       "   Price VehicleType  RegistrationYear Gearbox  Power  Model  Mileage  \\\n",
       "0    480     unknown              1993  manual   60.0   golf   150000   \n",
       "1   9800         suv              2004    auto  163.0  grand   125000   \n",
       "2   1500       small              2001  manual   75.0   golf   150000   \n",
       "\n",
       "   FuelType       Brand NotRepaired PriceGroup  \n",
       "0    petrol  volkswagen     unknown      cheap  \n",
       "1  gasoline        jeep     unknown  expensive  \n",
       "2    petrol  volkswagen          no     medium  "
      ]
     },
     "execution_count": 38,
     "metadata": {},
     "output_type": "execute_result"
    }
   ],
   "source": [
    "# Fill the missing values\n",
    "df.fillna(value='unknown', inplace=True)\n",
    "df.head(3)"
   ]
  },
  {
   "cell_type": "code",
   "execution_count": 39,
   "metadata": {},
   "outputs": [
    {
     "data": {
      "text/plain": [
       "Price               0\n",
       "VehicleType         0\n",
       "RegistrationYear    0\n",
       "Gearbox             0\n",
       "Power               0\n",
       "Model               0\n",
       "Mileage             0\n",
       "FuelType            0\n",
       "Brand               0\n",
       "NotRepaired         0\n",
       "PriceGroup          0\n",
       "dtype: int64"
      ]
     },
     "execution_count": 39,
     "metadata": {},
     "output_type": "execute_result"
    }
   ],
   "source": [
    "# Checking the result\n",
    "df.isna().sum()"
   ]
  },
  {
   "cell_type": "markdown",
   "metadata": {
    "lang": "en"
   },
   "source": [
    "All missing values ​​are filled in."
   ]
  },
  {
   "cell_type": "markdown",
   "metadata": {
    "lang": "en"
   },
   "source": [
    "#### 2.3.7 Reduce Dataset Size"
   ]
  },
  {
   "cell_type": "markdown",
   "metadata": {
    "lang": "en"
   },
   "source": [
    "The dataset we obtained is relatively small, but let's see if we can reduce its size by changing the data types."
   ]
  },
  {
   "cell_type": "code",
   "execution_count": 40,
   "metadata": {
    "lang": "in"
   },
   "outputs": [],
   "source": [
    "def convert_numeric_to_smaller_type(df):\n",
    "    \"\"\"\n",
    "    Changing the numeric data type in the dataset to take a smaller data type (according to the range of values in the column).\n",
    "    :param df: the dataset to change the data type of the numeric column  \n",
    "    :return: dataset with a smaller numeric data type\n",
    "    \"\"\"\n",
    "    # Get a list of numeric columns\n",
    "    numeric_cols = df.select_dtypes(include=np.number).columns.tolist()\n",
    "    \n",
    "    # Calculate initial memory\n",
    "    start_mem = df.memory_usage().sum() / 1024**2\n",
    "    print('Memory usage of dataframe       = {:.2f} MB'.format(start_mem))\n",
    "    \n",
    "    # Change the numeric data type in each column\n",
    "    for col in numeric_cols:\n",
    "        col_min = df[col].min()\n",
    "        col_max = df[col].max()\n",
    "        if col_min >= 0:\n",
    "            if col_max < 256:\n",
    "                df[col] = df[col].astype(np.uint8)\n",
    "            elif col_max < 65536:\n",
    "                df[col] = df[col].astype(np.uint16)\n",
    "            elif col_max < 4294967296:\n",
    "                df[col] = df[col].astype(np.uint32)\n",
    "            else:\n",
    "                df[col] = df[col].astype(np.uint64)\n",
    "        else:\n",
    "            if col_min >= np.iinfo(np.int8).min and col_max <= np.iinfo(np.int8).max:\n",
    "                df[col] = df[col].astype(np.int8)\n",
    "            elif col_min >= np.iinfo(np.int16).min and col_max <= np.iinfo(np.int16).max:\n",
    "                df[col] = df[col].astype(np.int16)\n",
    "            elif col_min >= np.iinfo(np.int32).min and col_max <= np.iinfo(np.int32).max:\n",
    "                df[col] = df[col].astype(np.int32)\n",
    "            else:\n",
    "                df[col] = df[col].astype(np.int64)\n",
    "                \n",
    "    end_mem = df.memory_usage().sum() / 1024**2\n",
    "    print('Memory usage after optimization = {:.2f} MB'.format(end_mem))\n",
    "    print('Decreased by {:.1f}%'.format(100 * (start_mem - end_mem) / start_mem))\n",
    "    \n",
    "    return df"
   ]
  },
  {
   "cell_type": "code",
   "execution_count": 41,
   "metadata": {
    "scrolled": true
   },
   "outputs": [
    {
     "name": "stdout",
     "output_type": "stream",
     "text": [
      "Memory usage of dataframe       = 23.48 MB\n",
      "Memory usage after optimization = 17.61 MB\n",
      "Decreased by 25.0%\n"
     ]
    }
   ],
   "source": [
    "# Implement the function\n",
    "df = convert_numeric_to_smaller_type(df)"
   ]
  },
  {
   "cell_type": "code",
   "execution_count": 42,
   "metadata": {},
   "outputs": [
    {
     "data": {
      "text/plain": [
       "Price               uint16\n",
       "VehicleType         object\n",
       "RegistrationYear    uint16\n",
       "Gearbox             object\n",
       "Power               uint16\n",
       "Model               object\n",
       "Mileage             uint32\n",
       "FuelType            object\n",
       "Brand               object\n",
       "NotRepaired         object\n",
       "PriceGroup          object\n",
       "dtype: object"
      ]
     },
     "execution_count": 42,
     "metadata": {},
     "output_type": "execute_result"
    }
   ],
   "source": [
    "# Check the result\n",
    "df.dtypes"
   ]
  },
  {
   "cell_type": "markdown",
   "metadata": {
    "lang": "en"
   },
   "source": [
    "Thus, all data pre-processing is completed."
   ]
  },
  {
   "cell_type": "markdown",
   "metadata": {
    "lang": "en"
   },
   "source": [
    "### 2.4 Preparing the Datasets"
   ]
  },
  {
   "cell_type": "markdown",
   "metadata": {},
   "source": [
    "We will train several models and compare the results. While some models can handle categorical features, others cannot. Therefore, we need to prepare two separate datasets for the training needs of these models.\n",
    "- `df` will be the main dataset containing the categorical features unchanged. This dataset will be used for models capable of handling categorical features.\n",
    "- `df_new` will be used for models that are unable to handle categorical features. Therefore, in this dataset, we will convert its categorical features into numeric features by encoding."
   ]
  },
  {
   "cell_type": "markdown",
   "metadata": {
    "lang": "en"
   },
   "source": [
    "#### 2.4.1 `df_new` Dataset"
   ]
  },
  {
   "cell_type": "markdown",
   "metadata": {
    "lang": "en"
   },
   "source": [
    "To prepare this new dataset, we will take several steps:\n",
    "- Remove the `Model` and `Brand` features as they contain too many unique values.\n",
    "- Remove the `PriceGroup` feature as it was only used to help fill in missing values.\n",
    "- Create a new dataset `df_new` by copying the `df` dataset and removing the mentioned features.\n",
    "- Since we consider the categorical features in our dataset to be nominal, we cannot use OrdinalEncoder. Instead, we will use the Pandas function `get_dummies` to perform one-hot encoding (OHE)."
   ]
  },
  {
   "cell_type": "code",
   "execution_count": 43,
   "metadata": {
    "lang": "in"
   },
   "outputs": [
    {
     "data": {
      "text/html": [
       "<div>\n",
       "<style scoped>\n",
       "    .dataframe tbody tr th:only-of-type {\n",
       "        vertical-align: middle;\n",
       "    }\n",
       "\n",
       "    .dataframe tbody tr th {\n",
       "        vertical-align: top;\n",
       "    }\n",
       "\n",
       "    .dataframe thead th {\n",
       "        text-align: right;\n",
       "    }\n",
       "</style>\n",
       "<table border=\"1\" class=\"dataframe\">\n",
       "  <thead>\n",
       "    <tr style=\"text-align: right;\">\n",
       "      <th></th>\n",
       "      <th>Price</th>\n",
       "      <th>VehicleType</th>\n",
       "      <th>RegistrationYear</th>\n",
       "      <th>Gearbox</th>\n",
       "      <th>Power</th>\n",
       "      <th>Mileage</th>\n",
       "      <th>FuelType</th>\n",
       "      <th>NotRepaired</th>\n",
       "    </tr>\n",
       "  </thead>\n",
       "  <tbody>\n",
       "    <tr>\n",
       "      <th>0</th>\n",
       "      <td>480</td>\n",
       "      <td>unknown</td>\n",
       "      <td>1993</td>\n",
       "      <td>manual</td>\n",
       "      <td>60</td>\n",
       "      <td>150000</td>\n",
       "      <td>petrol</td>\n",
       "      <td>unknown</td>\n",
       "    </tr>\n",
       "    <tr>\n",
       "      <th>1</th>\n",
       "      <td>9800</td>\n",
       "      <td>suv</td>\n",
       "      <td>2004</td>\n",
       "      <td>auto</td>\n",
       "      <td>163</td>\n",
       "      <td>125000</td>\n",
       "      <td>gasoline</td>\n",
       "      <td>unknown</td>\n",
       "    </tr>\n",
       "    <tr>\n",
       "      <th>2</th>\n",
       "      <td>1500</td>\n",
       "      <td>small</td>\n",
       "      <td>2001</td>\n",
       "      <td>manual</td>\n",
       "      <td>75</td>\n",
       "      <td>150000</td>\n",
       "      <td>petrol</td>\n",
       "      <td>no</td>\n",
       "    </tr>\n",
       "    <tr>\n",
       "      <th>3</th>\n",
       "      <td>3600</td>\n",
       "      <td>small</td>\n",
       "      <td>2008</td>\n",
       "      <td>manual</td>\n",
       "      <td>69</td>\n",
       "      <td>90000</td>\n",
       "      <td>gasoline</td>\n",
       "      <td>no</td>\n",
       "    </tr>\n",
       "    <tr>\n",
       "      <th>4</th>\n",
       "      <td>650</td>\n",
       "      <td>sedan</td>\n",
       "      <td>1995</td>\n",
       "      <td>manual</td>\n",
       "      <td>102</td>\n",
       "      <td>150000</td>\n",
       "      <td>petrol</td>\n",
       "      <td>yes</td>\n",
       "    </tr>\n",
       "  </tbody>\n",
       "</table>\n",
       "</div>"
      ],
      "text/plain": [
       "   Price VehicleType  RegistrationYear Gearbox  Power  Mileage  FuelType  \\\n",
       "0    480     unknown              1993  manual     60   150000    petrol   \n",
       "1   9800         suv              2004    auto    163   125000  gasoline   \n",
       "2   1500       small              2001  manual     75   150000    petrol   \n",
       "3   3600       small              2008  manual     69    90000  gasoline   \n",
       "4    650       sedan              1995  manual    102   150000    petrol   \n",
       "\n",
       "  NotRepaired  \n",
       "0     unknown  \n",
       "1     unknown  \n",
       "2          no  \n",
       "3          no  \n",
       "4         yes  "
      ]
     },
     "execution_count": 43,
     "metadata": {},
     "output_type": "execute_result"
    }
   ],
   "source": [
    "# Prepare the alternative dataset\n",
    "df_new = df.copy().drop(['Model', 'Brand', 'PriceGroup'], axis=1)\n",
    "df_new.head()"
   ]
  },
  {
   "cell_type": "code",
   "execution_count": 44,
   "metadata": {
    "lang": "in"
   },
   "outputs": [],
   "source": [
    "# Perform encoding\n",
    "df_new = pd.get_dummies(df_new, drop_first=True)"
   ]
  },
  {
   "cell_type": "code",
   "execution_count": 45,
   "metadata": {},
   "outputs": [
    {
     "data": {
      "text/plain": [
       "(279741, 23)"
      ]
     },
     "execution_count": 45,
     "metadata": {},
     "output_type": "execute_result"
    }
   ],
   "source": [
    "# Check the shape of the new dataset\n",
    "df_new.shape"
   ]
  },
  {
   "cell_type": "code",
   "execution_count": 46,
   "metadata": {
    "scrolled": true
   },
   "outputs": [
    {
     "data": {
      "text/plain": [
       "Index(['Price', 'RegistrationYear', 'Power', 'Mileage',\n",
       "       'VehicleType_convertible', 'VehicleType_coupe', 'VehicleType_other',\n",
       "       'VehicleType_sedan', 'VehicleType_small', 'VehicleType_suv',\n",
       "       'VehicleType_unknown', 'VehicleType_wagon', 'Gearbox_manual',\n",
       "       'Gearbox_unknown', 'FuelType_electric', 'FuelType_gasoline',\n",
       "       'FuelType_hybrid', 'FuelType_lpg', 'FuelType_other', 'FuelType_petrol',\n",
       "       'FuelType_unknown', 'NotRepaired_unknown', 'NotRepaired_yes'],\n",
       "      dtype='object')"
      ]
     },
     "execution_count": 46,
     "metadata": {},
     "output_type": "execute_result"
    }
   ],
   "source": [
    "# Check the columns of the new dataset\n",
    "df_new.columns"
   ]
  },
  {
   "cell_type": "markdown",
   "metadata": {
    "lang": "en"
   },
   "source": [
    "#### 2.4.2 Split the Dataset Into Features and Targets"
   ]
  },
  {
   "cell_type": "code",
   "execution_count": 47,
   "metadata": {
    "lang": "in"
   },
   "outputs": [],
   "source": [
    "# Main dataset\n",
    "features = df.drop('Price', axis=1)\n",
    "target = df['Price']\n",
    "features_train, features_test, target_train, target_test = train_test_split(features, target, test_size=0.2,\n",
    "                                                                 random_state=2023)"
   ]
  },
  {
   "cell_type": "code",
   "execution_count": 48,
   "metadata": {
    "lang": "in"
   },
   "outputs": [
    {
     "name": "stdout",
     "output_type": "stream",
     "text": [
      "(223792, 10)\n",
      "(55949, 10)\n",
      "(223792,)\n",
      "(55949,)\n"
     ]
    }
   ],
   "source": [
    "# Checking dataset size\n",
    "print(features_train.shape)\n",
    "print(features_test.shape)\n",
    "print(target_train.shape)\n",
    "print(target_test.shape)"
   ]
  },
  {
   "cell_type": "code",
   "execution_count": 49,
   "metadata": {
    "lang": "in"
   },
   "outputs": [],
   "source": [
    "# The new encoding dataset\n",
    "features_new = df_new.drop('Price', axis=1)\n",
    "target_new = df_new['Price']\n",
    "features_train_new, features_test_new, target_train_new, target_test_new = train_test_split(features_new, target_new, test_size=0.2,\n",
    "                                                                 random_state=2023)"
   ]
  },
  {
   "cell_type": "code",
   "execution_count": 50,
   "metadata": {},
   "outputs": [
    {
     "name": "stdout",
     "output_type": "stream",
     "text": [
      "(223792, 22)\n",
      "(55949, 22)\n",
      "(223792,)\n",
      "(55949,)\n"
     ]
    }
   ],
   "source": [
    "# Checking dataset size\n",
    "print(features_train_new.shape)\n",
    "print(features_test_new.shape)\n",
    "print(target_train_new.shape)\n",
    "print(target_test_new.shape)"
   ]
  },
  {
   "cell_type": "markdown",
   "metadata": {
    "lang": "en"
   },
   "source": [
    "#### 2.4.3 Features Scaling"
   ]
  },
  {
   "cell_type": "markdown",
   "metadata": {
    "lang": "en"
   },
   "source": [
    "To ensure that numerical features in the dataset are treated equally and not influenced by varying ranges of values, we will perform feature scaling on the existing dataset. This will help prevent the model from interpreting features with a high range of values as more important than others."
   ]
  },
  {
   "cell_type": "code",
   "execution_count": 51,
   "metadata": {},
   "outputs": [
    {
     "data": {
      "text/html": [
       "<div>\n",
       "<style scoped>\n",
       "    .dataframe tbody tr th:only-of-type {\n",
       "        vertical-align: middle;\n",
       "    }\n",
       "\n",
       "    .dataframe tbody tr th {\n",
       "        vertical-align: top;\n",
       "    }\n",
       "\n",
       "    .dataframe thead th {\n",
       "        text-align: right;\n",
       "    }\n",
       "</style>\n",
       "<table border=\"1\" class=\"dataframe\">\n",
       "  <thead>\n",
       "    <tr style=\"text-align: right;\">\n",
       "      <th></th>\n",
       "      <th>VehicleType</th>\n",
       "      <th>RegistrationYear</th>\n",
       "      <th>Gearbox</th>\n",
       "      <th>Power</th>\n",
       "      <th>Model</th>\n",
       "      <th>Mileage</th>\n",
       "      <th>FuelType</th>\n",
       "      <th>Brand</th>\n",
       "      <th>NotRepaired</th>\n",
       "      <th>PriceGroup</th>\n",
       "    </tr>\n",
       "  </thead>\n",
       "  <tbody>\n",
       "    <tr>\n",
       "      <th>175072</th>\n",
       "      <td>sedan</td>\n",
       "      <td>-0.403122</td>\n",
       "      <td>manual</td>\n",
       "      <td>0.469688</td>\n",
       "      <td>other</td>\n",
       "      <td>0.563714</td>\n",
       "      <td>petrol</td>\n",
       "      <td>audi</td>\n",
       "      <td>no</td>\n",
       "      <td>expensive</td>\n",
       "    </tr>\n",
       "    <tr>\n",
       "      <th>269455</th>\n",
       "      <td>unknown</td>\n",
       "      <td>1.780200</td>\n",
       "      <td>manual</td>\n",
       "      <td>-0.163108</td>\n",
       "      <td>147</td>\n",
       "      <td>-0.124972</td>\n",
       "      <td>gasoline</td>\n",
       "      <td>alfa_romeo</td>\n",
       "      <td>unknown</td>\n",
       "      <td>expensive</td>\n",
       "    </tr>\n",
       "    <tr>\n",
       "      <th>149021</th>\n",
       "      <td>bus</td>\n",
       "      <td>-0.266665</td>\n",
       "      <td>manual</td>\n",
       "      <td>0.150717</td>\n",
       "      <td>zafira</td>\n",
       "      <td>0.563714</td>\n",
       "      <td>lpg</td>\n",
       "      <td>opel</td>\n",
       "      <td>no</td>\n",
       "      <td>expensive</td>\n",
       "    </tr>\n",
       "    <tr>\n",
       "      <th>30879</th>\n",
       "      <td>bus</td>\n",
       "      <td>-1.767699</td>\n",
       "      <td>auto</td>\n",
       "      <td>0.418241</td>\n",
       "      <td>other</td>\n",
       "      <td>0.563714</td>\n",
       "      <td>petrol</td>\n",
       "      <td>chevrolet</td>\n",
       "      <td>yes</td>\n",
       "      <td>expensive</td>\n",
       "    </tr>\n",
       "    <tr>\n",
       "      <th>34171</th>\n",
       "      <td>small</td>\n",
       "      <td>-0.403122</td>\n",
       "      <td>manual</td>\n",
       "      <td>-0.219699</td>\n",
       "      <td>polo</td>\n",
       "      <td>0.563714</td>\n",
       "      <td>petrol</td>\n",
       "      <td>volkswagen</td>\n",
       "      <td>no</td>\n",
       "      <td>medium</td>\n",
       "    </tr>\n",
       "  </tbody>\n",
       "</table>\n",
       "</div>"
      ],
      "text/plain": [
       "       VehicleType  RegistrationYear Gearbox     Power   Model   Mileage  \\\n",
       "175072       sedan         -0.403122  manual  0.469688   other  0.563714   \n",
       "269455     unknown          1.780200  manual -0.163108     147 -0.124972   \n",
       "149021         bus         -0.266665  manual  0.150717  zafira  0.563714   \n",
       "30879          bus         -1.767699    auto  0.418241   other  0.563714   \n",
       "34171        small         -0.403122  manual -0.219699    polo  0.563714   \n",
       "\n",
       "        FuelType       Brand NotRepaired PriceGroup  \n",
       "175072    petrol        audi          no  expensive  \n",
       "269455  gasoline  alfa_romeo     unknown  expensive  \n",
       "149021       lpg        opel          no  expensive  \n",
       "30879     petrol   chevrolet         yes  expensive  \n",
       "34171     petrol  volkswagen          no     medium  "
      ]
     },
     "execution_count": 51,
     "metadata": {},
     "output_type": "execute_result"
    }
   ],
   "source": [
    "# Doing features scaling\n",
    "numeric = features_train.select_dtypes(include=['uint16', 'uint32']).columns\n",
    "scaler = StandardScaler()\n",
    "features_train[numeric] = scaler.fit_transform(features_train[numeric])\n",
    "features_train.head()"
   ]
  },
  {
   "cell_type": "code",
   "execution_count": 52,
   "metadata": {},
   "outputs": [
    {
     "data": {
      "text/html": [
       "<div>\n",
       "<style scoped>\n",
       "    .dataframe tbody tr th:only-of-type {\n",
       "        vertical-align: middle;\n",
       "    }\n",
       "\n",
       "    .dataframe tbody tr th {\n",
       "        vertical-align: top;\n",
       "    }\n",
       "\n",
       "    .dataframe thead th {\n",
       "        text-align: right;\n",
       "    }\n",
       "</style>\n",
       "<table border=\"1\" class=\"dataframe\">\n",
       "  <thead>\n",
       "    <tr style=\"text-align: right;\">\n",
       "      <th></th>\n",
       "      <th>VehicleType</th>\n",
       "      <th>RegistrationYear</th>\n",
       "      <th>Gearbox</th>\n",
       "      <th>Power</th>\n",
       "      <th>Model</th>\n",
       "      <th>Mileage</th>\n",
       "      <th>FuelType</th>\n",
       "      <th>Brand</th>\n",
       "      <th>NotRepaired</th>\n",
       "      <th>PriceGroup</th>\n",
       "    </tr>\n",
       "  </thead>\n",
       "  <tbody>\n",
       "    <tr>\n",
       "      <th>137376</th>\n",
       "      <td>small</td>\n",
       "      <td>-1.085410</td>\n",
       "      <td>manual</td>\n",
       "      <td>-0.296870</td>\n",
       "      <td>ibiza</td>\n",
       "      <td>-0.813657</td>\n",
       "      <td>unknown</td>\n",
       "      <td>seat</td>\n",
       "      <td>no</td>\n",
       "      <td>cheap</td>\n",
       "    </tr>\n",
       "    <tr>\n",
       "      <th>164249</th>\n",
       "      <td>small</td>\n",
       "      <td>0.279166</td>\n",
       "      <td>manual</td>\n",
       "      <td>-0.219699</td>\n",
       "      <td>fabia</td>\n",
       "      <td>0.563714</td>\n",
       "      <td>petrol</td>\n",
       "      <td>skoda</td>\n",
       "      <td>no</td>\n",
       "      <td>expensive</td>\n",
       "    </tr>\n",
       "    <tr>\n",
       "      <th>263459</th>\n",
       "      <td>sedan</td>\n",
       "      <td>0.961454</td>\n",
       "      <td>manual</td>\n",
       "      <td>0.114705</td>\n",
       "      <td>scirocco</td>\n",
       "      <td>0.563714</td>\n",
       "      <td>gasoline</td>\n",
       "      <td>volkswagen</td>\n",
       "      <td>no</td>\n",
       "      <td>very_expensive</td>\n",
       "    </tr>\n",
       "    <tr>\n",
       "      <th>175001</th>\n",
       "      <td>wagon</td>\n",
       "      <td>0.142708</td>\n",
       "      <td>manual</td>\n",
       "      <td>0.022100</td>\n",
       "      <td>c_klasse</td>\n",
       "      <td>0.563714</td>\n",
       "      <td>gasoline</td>\n",
       "      <td>mercedes_benz</td>\n",
       "      <td>no</td>\n",
       "      <td>expensive</td>\n",
       "    </tr>\n",
       "    <tr>\n",
       "      <th>91024</th>\n",
       "      <td>unknown</td>\n",
       "      <td>1.916657</td>\n",
       "      <td>unknown</td>\n",
       "      <td>-0.296870</td>\n",
       "      <td>ka</td>\n",
       "      <td>-0.124972</td>\n",
       "      <td>petrol</td>\n",
       "      <td>ford</td>\n",
       "      <td>unknown</td>\n",
       "      <td>medium</td>\n",
       "    </tr>\n",
       "  </tbody>\n",
       "</table>\n",
       "</div>"
      ],
      "text/plain": [
       "       VehicleType  RegistrationYear  Gearbox     Power     Model   Mileage  \\\n",
       "137376       small         -1.085410   manual -0.296870     ibiza -0.813657   \n",
       "164249       small          0.279166   manual -0.219699     fabia  0.563714   \n",
       "263459       sedan          0.961454   manual  0.114705  scirocco  0.563714   \n",
       "175001       wagon          0.142708   manual  0.022100  c_klasse  0.563714   \n",
       "91024      unknown          1.916657  unknown -0.296870        ka -0.124972   \n",
       "\n",
       "        FuelType          Brand NotRepaired      PriceGroup  \n",
       "137376   unknown           seat          no           cheap  \n",
       "164249    petrol          skoda          no       expensive  \n",
       "263459  gasoline     volkswagen          no  very_expensive  \n",
       "175001  gasoline  mercedes_benz          no       expensive  \n",
       "91024     petrol           ford     unknown          medium  "
      ]
     },
     "execution_count": 52,
     "metadata": {},
     "output_type": "execute_result"
    }
   ],
   "source": [
    "features_test[numeric] = scaler.transform(features_test[numeric])\n",
    "features_test.head()"
   ]
  },
  {
   "cell_type": "code",
   "execution_count": 53,
   "metadata": {
    "scrolled": true
   },
   "outputs": [
    {
     "data": {
      "text/html": [
       "<div>\n",
       "<style scoped>\n",
       "    .dataframe tbody tr th:only-of-type {\n",
       "        vertical-align: middle;\n",
       "    }\n",
       "\n",
       "    .dataframe tbody tr th {\n",
       "        vertical-align: top;\n",
       "    }\n",
       "\n",
       "    .dataframe thead th {\n",
       "        text-align: right;\n",
       "    }\n",
       "</style>\n",
       "<table border=\"1\" class=\"dataframe\">\n",
       "  <thead>\n",
       "    <tr style=\"text-align: right;\">\n",
       "      <th></th>\n",
       "      <th>RegistrationYear</th>\n",
       "      <th>Power</th>\n",
       "      <th>Mileage</th>\n",
       "      <th>VehicleType_convertible</th>\n",
       "      <th>VehicleType_coupe</th>\n",
       "      <th>VehicleType_other</th>\n",
       "      <th>VehicleType_sedan</th>\n",
       "      <th>VehicleType_small</th>\n",
       "      <th>VehicleType_suv</th>\n",
       "      <th>VehicleType_unknown</th>\n",
       "      <th>...</th>\n",
       "      <th>Gearbox_unknown</th>\n",
       "      <th>FuelType_electric</th>\n",
       "      <th>FuelType_gasoline</th>\n",
       "      <th>FuelType_hybrid</th>\n",
       "      <th>FuelType_lpg</th>\n",
       "      <th>FuelType_other</th>\n",
       "      <th>FuelType_petrol</th>\n",
       "      <th>FuelType_unknown</th>\n",
       "      <th>NotRepaired_unknown</th>\n",
       "      <th>NotRepaired_yes</th>\n",
       "    </tr>\n",
       "  </thead>\n",
       "  <tbody>\n",
       "    <tr>\n",
       "      <th>175072</th>\n",
       "      <td>-0.403122</td>\n",
       "      <td>0.469688</td>\n",
       "      <td>0.563714</td>\n",
       "      <td>0</td>\n",
       "      <td>0</td>\n",
       "      <td>0</td>\n",
       "      <td>1</td>\n",
       "      <td>0</td>\n",
       "      <td>0</td>\n",
       "      <td>0</td>\n",
       "      <td>...</td>\n",
       "      <td>0</td>\n",
       "      <td>0</td>\n",
       "      <td>0</td>\n",
       "      <td>0</td>\n",
       "      <td>0</td>\n",
       "      <td>0</td>\n",
       "      <td>1</td>\n",
       "      <td>0</td>\n",
       "      <td>0</td>\n",
       "      <td>0</td>\n",
       "    </tr>\n",
       "    <tr>\n",
       "      <th>269455</th>\n",
       "      <td>1.780200</td>\n",
       "      <td>-0.163108</td>\n",
       "      <td>-0.124972</td>\n",
       "      <td>0</td>\n",
       "      <td>0</td>\n",
       "      <td>0</td>\n",
       "      <td>0</td>\n",
       "      <td>0</td>\n",
       "      <td>0</td>\n",
       "      <td>1</td>\n",
       "      <td>...</td>\n",
       "      <td>0</td>\n",
       "      <td>0</td>\n",
       "      <td>1</td>\n",
       "      <td>0</td>\n",
       "      <td>0</td>\n",
       "      <td>0</td>\n",
       "      <td>0</td>\n",
       "      <td>0</td>\n",
       "      <td>1</td>\n",
       "      <td>0</td>\n",
       "    </tr>\n",
       "    <tr>\n",
       "      <th>149021</th>\n",
       "      <td>-0.266665</td>\n",
       "      <td>0.150717</td>\n",
       "      <td>0.563714</td>\n",
       "      <td>0</td>\n",
       "      <td>0</td>\n",
       "      <td>0</td>\n",
       "      <td>0</td>\n",
       "      <td>0</td>\n",
       "      <td>0</td>\n",
       "      <td>0</td>\n",
       "      <td>...</td>\n",
       "      <td>0</td>\n",
       "      <td>0</td>\n",
       "      <td>0</td>\n",
       "      <td>0</td>\n",
       "      <td>1</td>\n",
       "      <td>0</td>\n",
       "      <td>0</td>\n",
       "      <td>0</td>\n",
       "      <td>0</td>\n",
       "      <td>0</td>\n",
       "    </tr>\n",
       "    <tr>\n",
       "      <th>30879</th>\n",
       "      <td>-1.767699</td>\n",
       "      <td>0.418241</td>\n",
       "      <td>0.563714</td>\n",
       "      <td>0</td>\n",
       "      <td>0</td>\n",
       "      <td>0</td>\n",
       "      <td>0</td>\n",
       "      <td>0</td>\n",
       "      <td>0</td>\n",
       "      <td>0</td>\n",
       "      <td>...</td>\n",
       "      <td>0</td>\n",
       "      <td>0</td>\n",
       "      <td>0</td>\n",
       "      <td>0</td>\n",
       "      <td>0</td>\n",
       "      <td>0</td>\n",
       "      <td>1</td>\n",
       "      <td>0</td>\n",
       "      <td>0</td>\n",
       "      <td>1</td>\n",
       "    </tr>\n",
       "    <tr>\n",
       "      <th>34171</th>\n",
       "      <td>-0.403122</td>\n",
       "      <td>-0.219699</td>\n",
       "      <td>0.563714</td>\n",
       "      <td>0</td>\n",
       "      <td>0</td>\n",
       "      <td>0</td>\n",
       "      <td>0</td>\n",
       "      <td>1</td>\n",
       "      <td>0</td>\n",
       "      <td>0</td>\n",
       "      <td>...</td>\n",
       "      <td>0</td>\n",
       "      <td>0</td>\n",
       "      <td>0</td>\n",
       "      <td>0</td>\n",
       "      <td>0</td>\n",
       "      <td>0</td>\n",
       "      <td>1</td>\n",
       "      <td>0</td>\n",
       "      <td>0</td>\n",
       "      <td>0</td>\n",
       "    </tr>\n",
       "  </tbody>\n",
       "</table>\n",
       "<p>5 rows × 22 columns</p>\n",
       "</div>"
      ],
      "text/plain": [
       "        RegistrationYear     Power   Mileage  VehicleType_convertible  \\\n",
       "175072         -0.403122  0.469688  0.563714                        0   \n",
       "269455          1.780200 -0.163108 -0.124972                        0   \n",
       "149021         -0.266665  0.150717  0.563714                        0   \n",
       "30879          -1.767699  0.418241  0.563714                        0   \n",
       "34171          -0.403122 -0.219699  0.563714                        0   \n",
       "\n",
       "        VehicleType_coupe  VehicleType_other  VehicleType_sedan  \\\n",
       "175072                  0                  0                  1   \n",
       "269455                  0                  0                  0   \n",
       "149021                  0                  0                  0   \n",
       "30879                   0                  0                  0   \n",
       "34171                   0                  0                  0   \n",
       "\n",
       "        VehicleType_small  VehicleType_suv  VehicleType_unknown  ...  \\\n",
       "175072                  0                0                    0  ...   \n",
       "269455                  0                0                    1  ...   \n",
       "149021                  0                0                    0  ...   \n",
       "30879                   0                0                    0  ...   \n",
       "34171                   1                0                    0  ...   \n",
       "\n",
       "        Gearbox_unknown  FuelType_electric  FuelType_gasoline  \\\n",
       "175072                0                  0                  0   \n",
       "269455                0                  0                  1   \n",
       "149021                0                  0                  0   \n",
       "30879                 0                  0                  0   \n",
       "34171                 0                  0                  0   \n",
       "\n",
       "        FuelType_hybrid  FuelType_lpg  FuelType_other  FuelType_petrol  \\\n",
       "175072                0             0               0                1   \n",
       "269455                0             0               0                0   \n",
       "149021                0             1               0                0   \n",
       "30879                 0             0               0                1   \n",
       "34171                 0             0               0                1   \n",
       "\n",
       "        FuelType_unknown  NotRepaired_unknown  NotRepaired_yes  \n",
       "175072                 0                    0                0  \n",
       "269455                 0                    1                0  \n",
       "149021                 0                    0                0  \n",
       "30879                  0                    0                1  \n",
       "34171                  0                    0                0  \n",
       "\n",
       "[5 rows x 22 columns]"
      ]
     },
     "execution_count": 53,
     "metadata": {},
     "output_type": "execute_result"
    }
   ],
   "source": [
    "features_train_new[numeric] = scaler.transform(features_train_new[numeric])\n",
    "features_train_new.head()"
   ]
  },
  {
   "cell_type": "code",
   "execution_count": 54,
   "metadata": {
    "scrolled": true
   },
   "outputs": [
    {
     "data": {
      "text/html": [
       "<div>\n",
       "<style scoped>\n",
       "    .dataframe tbody tr th:only-of-type {\n",
       "        vertical-align: middle;\n",
       "    }\n",
       "\n",
       "    .dataframe tbody tr th {\n",
       "        vertical-align: top;\n",
       "    }\n",
       "\n",
       "    .dataframe thead th {\n",
       "        text-align: right;\n",
       "    }\n",
       "</style>\n",
       "<table border=\"1\" class=\"dataframe\">\n",
       "  <thead>\n",
       "    <tr style=\"text-align: right;\">\n",
       "      <th></th>\n",
       "      <th>RegistrationYear</th>\n",
       "      <th>Power</th>\n",
       "      <th>Mileage</th>\n",
       "      <th>VehicleType_convertible</th>\n",
       "      <th>VehicleType_coupe</th>\n",
       "      <th>VehicleType_other</th>\n",
       "      <th>VehicleType_sedan</th>\n",
       "      <th>VehicleType_small</th>\n",
       "      <th>VehicleType_suv</th>\n",
       "      <th>VehicleType_unknown</th>\n",
       "      <th>...</th>\n",
       "      <th>Gearbox_unknown</th>\n",
       "      <th>FuelType_electric</th>\n",
       "      <th>FuelType_gasoline</th>\n",
       "      <th>FuelType_hybrid</th>\n",
       "      <th>FuelType_lpg</th>\n",
       "      <th>FuelType_other</th>\n",
       "      <th>FuelType_petrol</th>\n",
       "      <th>FuelType_unknown</th>\n",
       "      <th>NotRepaired_unknown</th>\n",
       "      <th>NotRepaired_yes</th>\n",
       "    </tr>\n",
       "  </thead>\n",
       "  <tbody>\n",
       "    <tr>\n",
       "      <th>137376</th>\n",
       "      <td>-1.085410</td>\n",
       "      <td>-0.296870</td>\n",
       "      <td>-0.813657</td>\n",
       "      <td>0</td>\n",
       "      <td>0</td>\n",
       "      <td>0</td>\n",
       "      <td>0</td>\n",
       "      <td>1</td>\n",
       "      <td>0</td>\n",
       "      <td>0</td>\n",
       "      <td>...</td>\n",
       "      <td>0</td>\n",
       "      <td>0</td>\n",
       "      <td>0</td>\n",
       "      <td>0</td>\n",
       "      <td>0</td>\n",
       "      <td>0</td>\n",
       "      <td>0</td>\n",
       "      <td>1</td>\n",
       "      <td>0</td>\n",
       "      <td>0</td>\n",
       "    </tr>\n",
       "    <tr>\n",
       "      <th>164249</th>\n",
       "      <td>0.279166</td>\n",
       "      <td>-0.219699</td>\n",
       "      <td>0.563714</td>\n",
       "      <td>0</td>\n",
       "      <td>0</td>\n",
       "      <td>0</td>\n",
       "      <td>0</td>\n",
       "      <td>1</td>\n",
       "      <td>0</td>\n",
       "      <td>0</td>\n",
       "      <td>...</td>\n",
       "      <td>0</td>\n",
       "      <td>0</td>\n",
       "      <td>0</td>\n",
       "      <td>0</td>\n",
       "      <td>0</td>\n",
       "      <td>0</td>\n",
       "      <td>1</td>\n",
       "      <td>0</td>\n",
       "      <td>0</td>\n",
       "      <td>0</td>\n",
       "    </tr>\n",
       "    <tr>\n",
       "      <th>263459</th>\n",
       "      <td>0.961454</td>\n",
       "      <td>0.114705</td>\n",
       "      <td>0.563714</td>\n",
       "      <td>0</td>\n",
       "      <td>0</td>\n",
       "      <td>0</td>\n",
       "      <td>1</td>\n",
       "      <td>0</td>\n",
       "      <td>0</td>\n",
       "      <td>0</td>\n",
       "      <td>...</td>\n",
       "      <td>0</td>\n",
       "      <td>0</td>\n",
       "      <td>1</td>\n",
       "      <td>0</td>\n",
       "      <td>0</td>\n",
       "      <td>0</td>\n",
       "      <td>0</td>\n",
       "      <td>0</td>\n",
       "      <td>0</td>\n",
       "      <td>0</td>\n",
       "    </tr>\n",
       "    <tr>\n",
       "      <th>175001</th>\n",
       "      <td>0.142708</td>\n",
       "      <td>0.022100</td>\n",
       "      <td>0.563714</td>\n",
       "      <td>0</td>\n",
       "      <td>0</td>\n",
       "      <td>0</td>\n",
       "      <td>0</td>\n",
       "      <td>0</td>\n",
       "      <td>0</td>\n",
       "      <td>0</td>\n",
       "      <td>...</td>\n",
       "      <td>0</td>\n",
       "      <td>0</td>\n",
       "      <td>1</td>\n",
       "      <td>0</td>\n",
       "      <td>0</td>\n",
       "      <td>0</td>\n",
       "      <td>0</td>\n",
       "      <td>0</td>\n",
       "      <td>0</td>\n",
       "      <td>0</td>\n",
       "    </tr>\n",
       "    <tr>\n",
       "      <th>91024</th>\n",
       "      <td>1.916657</td>\n",
       "      <td>-0.296870</td>\n",
       "      <td>-0.124972</td>\n",
       "      <td>0</td>\n",
       "      <td>0</td>\n",
       "      <td>0</td>\n",
       "      <td>0</td>\n",
       "      <td>0</td>\n",
       "      <td>0</td>\n",
       "      <td>1</td>\n",
       "      <td>...</td>\n",
       "      <td>1</td>\n",
       "      <td>0</td>\n",
       "      <td>0</td>\n",
       "      <td>0</td>\n",
       "      <td>0</td>\n",
       "      <td>0</td>\n",
       "      <td>1</td>\n",
       "      <td>0</td>\n",
       "      <td>1</td>\n",
       "      <td>0</td>\n",
       "    </tr>\n",
       "  </tbody>\n",
       "</table>\n",
       "<p>5 rows × 22 columns</p>\n",
       "</div>"
      ],
      "text/plain": [
       "        RegistrationYear     Power   Mileage  VehicleType_convertible  \\\n",
       "137376         -1.085410 -0.296870 -0.813657                        0   \n",
       "164249          0.279166 -0.219699  0.563714                        0   \n",
       "263459          0.961454  0.114705  0.563714                        0   \n",
       "175001          0.142708  0.022100  0.563714                        0   \n",
       "91024           1.916657 -0.296870 -0.124972                        0   \n",
       "\n",
       "        VehicleType_coupe  VehicleType_other  VehicleType_sedan  \\\n",
       "137376                  0                  0                  0   \n",
       "164249                  0                  0                  0   \n",
       "263459                  0                  0                  1   \n",
       "175001                  0                  0                  0   \n",
       "91024                   0                  0                  0   \n",
       "\n",
       "        VehicleType_small  VehicleType_suv  VehicleType_unknown  ...  \\\n",
       "137376                  1                0                    0  ...   \n",
       "164249                  1                0                    0  ...   \n",
       "263459                  0                0                    0  ...   \n",
       "175001                  0                0                    0  ...   \n",
       "91024                   0                0                    1  ...   \n",
       "\n",
       "        Gearbox_unknown  FuelType_electric  FuelType_gasoline  \\\n",
       "137376                0                  0                  0   \n",
       "164249                0                  0                  0   \n",
       "263459                0                  0                  1   \n",
       "175001                0                  0                  1   \n",
       "91024                 1                  0                  0   \n",
       "\n",
       "        FuelType_hybrid  FuelType_lpg  FuelType_other  FuelType_petrol  \\\n",
       "137376                0             0               0                0   \n",
       "164249                0             0               0                1   \n",
       "263459                0             0               0                0   \n",
       "175001                0             0               0                0   \n",
       "91024                 0             0               0                1   \n",
       "\n",
       "        FuelType_unknown  NotRepaired_unknown  NotRepaired_yes  \n",
       "137376                 1                    0                0  \n",
       "164249                 0                    0                0  \n",
       "263459                 0                    0                0  \n",
       "175001                 0                    0                0  \n",
       "91024                  0                    1                0  \n",
       "\n",
       "[5 rows x 22 columns]"
      ]
     },
     "execution_count": 54,
     "metadata": {},
     "output_type": "execute_result"
    }
   ],
   "source": [
    "features_test_new[numeric] = scaler.transform(features_test_new[numeric])\n",
    "features_test_new.head()"
   ]
  },
  {
   "cell_type": "markdown",
   "metadata": {
    "lang": "en"
   },
   "source": [
    "## 3 Model Training"
   ]
  },
  {
   "cell_type": "markdown",
   "metadata": {
    "lang": "en"
   },
   "source": [
    "Rusty Bargain's main interests lie in the prediction quality, prediction speed, and training time of the model. Hence, we will carefully evaluate the model based on these three aspects.\n",
    "\n",
    "To assess the model's performance, we will employ the Root Mean Squared Error (`RMSE`) metric. Therefore, we will define a function to calculate this metric.\n",
    "\n",
    "As we don't have a separate validation dataset, we will utilize cross-validation technique for evaluation."
   ]
  },
  {
   "cell_type": "code",
   "execution_count": 55,
   "metadata": {
    "lang": "in"
   },
   "outputs": [],
   "source": [
    "# Defines a function to calculate RMSE\n",
    "def rmse(y_true, y_pred):\n",
    "    \"\"\"\n",
    "    Fungsi untuk menghitung nilai Root Mean Squared Error (RMSE).\n",
    "    :param y_true: array dengan nilai sebenarnya\n",
    "    :param y_pred: array dengan nilai prediksi\n",
    "    :return: nilai RMSE\n",
    "    \"\"\"\n",
    "        \n",
    "    return np.sqrt(np.mean((y_true - y_pred) ** 2))\n",
    "\n",
    "# Making the RMSE metric a scorer to evaluate the model \n",
    "rmse_scorer = make_scorer(rmse)"
   ]
  },
  {
   "cell_type": "markdown",
   "metadata": {
    "lang": "en"
   },
   "source": [
    "We have been instructed to use the Linear Regression model as the baseline model. This model will serve as a sanity check for other, more sophisticated models. The expectation is that these advanced models will outperform the Linear Regression model, resulting in better RMSE values."
   ]
  },
  {
   "cell_type": "markdown",
   "metadata": {},
   "source": [
    "### 3.1 Linear Regression (Base Model)"
   ]
  },
  {
   "cell_type": "code",
   "execution_count": 56,
   "metadata": {
    "lang": "in"
   },
   "outputs": [
    {
     "name": "stdout",
     "output_type": "stream",
     "text": [
      "CPU times: total: 2.67 s\n",
      "Wall time: 1.15 s\n"
     ]
    },
    {
     "data": {
      "text/plain": [
       "2597.5253220938625"
      ]
     },
     "execution_count": 56,
     "metadata": {},
     "output_type": "execute_result"
    }
   ],
   "source": [
    "%%time\n",
    "\n",
    "# Calculates scores for Linear Regression models\n",
    "LR = LinearRegression() \n",
    "LR_score = cross_val_score(LR, features_train_new, target_train_new, scoring=rmse_scorer, cv=5)\n",
    "LR_score.mean()"
   ]
  },
  {
   "cell_type": "code",
   "execution_count": 57,
   "metadata": {
    "lang": "in"
   },
   "outputs": [
    {
     "name": "stdout",
     "output_type": "stream",
     "text": [
      "CPU times: total: 234 ms\n",
      "Wall time: 209 ms\n"
     ]
    },
    {
     "data": {
      "text/plain": [
       "2622.8617527982765"
      ]
     },
     "execution_count": 57,
     "metadata": {},
     "output_type": "execute_result"
    }
   ],
   "source": [
    "%%time\n",
    "\n",
    "# Testing on a test dataset\n",
    "LR = LinearRegression().fit(features_train_new, target_train_new)\n",
    "LR_pred = LR.predict(features_test_new)\n",
    "LR_rmse = rmse(target_test_new, LR_pred)\n",
    "LR_rmse"
   ]
  },
  {
   "cell_type": "markdown",
   "metadata": {
    "lang": "en"
   },
   "source": [
    "We obtained two RMSE values as benchmarks, namely 2597.5 for training and validation, and 2622.86 for testing. Moreover, the training and testing times are also relatively short."
   ]
  },
  {
   "cell_type": "markdown",
   "metadata": {},
   "source": [
    "### 3.2 Decision Tree Regressor"
   ]
  },
  {
   "cell_type": "markdown",
   "metadata": {
    "lang": "en"
   },
   "source": [
    "After obtaining the benchmark RMSE value from the Linear Regression model, we will now test several other models to find one that can provide a better score.\n",
    "\n",
    "The first model we will test is the Decision Tree Regressor. We will set the hyperparameters in this model, specifically for the max_depth of the tree."
   ]
  },
  {
   "cell_type": "code",
   "execution_count": 58,
   "metadata": {
    "lang": "in"
   },
   "outputs": [
    {
     "name": "stdout",
     "output_type": "stream",
     "text": [
      "CPU times: total: 3.94 s\n",
      "Wall time: 4.32 s\n"
     ]
    },
    {
     "data": {
      "text/plain": [
       "1832.2850833637713"
      ]
     },
     "execution_count": 58,
     "metadata": {},
     "output_type": "execute_result"
    }
   ],
   "source": [
    "%%time\n",
    "\n",
    "# Training without tuning hyperparameters\n",
    "DT = DecisionTreeRegressor(random_state=2023)\n",
    "scores = cross_val_score(DT, features_train_new, target_train_new, scoring=rmse_scorer, cv=5).mean()\n",
    "scores"
   ]
  },
  {
   "cell_type": "code",
   "execution_count": 59,
   "metadata": {
    "lang": "in"
   },
   "outputs": [
    {
     "name": "stdout",
     "output_type": "stream",
     "text": [
      "Best n_estimators: 13\n",
      "Best score: 1682.0516288976687\n",
      "CPU times: total: 27.7 s\n",
      "Wall time: 32 s\n"
     ]
    }
   ],
   "source": [
    "%%time\n",
    "\n",
    "# Training with hyperparameter tuning\n",
    "# Create a list to hold the score\n",
    "depth_scores = []\n",
    "\n",
    "# Perform cross validation for each level of tree depth from 1 - 15\n",
    "for depth in range(1, 16):\n",
    "    DTR = DecisionTreeRegressor(max_depth=depth, random_state=2023)\n",
    "    scores = cross_val_score(DTR, features_train_new, target_train_new, scoring=rmse_scorer, cv=5)\n",
    "    depth_scores.append(scores.mean())\n",
    "\n",
    "# Checking the best depth with the best score\n",
    "best_depth_score_index = np.argmin(depth_scores)\n",
    "best_depth_score = best_depth_score_index + 1\n",
    "best_score = depth_scores[best_depth_score_index]\n",
    "\n",
    "print(\"Best n_estimators:\", best_depth_score)\n",
    "print(\"Best score:\", best_score)"
   ]
  },
  {
   "cell_type": "markdown",
   "metadata": {
    "lang": "en"
   },
   "source": [
    "We obtained the lowest score at tree depth level 13, which is 1682.05. This value is better than the base model or the Decision Tree Regressor model without hyperparameter tuning."
   ]
  },
  {
   "cell_type": "code",
   "execution_count": 60,
   "metadata": {
    "lang": "in"
   },
   "outputs": [
    {
     "name": "stdout",
     "output_type": "stream",
     "text": [
      "CPU times: total: 844 ms\n",
      "Wall time: 854 ms\n"
     ]
    },
    {
     "data": {
      "text/plain": [
       "1663.6790376131294"
      ]
     },
     "execution_count": 60,
     "metadata": {},
     "output_type": "execute_result"
    }
   ],
   "source": [
    "%%time\n",
    "\n",
    "# Time to test on a test dataset\n",
    "DT = DecisionTreeRegressor(max_depth=13, random_state=2023).fit(features_train_new, target_train_new)\n",
    "DT_pred = DT.predict(features_test_new)\n",
    "DT_rmse = rmse(target_test_new, DT_pred)\n",
    "DT_rmse"
   ]
  },
  {
   "cell_type": "markdown",
   "metadata": {
    "lang": "en"
   },
   "source": [
    "We get a score of 1663.68 with short testing time."
   ]
  },
  {
   "cell_type": "markdown",
   "metadata": {},
   "source": [
    "### 3.3 Random Forest Regressor"
   ]
  },
  {
   "cell_type": "markdown",
   "metadata": {
    "lang": "en"
   },
   "source": [
    "Now we will use the Random Forest Regressor model. We will first train the model without setting hyperparameters. Then, in the next training, we will try to set the hyperparameter for the number of trees, while keeping max_depth set to the best option from the previous model, which is 13."
   ]
  },
  {
   "cell_type": "code",
   "execution_count": 61,
   "metadata": {},
   "outputs": [
    {
     "name": "stdout",
     "output_type": "stream",
     "text": [
      "CPU times: total: 4min 34s\n",
      "Wall time: 5min 11s\n"
     ]
    },
    {
     "data": {
      "text/plain": [
       "1591.604884971686"
      ]
     },
     "execution_count": 61,
     "metadata": {},
     "output_type": "execute_result"
    }
   ],
   "source": [
    "%%time\n",
    "\n",
    "# Training without tuning hyperparameters\n",
    "RF = RandomForestRegressor(random_state=2023)\n",
    "RF_score = cross_val_score(RF, features_train_new, target_train_new, scoring=rmse_scorer, cv=5).mean()\n",
    "RF_score"
   ]
  },
  {
   "cell_type": "markdown",
   "metadata": {
    "lang": "en"
   },
   "source": [
    "Even without hyperparameter tuning, we have obtained a better score than the previous model. However, the training time is quite long, which Rusty Bargain disliked.\n",
    "\n",
    "Now, let's proceed with hyperparameter tuning."
   ]
  },
  {
   "cell_type": "code",
   "execution_count": 62,
   "metadata": {
    "lang": "in"
   },
   "outputs": [
    {
     "name": "stdout",
     "output_type": "stream",
     "text": [
      "n_estimators: 10 score: 1595.6637080580035\n",
      "n_estimators: 30 score: 1585.9122371590472\n",
      "n_estimators: 50 score: 1584.2482393634064\n",
      "n_estimators: 70 score: 1583.1775180080056\n",
      "n_estimators: 90 score: 1582.8666606058086\n",
      "Best n_estimators: 90\n",
      "Best score: 1582.8666606058086\n",
      "CPU times: total: 7min 47s\n",
      "Wall time: 8min 15s\n"
     ]
    }
   ],
   "source": [
    "%%time\n",
    "\n",
    "# Training with hyperparameter tuning\n",
    "# Initialize the variable to hold the best RMSE value\n",
    "best_rmse = np.inf\n",
    "best_n_estimators = None\n",
    "estimator_scores = []\n",
    "\n",
    "# Looping to find the best n_estimators\n",
    "for n_estimators in range(10, 101, 20):\n",
    "    # Initialize the Random Forest Regressor model\n",
    "    RFR = RandomForestRegressor(n_estimators=n_estimators, max_depth=13, random_state=2023)\n",
    "\n",
    "    # Calculate cross validation score with RMSE as metric\n",
    "    scores = cross_val_score(RFR, features_train_new, target_train_new, scoring=rmse_scorer, cv=5)\n",
    "    estimator_scores.append(scores.mean())\n",
    "    \n",
    "    # Calculate the average of the best RMSE scores and scores\n",
    "    avg_rmse = np.mean(scores)\n",
    "    if avg_rmse < best_rmse:\n",
    "        best_rmse = avg_rmse\n",
    "        best_n_estimators = n_estimators\n",
    "    \n",
    "    # Displays the score results for each n_estimator\n",
    "    print(\"n_estimators:\", n_estimators, \"score:\", scores.mean())\n",
    "\n",
    "best_n_estimators_index = np.argmin(estimator_scores)\n",
    "best_score = estimator_scores[best_n_estimators_index]\n",
    "\n",
    "# Display the value of n_estimators and the best score\n",
    "print('Best n_estimators:', best_n_estimators)\n",
    "print(\"Best score:\", best_score)"
   ]
  },
  {
   "cell_type": "markdown",
   "metadata": {
    "lang": "en"
   },
   "source": [
    "Our score continues to improve significantly with an increasing number of trees or n_estimators. Therefore, we suspect that the score will likely continue to improve if we further increase the number of trees. To test this hypothesis, we will evaluate the model's performance on a test dataset for three n_estimator scenarios: 50, 100, and 500."
   ]
  },
  {
   "cell_type": "code",
   "execution_count": 63,
   "metadata": {
    "lang": "in"
   },
   "outputs": [
    {
     "name": "stdout",
     "output_type": "stream",
     "text": [
      "CPU times: total: 24 s\n",
      "Wall time: 24.5 s\n"
     ]
    },
    {
     "data": {
      "text/plain": [
       "1575.530955970915"
      ]
     },
     "execution_count": 63,
     "metadata": {},
     "output_type": "execute_result"
    }
   ],
   "source": [
    "%%time\n",
    "\n",
    "# Testing on the test dataset\n",
    "RFR = RandomForestRegressor(n_estimators=50, max_depth=13, random_state=2023).fit(features_train_new, target_train_new)\n",
    "RFR_pred = RFR.predict(features_test_new)\n",
    "RFR_rmse = rmse(target_test_new, RFR_pred)\n",
    "RFR_rmse"
   ]
  },
  {
   "cell_type": "code",
   "execution_count": 64,
   "metadata": {},
   "outputs": [
    {
     "name": "stdout",
     "output_type": "stream",
     "text": [
      "CPU times: total: 48.3 s\n",
      "Wall time: 50.3 s\n"
     ]
    },
    {
     "data": {
      "text/plain": [
       "1573.129127008263"
      ]
     },
     "execution_count": 64,
     "metadata": {},
     "output_type": "execute_result"
    }
   ],
   "source": [
    "%%time\n",
    "\n",
    "# Testing on the test dataset\n",
    "RFR = RandomForestRegressor(n_estimators=100, max_depth=13, random_state=2023).fit(features_train_new, target_train_new)\n",
    "RFR_pred = RFR.predict(features_test_new)\n",
    "RFR_rmse = rmse(target_test_new, RFR_pred)\n",
    "RFR_rmse"
   ]
  },
  {
   "cell_type": "code",
   "execution_count": 65,
   "metadata": {},
   "outputs": [
    {
     "name": "stdout",
     "output_type": "stream",
     "text": [
      "CPU times: total: 4min 2s\n",
      "Wall time: 4min 10s\n"
     ]
    },
    {
     "data": {
      "text/plain": [
       "1572.4180535117596"
      ]
     },
     "execution_count": 65,
     "metadata": {},
     "output_type": "execute_result"
    }
   ],
   "source": [
    "%%time\n",
    "\n",
    "# Testing on the test dataset\n",
    "RFR = RandomForestRegressor(n_estimators=500, max_depth=13, random_state=2023).fit(features_train_new, target_train_new)\n",
    "RFR_pred = RFR.predict(features_test_new)\n",
    "RFR_rmse = rmse(target_test_new, RFR_pred)\n",
    "RFR_rmse"
   ]
  },
  {
   "cell_type": "markdown",
   "metadata": {
    "lang": "en"
   },
   "source": [
    "As the number of trees increases, the error score decreases, but the testing time also increases significantly, which Rusty Bargain dislikes.\n",
    "\n",
    "We observed that the rate of decrease in the error score becomes more modest as the number of trees increases rapidly. Considering that testing time is one of the parameters Rusty Bargain cares about, it appears that the number of trees set to 50 is more ideal. Despite having a slightly higher error score compared to the model with 500 trees, it already performs significantly better than the previous two models."
   ]
  },
  {
   "cell_type": "markdown",
   "metadata": {},
   "source": [
    "### 3.4 XGBoost Regressor"
   ]
  },
  {
   "cell_type": "markdown",
   "metadata": {
    "lang": "en"
   },
   "source": [
    "Now it's time to utilize the gradient boosting ML model. Before performing hyperparameter tuning with cross-validation techniques using RandomizedSearchCV, we tested the model without any hyperparameter tuning."
   ]
  },
  {
   "cell_type": "code",
   "execution_count": 66,
   "metadata": {},
   "outputs": [
    {
     "name": "stdout",
     "output_type": "stream",
     "text": [
      "CPU times: total: 2min 42s\n",
      "Wall time: 23.9 s\n"
     ]
    },
    {
     "data": {
      "text/plain": [
       "1552.7174325859794"
      ]
     },
     "execution_count": 66,
     "metadata": {},
     "output_type": "execute_result"
    }
   ],
   "source": [
    "%%time\n",
    "\n",
    "# Training without tuning hyperparameters\n",
    "XGB = XGBRegressor()\n",
    "XGB_scores = cross_val_score(XGB, features_train_new, target_train_new, scoring=rmse_scorer, cv=5).mean()\n",
    "XGB_scores"
   ]
  },
  {
   "cell_type": "markdown",
   "metadata": {},
   "source": [
    "We achieved a superior score compared to the Random Forest model with 500 trees!\n",
    "\n",
    "Now, let's proceed with hyperparameter tuning.\n",
    "\n",
    "To ensure that we are using the loss function and looking for the lowest score, we need to add the parameter `greater_is_better=False` to the `make_scorer` function. This way, the best parameter chosen will not result in the highest score, but rather the lowest.\n",
    "\n",
    "We will conduct several variations of the test."
   ]
  },
  {
   "cell_type": "markdown",
   "metadata": {
    "lang": "en"
   },
   "source": [
    "#### 3.4.1 Using Definitive Parameter Numbers"
   ]
  },
  {
   "cell_type": "code",
   "execution_count": 67,
   "metadata": {
    "lang": "in",
    "scrolled": true
   },
   "outputs": [
    {
     "name": "stdout",
     "output_type": "stream",
     "text": [
      "Best Estimator: XGBRegressor(base_score=None, booster=None, callbacks=None,\n",
      "             colsample_bylevel=None, colsample_bynode=None,\n",
      "             colsample_bytree=None, early_stopping_rounds=None,\n",
      "             enable_categorical=False, eval_metric=None, feature_types=None,\n",
      "             gamma=None, gpu_id=None, grow_policy=None, importance_type=None,\n",
      "             interaction_constraints=None, learning_rate=None, max_bin=None,\n",
      "             max_cat_threshold=None, max_cat_to_onehot=None,\n",
      "             max_delta_step=None, max_depth=10, max_leaves=None,\n",
      "             min_child_weight=None, missing=nan, monotone_constraints=None,\n",
      "             n_estimators=50, n_jobs=None, num_parallel_tree=None,\n",
      "             predictor=None, random_state=None, ...)\n",
      "Best Parameters: {'subsample': 1, 'n_estimators': 50, 'max_depth': 10}\n",
      "Best RMSE: 1531.0047083014056\n",
      "CPU times: total: 37.1 s\n",
      "Wall time: 1min 58s\n"
     ]
    }
   ],
   "source": [
    "%%time\n",
    "\n",
    "# Training with hyperparameter tuning\n",
    "# Define an XGBoost Regressor model\n",
    "xgb_model = XGBRegressor()\n",
    "\n",
    "# Define hyperparameter space\n",
    "param_distributions = {\n",
    "    'max_depth': [5, 10],\n",
    "    'n_estimators': [25, 50],\n",
    "    'subsample': [0.5, 1]\n",
    "}\n",
    "\n",
    "# Create a scorer using the RMSE function\n",
    "scorer = make_scorer(rmse, greater_is_better=False)\n",
    "\n",
    "# Define a RandomizedSearchCV object\n",
    "random_search = RandomizedSearchCV(\n",
    "    xgb_model, param_distributions=param_distributions, \n",
    "    scoring=scorer, n_iter=10, cv=5, n_jobs=-1\n",
    ")\n",
    "\n",
    "# Fit the model with data\n",
    "random_search.fit(features_train_new, target_train_new)\n",
    "\n",
    "# Print best parameters and RMSE\n",
    "print(\"Best Estimator:\", random_search.best_estimator_)\n",
    "print(\"Best Parameters:\", random_search.best_params_)\n",
    "print(\"Best RMSE:\", -1 * random_search.best_score_)"
   ]
  },
  {
   "cell_type": "markdown",
   "metadata": {
    "lang": "en"
   },
   "source": [
    "#### 3.4.2 Using Random Parameter Numbers"
   ]
  },
  {
   "cell_type": "code",
   "execution_count": 68,
   "metadata": {
    "lang": "in"
   },
   "outputs": [
    {
     "name": "stdout",
     "output_type": "stream",
     "text": [
      "Best Estimator: XGBRegressor(base_score=None, booster=None, callbacks=None,\n",
      "             colsample_bylevel=None, colsample_bynode=None,\n",
      "             colsample_bytree=None, early_stopping_rounds=None,\n",
      "             enable_categorical=False, eval_metric=None, feature_types=None,\n",
      "             gamma=None, gpu_id=None, grow_policy=None, importance_type=None,\n",
      "             interaction_constraints=None, learning_rate=0.14764285572124902,\n",
      "             max_bin=None, max_cat_threshold=None, max_cat_to_onehot=None,\n",
      "             max_delta_step=None, max_depth=8, max_leaves=None,\n",
      "             min_child_weight=None, missing=nan, monotone_constraints=None,\n",
      "             n_estimators=93, n_jobs=None, num_parallel_tree=None,\n",
      "             predictor=None, random_state=None, ...)\n",
      "Best Parameters: {'learning_rate': 0.14764285572124902, 'max_depth': 8, 'n_estimators': 93, 'subsample': 0.691335869720713}\n",
      "Best RMSE: 1539.605353095058\n",
      "CPU times: total: 1min 9s\n",
      "Wall time: 4min 19s\n"
     ]
    }
   ],
   "source": [
    "%%time\n",
    "\n",
    "# Training with hyperparameter tuning\n",
    "# Define an XGBoost Regressor model\n",
    "xgb_model = XGBRegressor()\n",
    "\n",
    "# Define hyperparameter space\n",
    "param_distributions = {\n",
    "    'max_depth'    : sp_randInt(5, 10),\n",
    "    'n_estimators' : sp_randInt(50, 100),\n",
    "    'learning_rate': sp_randFloat(),\n",
    "    'subsample'    : sp_randFloat()\n",
    "}\n",
    "\n",
    "# Create a scorer using the RMSE function\n",
    "scorer = make_scorer(rmse, greater_is_better=False)\n",
    "\n",
    "# Define a RandomizedSearchCV object\n",
    "random_search = RandomizedSearchCV(\n",
    "    xgb_model, param_distributions=param_distributions, \n",
    "    scoring=scorer, n_iter=10, cv=5, n_jobs=-1\n",
    ")\n",
    "\n",
    "# Fit the model with data\n",
    "random_search.fit(features_train_new, target_train_new)\n",
    "\n",
    "# Print best parameters and RMSE\n",
    "print(\"Best Estimator:\", random_search.best_estimator_)\n",
    "print(\"Best Parameters:\", random_search.best_params_)\n",
    "print(\"Best RMSE:\", -1 * random_search.best_score_)"
   ]
  },
  {
   "cell_type": "markdown",
   "metadata": {
    "lang": "en"
   },
   "source": [
    "**Findings**\n",
    "- Hyperparameter tuning results in a smaller error score, but the model training time significantly increases.\n",
    "- The RMSE obtained from training with well-chosen definitive parameter numbers is better than with random numbers.\n",
    "- Thus, providing random hyperparameters for the machine to analyze does not necessarily yield better results compared to making informed choices of parameters from the beginning. In fact, it can significantly increase the model training time."
   ]
  },
  {
   "cell_type": "markdown",
   "metadata": {
    "lang": "en"
   },
   "source": [
    "#### 3.4.3 Testing on the Test Dataset"
   ]
  },
  {
   "cell_type": "markdown",
   "metadata": {
    "lang": "en"
   },
   "source": [
    "We will use all the hyperparameters obtained from the training with the best scores in the XGBoost Regressor model to evaluate the test dataset."
   ]
  },
  {
   "cell_type": "code",
   "execution_count": 69,
   "metadata": {},
   "outputs": [
    {
     "name": "stdout",
     "output_type": "stream",
     "text": [
      "CPU times: total: 28.7 s\n",
      "Wall time: 9.39 s\n"
     ]
    },
    {
     "data": {
      "text/plain": [
       "1518.8069330892588"
      ]
     },
     "execution_count": 69,
     "metadata": {},
     "output_type": "execute_result"
    }
   ],
   "source": [
    "%%time\n",
    "\n",
    "# Testing on the test dataset\n",
    "XGBR = XGBRegressor(base_score=0.5, booster='gbtree', colsample_bylevel=1,\n",
    "             colsample_bynode=1, colsample_bytree=1, enable_categorical=False,\n",
    "             gamma=0, gpu_id=-1, importance_type=None,\n",
    "             interaction_constraints='', learning_rate=0.300000012,\n",
    "             max_delta_step=0, max_depth=10, min_child_weight=1, \n",
    "             monotone_constraints='()', n_estimators=50, n_jobs=4,\n",
    "             num_parallel_tree=1, predictor='auto', random_state=0, reg_alpha=0,\n",
    "             reg_lambda=1, scale_pos_weight=1, subsample=1, tree_method='exact',\n",
    "             validate_parameters=1, verbosity=None).fit(features_train_new, target_train_new)\n",
    "XGBR_pred = XGBR.predict(features_test_new)\n",
    "XGBR_rmse = rmse(target_test_new, XGBR_pred)\n",
    "XGBR_rmse"
   ]
  },
  {
   "cell_type": "markdown",
   "metadata": {
    "lang": "en"
   },
   "source": [
    "The error score we obtained is getting smaller, and the model execution time is also relatively short."
   ]
  },
  {
   "cell_type": "markdown",
   "metadata": {},
   "source": [
    "### 3.5 LightGBM Regressor"
   ]
  },
  {
   "cell_type": "markdown",
   "metadata": {
    "lang": "en"
   },
   "source": [
    "We will repeat the same process for the LightGBM Regressor."
   ]
  },
  {
   "cell_type": "code",
   "execution_count": 70,
   "metadata": {},
   "outputs": [
    {
     "name": "stdout",
     "output_type": "stream",
     "text": [
      "CPU times: total: 16.1 s\n",
      "Wall time: 2.48 s\n"
     ]
    },
    {
     "data": {
      "text/plain": [
       "1596.2267621010437"
      ]
     },
     "execution_count": 70,
     "metadata": {},
     "output_type": "execute_result"
    }
   ],
   "source": [
    "%%time\n",
    "\n",
    "# Training without tuning hyperparameters\n",
    "LGBM = LGBMRegressor()\n",
    "LGBM_scores = cross_val_score(LGBM, features_train_new, target_train_new, scoring=rmse_scorer, cv=5).mean()\n",
    "LGBM_scores"
   ]
  },
  {
   "cell_type": "markdown",
   "metadata": {
    "lang": "en"
   },
   "source": [
    "The model execution time is much faster than the XGBoost Regressor model without hyperparameter tuning, but the error score is not better. The test result without hyperparameter tuning on the XGBoost Regressor is 1552.72, but the time is much longer.\n",
    "\n",
    "Now we will train the model with hyperparameter tuning."
   ]
  },
  {
   "cell_type": "markdown",
   "metadata": {
    "lang": "en"
   },
   "source": [
    "#### 3.5.1 Using Definitive Parameter Numbers"
   ]
  },
  {
   "cell_type": "code",
   "execution_count": 71,
   "metadata": {
    "lang": "in"
   },
   "outputs": [
    {
     "name": "stdout",
     "output_type": "stream",
     "text": [
      "Best Estimator: LGBMRegressor(max_depth=10, n_estimators=50, subsample=0.5)\n",
      "Best Parameters: {'subsample': 0.5, 'n_estimators': 50, 'max_depth': 10}\n",
      "Best RMSE: 1635.4131760166092\n",
      "CPU times: total: 2.14 s\n",
      "Wall time: 11.5 s\n"
     ]
    }
   ],
   "source": [
    "%%time\n",
    "\n",
    "# Training with hyperparameter tuning\n",
    "# Define a LightGBM Regressor model\n",
    "LGBM_model = LGBMRegressor()\n",
    "\n",
    "# Define hyperparameter space\n",
    "param_distributions = {\n",
    "    'max_depth': [5, 10],\n",
    "    'n_estimators': [25, 50],\n",
    "    'subsample': [0.5, 1]\n",
    "}\n",
    "\n",
    "# Create a scorer using the RMSE function\n",
    "scorer = make_scorer(rmse, greater_is_better=False)\n",
    "\n",
    "# Define a RandomizedSearchCV object\n",
    "random_search = RandomizedSearchCV(\n",
    "    LGBM_model, param_distributions=param_distributions, \n",
    "    scoring=scorer, n_iter=10, cv=5, n_jobs=-1\n",
    ")\n",
    "\n",
    "# Fit the model with data\n",
    "random_search.fit(features_train_new, target_train_new)\n",
    "\n",
    "# Print best parameters and RMSE\n",
    "print(\"Best Estimator:\", random_search.best_estimator_)\n",
    "print(\"Best Parameters:\", random_search.best_params_)\n",
    "print(\"Best RMSE:\", -1 * random_search.best_score_)"
   ]
  },
  {
   "cell_type": "markdown",
   "metadata": {
    "lang": "en"
   },
   "source": [
    "#### 3.5.2 Using Random Parameter Numbers"
   ]
  },
  {
   "cell_type": "code",
   "execution_count": 72,
   "metadata": {
    "lang": "in"
   },
   "outputs": [
    {
     "name": "stdout",
     "output_type": "stream",
     "text": [
      "Best Estimator: LGBMRegressor(learning_rate=0.7221702965369986, max_depth=9, n_estimators=89,\n",
      "              subsample=0.11964379879422826)\n",
      "Best Parameters: {'learning_rate': 0.7221702965369986, 'max_depth': 9, 'n_estimators': 89, 'subsample': 0.11964379879422826}\n",
      "Best RMSE: 1567.9999452221423\n",
      "CPU times: total: 2.75 s\n",
      "Wall time: 12.1 s\n"
     ]
    }
   ],
   "source": [
    "%%time\n",
    "\n",
    "# Training with hyperparameter tuning\n",
    "# Define an XGBoost Regressor model\n",
    "LGBM_model = LGBMRegressor()\n",
    "\n",
    "# Define hyperparameter space\n",
    "param_distributions = {\n",
    "    'max_depth'    : sp_randInt(5, 10),\n",
    "    'n_estimators' : sp_randInt(50, 100),\n",
    "    'learning_rate': sp_randFloat(),\n",
    "    'subsample'    : sp_randFloat()\n",
    "}\n",
    "\n",
    "# Create a scorer using the RMSE function\n",
    "scorer = make_scorer(rmse, greater_is_better=False)\n",
    "\n",
    "# Define a RandomizedSearchCV object\n",
    "random_search = RandomizedSearchCV(\n",
    "    LGBM_model, param_distributions=param_distributions, \n",
    "    scoring=scorer, n_iter=10, cv=5, n_jobs=-1\n",
    ")\n",
    "\n",
    "# Fit the model with data\n",
    "random_search.fit(features_train_new, target_train_new)\n",
    "\n",
    "# Print best parameters and RMSE\n",
    "print(\"Best Estimator:\", random_search.best_estimator_)\n",
    "print(\"Best Parameters:\", random_search.best_params_)\n",
    "print(\"Best RMSE:\", -1 * random_search.best_score_)"
   ]
  },
  {
   "cell_type": "markdown",
   "metadata": {
    "lang": "en"
   },
   "source": [
    "**Findings**\n",
    "- Both the XGBoost Regressor and LightGBM Regressor models were trained with the same treatment.\n",
    "- The XGBoost Regressor model has a better error score compared to the LightGBM Regressor model.\n",
    "- However, the training time and hyperparameter selection process for the XGBoost Regressor model are much longer than those for the LightGBM Regressor model.\n",
    "- Interestingly, in the LightGBM Regressor hyperparameter selection process, the results are better when the parameter numbers are given randomly, unlike the XGBoost Regressor.\n",
    "- Despite having a better error score, the LightGBM Regressor outperforms the XGBoost Regressor in terms of execution time. This indicates that we can afford to test more hyperparameter combinations in the LightGBM Regressor without consuming excessive time. It is possible that the error score of the LightGBM Regressor can be significantly improved by exploring more hyperparameter combinations."
   ]
  },
  {
   "cell_type": "markdown",
   "metadata": {
    "lang": "en"
   },
   "source": [
    "#### 3.5.3 Testing on the Test Dataset"
   ]
  },
  {
   "cell_type": "code",
   "execution_count": 73,
   "metadata": {},
   "outputs": [
    {
     "name": "stdout",
     "output_type": "stream",
     "text": [
      "CPU times: total: 2.89 s\n",
      "Wall time: 455 ms\n"
     ]
    },
    {
     "data": {
      "text/plain": [
       "1562.2620834822196"
      ]
     },
     "execution_count": 73,
     "metadata": {},
     "output_type": "execute_result"
    }
   ],
   "source": [
    "%%time\n",
    "\n",
    "# Testing on the test dataset\n",
    "LGBMR = LGBMRegressor(learning_rate=0.33082012267946914, max_depth=7, n_estimators=91,\n",
    "              subsample=0.7630499399086512).fit(features_train_new, target_train_new)\n",
    "LGBMR_pred = LGBMR.predict(features_test_new)\n",
    "LGBMR_rmse = rmse(target_test_new, LGBMR_pred)\n",
    "LGBMR_rmse"
   ]
  },
  {
   "cell_type": "markdown",
   "metadata": {
    "lang": "en"
   },
   "source": [
    "**Findings**\n",
    "- The LightGBM Regressor model demonstrates an exceptionally fast execution time, completing in less than 1 second.\n",
    "- The error score achieved by the LightGBM Regressor is significantly better than the base model (Linear Regression), Decision Tree, and Random Forest models.\n",
    "- However, the LightGBM Regressor's error score is still slightly loses compared to the XGBoost Regressor model, which remains the best-performing model in this comparison. Despite this, the LightGBM Regressor's combination of faster execution time and low error score makes it a promising candidate for practical deployment, especially when real-time predictions and speed are crucial considerations."
   ]
  },
  {
   "cell_type": "markdown",
   "metadata": {},
   "source": [
    "### 3.6 CatBoost Regressor"
   ]
  },
  {
   "cell_type": "markdown",
   "metadata": {},
   "source": [
    "Now it's time to proceed with the last gradient boosting model, the CatBoost Regressor. Unlike the previous two models, this one can handle categorical features without the need to specify the `cat_features` variable explicitly.\n",
    "\n",
    "Datasets:\n",
    "- `features_train`\n",
    "- `features_test`\n",
    "- `target_train`\n",
    "- `target_test`\n",
    "\n",
    "Categorical Features:\n",
    "- `VehicleType`\n",
    "- `Gearbox`\n",
    "- `Model`\n",
    "- `FuelType`\n",
    "- `Brand`\n",
    "- `NotRepaired`\n",
    "- `PriceGroup`"
   ]
  },
  {
   "cell_type": "code",
   "execution_count": 74,
   "metadata": {},
   "outputs": [
    {
     "name": "stdout",
     "output_type": "stream",
     "text": [
      "Learning rate set to 0.092927\n",
      "0:\tlearn: 3222.0252064\ttotal: 275ms\tremaining: 4m 35s\n",
      "100:\tlearn: 1056.6808738\ttotal: 16.3s\tremaining: 2m 25s\n",
      "200:\tlearn: 1014.1824130\ttotal: 31.4s\tremaining: 2m 4s\n",
      "300:\tlearn: 996.5127069\ttotal: 46s\tremaining: 1m 46s\n",
      "400:\tlearn: 984.3816841\ttotal: 1m 3s\tremaining: 1m 34s\n",
      "500:\tlearn: 975.9606418\ttotal: 1m 20s\tremaining: 1m 20s\n",
      "600:\tlearn: 968.8737638\ttotal: 1m 37s\tremaining: 1m 4s\n",
      "700:\tlearn: 963.9796115\ttotal: 1m 54s\tremaining: 49s\n",
      "800:\tlearn: 959.0192709\ttotal: 2m 10s\tremaining: 32.5s\n",
      "900:\tlearn: 954.5210780\ttotal: 2m 27s\tremaining: 16.2s\n",
      "999:\tlearn: 950.4288674\ttotal: 2m 44s\tremaining: 0us\n",
      "Learning rate set to 0.092927\n",
      "0:\tlearn: 3226.1543353\ttotal: 129ms\tremaining: 2m 8s\n",
      "100:\tlearn: 1055.6441846\ttotal: 16.3s\tremaining: 2m 24s\n",
      "200:\tlearn: 1017.4703496\ttotal: 33.2s\tremaining: 2m 11s\n",
      "300:\tlearn: 998.8835036\ttotal: 49.4s\tremaining: 1m 54s\n",
      "400:\tlearn: 987.2252090\ttotal: 1m 5s\tremaining: 1m 37s\n",
      "500:\tlearn: 979.0749644\ttotal: 1m 22s\tremaining: 1m 21s\n",
      "600:\tlearn: 971.9032373\ttotal: 1m 37s\tremaining: 1m 4s\n",
      "700:\tlearn: 965.5758183\ttotal: 1m 53s\tremaining: 48.5s\n",
      "800:\tlearn: 959.3825895\ttotal: 2m 9s\tremaining: 32.2s\n",
      "900:\tlearn: 954.3321379\ttotal: 2m 26s\tremaining: 16.1s\n",
      "999:\tlearn: 950.3399137\ttotal: 2m 43s\tremaining: 0us\n",
      "Learning rate set to 0.092927\n",
      "0:\tlearn: 3216.7692572\ttotal: 184ms\tremaining: 3m 3s\n",
      "100:\tlearn: 1055.7474320\ttotal: 15.9s\tremaining: 2m 21s\n",
      "200:\tlearn: 1016.3423008\ttotal: 32s\tremaining: 2m 7s\n",
      "300:\tlearn: 999.7621042\ttotal: 48.4s\tremaining: 1m 52s\n",
      "400:\tlearn: 988.5081521\ttotal: 1m 4s\tremaining: 1m 37s\n",
      "500:\tlearn: 978.8982838\ttotal: 1m 22s\tremaining: 1m 22s\n",
      "600:\tlearn: 971.4573196\ttotal: 1m 40s\tremaining: 1m 6s\n",
      "700:\tlearn: 965.6139359\ttotal: 1m 58s\tremaining: 50.4s\n",
      "800:\tlearn: 960.3559894\ttotal: 2m 15s\tremaining: 33.7s\n",
      "900:\tlearn: 955.6225815\ttotal: 2m 30s\tremaining: 16.6s\n",
      "999:\tlearn: 951.3317344\ttotal: 2m 46s\tremaining: 0us\n",
      "Learning rate set to 0.092927\n",
      "0:\tlearn: 3217.8432792\ttotal: 196ms\tremaining: 3m 15s\n",
      "100:\tlearn: 1056.2810724\ttotal: 15.1s\tremaining: 2m 14s\n",
      "200:\tlearn: 1020.2258301\ttotal: 30.2s\tremaining: 1m 59s\n",
      "300:\tlearn: 1002.2467347\ttotal: 47s\tremaining: 1m 49s\n",
      "400:\tlearn: 991.1999393\ttotal: 1m 8s\tremaining: 1m 42s\n",
      "500:\tlearn: 982.3779449\ttotal: 1m 40s\tremaining: 1m 40s\n",
      "600:\tlearn: 973.8060236\ttotal: 2m 13s\tremaining: 1m 28s\n",
      "700:\tlearn: 968.0472183\ttotal: 2m 46s\tremaining: 1m 11s\n",
      "800:\tlearn: 962.8247134\ttotal: 3m 19s\tremaining: 49.6s\n",
      "900:\tlearn: 957.9837188\ttotal: 3m 52s\tremaining: 25.6s\n",
      "999:\tlearn: 953.7353546\ttotal: 4m 25s\tremaining: 0us\n",
      "Learning rate set to 0.092927\n",
      "0:\tlearn: 3223.1547128\ttotal: 336ms\tremaining: 5m 35s\n",
      "100:\tlearn: 1055.1071666\ttotal: 30.1s\tremaining: 4m 28s\n",
      "200:\tlearn: 1017.7206143\ttotal: 1m 1s\tremaining: 4m 4s\n",
      "300:\tlearn: 999.5039520\ttotal: 1m 33s\tremaining: 3m 37s\n",
      "400:\tlearn: 986.8801226\ttotal: 2m 6s\tremaining: 3m 8s\n",
      "500:\tlearn: 977.9858146\ttotal: 2m 38s\tremaining: 2m 37s\n",
      "600:\tlearn: 970.7789539\ttotal: 3m 9s\tremaining: 2m 6s\n",
      "700:\tlearn: 964.8992847\ttotal: 3m 43s\tremaining: 1m 35s\n",
      "800:\tlearn: 959.5607871\ttotal: 4m 15s\tremaining: 1m 3s\n",
      "900:\tlearn: 954.5435451\ttotal: 4m 47s\tremaining: 31.6s\n",
      "999:\tlearn: 950.4321717\ttotal: 5m 20s\tremaining: 0us\n",
      "CPU times: total: 32min 23s\n",
      "Wall time: 18min 13s\n"
     ]
    },
    {
     "data": {
      "text/plain": [
       "976.4357768027606"
      ]
     },
     "execution_count": 74,
     "metadata": {},
     "output_type": "execute_result"
    }
   ],
   "source": [
    "%%time\n",
    "\n",
    "# Training without tuning hyperparameters\n",
    "cat_features = ['VehicleType', 'Gearbox', 'Model', 'FuelType', 'Brand', 'NotRepaired', 'PriceGroup']\n",
    "cat_model = CatBoostRegressor(cat_features=cat_features, verbose=100)\n",
    "cat_scores = cross_val_score(cat_model, features_train, target_train, scoring=rmse_scorer, cv=5).mean()\n",
    "cat_scores"
   ]
  },
  {
   "cell_type": "markdown",
   "metadata": {
    "lang": "en"
   },
   "source": [
    "**Findings**\n",
    "- The CatBoost Regressor model yields significantly improved scores, even without hyperparameter tuning, outperforming the previous models.\n",
    "- However, the training time for the CatBoost model is considerably longer than other models without hyperparameter tuning.\n",
    "- Despite the longer training time, the CatBoost model demonstrates exceptional performance in terms of error score, making it a compelling choice when prediction accuracy is of utmost importance, and the longer training time can be tolerated."
   ]
  },
  {
   "cell_type": "markdown",
   "metadata": {
    "lang": "en"
   },
   "source": [
    "Now we will train the model with hyperparameter tuning."
   ]
  },
  {
   "cell_type": "markdown",
   "metadata": {
    "lang": "en"
   },
   "source": [
    "#### 3.6.1 Using Definitive Parameter Numbers"
   ]
  },
  {
   "cell_type": "code",
   "execution_count": 75,
   "metadata": {
    "lang": "in"
   },
   "outputs": [
    {
     "name": "stdout",
     "output_type": "stream",
     "text": [
      "Learning rate set to 0.5\n",
      "0:\tlearn: 2098.1318508\ttotal: 184ms\tremaining: 9.03s\n",
      "49:\tlearn: 941.3504697\ttotal: 10.2s\tremaining: 0us\n",
      "Best Estimator: <catboost.core.CatBoostRegressor object at 0x000002373F177B20>\n",
      "Best Parameters: {'subsample': 1, 'n_estimators': 50, 'max_depth': 10}\n",
      "Best RMSE: 987.1845377418504\n",
      "CPU times: total: 15.8 s\n",
      "Wall time: 1min 44s\n"
     ]
    }
   ],
   "source": [
    "%%time\n",
    "\n",
    "# Training with hyperparameter tuning\n",
    "# Define a CatBoost Regressor model\n",
    "CBR_model = CatBoostRegressor(verbose=500)\n",
    "\n",
    "# Define hyperparameter space\n",
    "param_distributions = {\n",
    "    'max_depth': [5, 10],\n",
    "    'n_estimators': [25, 50],\n",
    "    'subsample': [0.5, 1]\n",
    "}\n",
    "\n",
    "# List of categorical features\n",
    "cat_feat = ['VehicleType', 'Gearbox', 'Model', 'FuelType', 'Brand', 'NotRepaired', 'PriceGroup']\n",
    "\n",
    "# Create a scorer using the RMSE function\n",
    "scorer = make_scorer(rmse, greater_is_better=False)\n",
    "\n",
    "# Define a RandomizedSearchCV object\n",
    "random_search = RandomizedSearchCV(\n",
    "    CBR_model, param_distributions=param_distributions, \n",
    "    scoring=scorer, n_iter=10, cv=5, n_jobs=-1\n",
    ")\n",
    "\n",
    "# Fit the model with data\n",
    "random_search.fit(features_train, target_train, cat_features=cat_feat)\n",
    "\n",
    "# Print best parameters and RMSE\n",
    "print(\"Best Estimator:\", random_search.best_estimator_)\n",
    "print(\"Best Parameters:\", random_search.best_params_)\n",
    "print(\"Best RMSE:\", -1 * random_search.best_score_)"
   ]
  },
  {
   "cell_type": "markdown",
   "metadata": {
    "lang": "en"
   },
   "source": [
    "#### 3.6.2 Using Random Parameter Numbers"
   ]
  },
  {
   "cell_type": "code",
   "execution_count": 76,
   "metadata": {
    "lang": "in"
   },
   "outputs": [
    {
     "name": "stdout",
     "output_type": "stream",
     "text": [
      "0:\tlearn: 1920.5377891\ttotal: 172ms\tremaining: 15.4s\n",
      "90:\tlearn: 949.3136758\ttotal: 15.6s\tremaining: 0us\n",
      "Best Estimator: <catboost.core.CatBoostRegressor object at 0x000002373F62C6D0>\n",
      "Best Parameters: {'learning_rate': 0.5863516704124628, 'max_depth': 8, 'n_estimators': 91, 'subsample': 0.9679668089545432}\n",
      "Best RMSE: 986.6590962045836\n",
      "CPU times: total: 22.9 s\n",
      "Wall time: 3min 9s\n"
     ]
    }
   ],
   "source": [
    "%%time\n",
    "\n",
    "# Training with hyperparameter tuning\n",
    "# Define a CatBoost Regressor model\n",
    "CBR_model = CatBoostRegressor(verbose=500)\n",
    "\n",
    "# Define hyperparameter space\n",
    "param_distributions = {\n",
    "    'max_depth'    : sp_randInt(5, 10),\n",
    "    'n_estimators' : sp_randInt(50, 100),\n",
    "    'learning_rate': sp_randFloat(),\n",
    "    'subsample'    : sp_randFloat()\n",
    "}\n",
    "\n",
    "# List of categorical features\n",
    "cat_feat = ['VehicleType', 'Gearbox', 'Model', 'FuelType', 'Brand', 'NotRepaired', 'PriceGroup']\n",
    "\n",
    "# Create a scorer using the RMSE function\n",
    "scorer = make_scorer(rmse, greater_is_better=False)\n",
    "\n",
    "# Define a RandomizedSearchCV object\n",
    "random_search = RandomizedSearchCV(\n",
    "    CBR_model, param_distributions=param_distributions, \n",
    "    scoring=scorer, n_iter=10, cv=5, n_jobs=-1\n",
    ")\n",
    "\n",
    "# Fit the model with data\n",
    "random_search.fit(features_train, target_train, cat_features=cat_feat)\n",
    "\n",
    "# Print best parameters and RMSE\n",
    "print(\"Best Estimator:\", random_search.best_estimator_)\n",
    "print(\"Best Parameters:\", random_search.best_params_)\n",
    "print(\"Best RMSE:\", -1 * random_search.best_score_)"
   ]
  },
  {
   "cell_type": "markdown",
   "metadata": {
    "lang": "en"
   },
   "source": [
    "**Findings**\n",
    "- The model training time is significantly reduced after hyperparameter tuning, making it more efficient.\n",
    "- However, the error score of the tuned model is higher than the model without hyperparameter tuning, indicating that some hyperparameter combinations might not be optimal for this dataset.\n",
    "- The results show that setting hyperparameter values in advance and tuning them systematically yields better and faster results than randomly testing hyperparameter values.\n",
    "- Considering Rusty Bargain's priorities for good scores and short training times, the model with hyperparameter tuning using definitive numbers is the best choice. It strikes a good balance between accuracy and efficiency, meeting the company's requirements."
   ]
  },
  {
   "cell_type": "markdown",
   "metadata": {
    "lang": "en"
   },
   "source": [
    "#### 3.6.3 Testing on the Test Dataset"
   ]
  },
  {
   "cell_type": "code",
   "execution_count": 77,
   "metadata": {},
   "outputs": [
    {
     "name": "stdout",
     "output_type": "stream",
     "text": [
      "Learning rate set to 0.5\n",
      "0:\tlearn: 2098.1318508\ttotal: 207ms\tremaining: 10.1s\n",
      "10:\tlearn: 1037.0432622\ttotal: 2.47s\tremaining: 8.77s\n",
      "20:\tlearn: 993.6801655\ttotal: 4.67s\tremaining: 6.45s\n",
      "30:\tlearn: 969.3556576\ttotal: 6.76s\tremaining: 4.14s\n",
      "40:\tlearn: 951.9313923\ttotal: 9.05s\tremaining: 1.99s\n",
      "49:\tlearn: 941.3504697\ttotal: 11.1s\tremaining: 0us\n",
      "CPU times: total: 10.7 s\n",
      "Wall time: 12.4 s\n"
     ]
    },
    {
     "data": {
      "text/plain": [
       "984.3259119569819"
      ]
     },
     "execution_count": 77,
     "metadata": {},
     "output_type": "execute_result"
    }
   ],
   "source": [
    "%%time\n",
    "\n",
    "# Testing on the test dataset with hyperparameter tuning\n",
    "cat_features = ['VehicleType', 'Gearbox', 'Model', 'FuelType', 'Brand', 'NotRepaired', 'PriceGroup']\n",
    "CBR = CatBoostRegressor(subsample=1, n_estimators=50, \n",
    "                        max_depth=10).fit(features_train, target_train, cat_features=cat_features, verbose=10)\n",
    "\n",
    "CBR_pred = CBR.predict(features_test)\n",
    "CBR_rmse = rmse(target_test, CBR_pred)\n",
    "CBR_rmse"
   ]
  },
  {
   "cell_type": "markdown",
   "metadata": {
    "lang": "en"
   },
   "source": [
    "Let's test the model with no hyperparameter tuning and see the result."
   ]
  },
  {
   "cell_type": "code",
   "execution_count": 79,
   "metadata": {},
   "outputs": [
    {
     "name": "stdout",
     "output_type": "stream",
     "text": [
      "Learning rate set to 0.096262\n",
      "0:\tlearn: 3207.9550796\ttotal: 197ms\tremaining: 3m 16s\n",
      "999:\tlearn: 951.0155934\ttotal: 3m 7s\tremaining: 0us\n",
      "CPU times: total: 5min 42s\n",
      "Wall time: 3min 10s\n"
     ]
    },
    {
     "data": {
      "text/plain": [
       "972.2156237419966"
      ]
     },
     "execution_count": 79,
     "metadata": {},
     "output_type": "execute_result"
    }
   ],
   "source": [
    "%%time\n",
    "\n",
    "# Testing on the test dataset without hyperparameter tuning\n",
    "cat_features = ['VehicleType', 'Gearbox', 'Model', 'FuelType', 'Brand', 'NotRepaired', 'PriceGroup']\n",
    "CBR_test = CatBoostRegressor().fit(features_train, target_train, cat_features=cat_features, verbose=5000)\n",
    "\n",
    "CBR_pred = CBR_test.predict(features_test)\n",
    "CBR_rmse = rmse(target_test, CBR_pred)\n",
    "CBR_rmse"
   ]
  },
  {
   "cell_type": "markdown",
   "metadata": {
    "lang": "en"
   },
   "source": [
    "The model without hyperparameter tuning resulted in a slightly better score, but the testing time was significantly longer."
   ]
  },
  {
   "cell_type": "markdown",
   "metadata": {
    "lang": "en"
   },
   "source": [
    "CatBoost is not as fast as LightGBM, which can generate results in less than 5 seconds. However, CatBoost achieves the lowest error score among all the models tested. The training process is also faster than XGBoost, making it a favorable choice considering the trade-off between speed and accuracy."
   ]
  },
  {
   "cell_type": "markdown",
   "metadata": {
    "lang": "en"
   },
   "source": [
    "## 4 Models Analysis"
   ]
  },
  {
   "cell_type": "markdown",
   "metadata": {},
   "source": [
    "We have conducted modeling with various types of machine learning algorithms. Based on these results, CatBoost Regressor with hyperparameter tuning achieved the lowest RMSE score and still maintained a reasonable training time, making it the best choice for Rusty Bargain's needs. Here is a summary of the results, including the training time for models without hyperparameter tuning using wall time:"
   ]
  },
  {
   "cell_type": "code",
   "execution_count": 80,
   "metadata": {},
   "outputs": [
    {
     "data": {
      "text/html": [
       "<div>\n",
       "<style scoped>\n",
       "    .dataframe tbody tr th:only-of-type {\n",
       "        vertical-align: middle;\n",
       "    }\n",
       "\n",
       "    .dataframe tbody tr th {\n",
       "        vertical-align: top;\n",
       "    }\n",
       "\n",
       "    .dataframe thead th {\n",
       "        text-align: right;\n",
       "    }\n",
       "</style>\n",
       "<table border=\"1\" class=\"dataframe\">\n",
       "  <thead>\n",
       "    <tr style=\"text-align: right;\">\n",
       "      <th></th>\n",
       "      <th>Waktu_Pelatihan</th>\n",
       "      <th>Waktu_Pengujian</th>\n",
       "      <th>RMSE</th>\n",
       "    </tr>\n",
       "  </thead>\n",
       "  <tbody>\n",
       "    <tr>\n",
       "      <th>Linear Regression</th>\n",
       "      <td>1.15 s</td>\n",
       "      <td>209 ms</td>\n",
       "      <td>2622.86</td>\n",
       "    </tr>\n",
       "    <tr>\n",
       "      <th>Decision Tree Regressor</th>\n",
       "      <td>4.32 s</td>\n",
       "      <td>854 ms</td>\n",
       "      <td>1663.68</td>\n",
       "    </tr>\n",
       "    <tr>\n",
       "      <th>Random Forest Regressor</th>\n",
       "      <td>5 min 11 s</td>\n",
       "      <td>24.5 s</td>\n",
       "      <td>1575.53</td>\n",
       "    </tr>\n",
       "    <tr>\n",
       "      <th>XGBoost Regressor</th>\n",
       "      <td>23.9 s</td>\n",
       "      <td>9.39 s</td>\n",
       "      <td>1518.81</td>\n",
       "    </tr>\n",
       "    <tr>\n",
       "      <th>LightGBM Regressor</th>\n",
       "      <td>2.48 s</td>\n",
       "      <td>455 ms</td>\n",
       "      <td>1562.26</td>\n",
       "    </tr>\n",
       "    <tr>\n",
       "      <th>CatBoost Regressor</th>\n",
       "      <td>18 min 13 s</td>\n",
       "      <td>12.4 s</td>\n",
       "      <td>984.33</td>\n",
       "    </tr>\n",
       "  </tbody>\n",
       "</table>\n",
       "</div>"
      ],
      "text/plain": [
       "                        Waktu_Pelatihan Waktu_Pengujian     RMSE\n",
       "Linear Regression                1.15 s          209 ms  2622.86\n",
       "Decision Tree Regressor          4.32 s          854 ms  1663.68\n",
       "Random Forest Regressor      5 min 11 s          24.5 s  1575.53\n",
       "XGBoost Regressor                23.9 s          9.39 s  1518.81\n",
       "LightGBM Regressor               2.48 s          455 ms  1562.26\n",
       "CatBoost Regressor          18 min 13 s          12.4 s   984.33"
      ]
     },
     "execution_count": 80,
     "metadata": {},
     "output_type": "execute_result"
    }
   ],
   "source": [
    "index = ['Linear Regression', 'Decision Tree Regressor', 'Random Forest Regressor', \n",
    "       'XGBoost Regressor', 'LightGBM Regressor', 'CatBoost Regressor']\n",
    "Rangkuman = pd.DataFrame(data={'Waktu_Pelatihan': ['1.15 s', '4.32 s', '5 min 11 s', '23.9 s', '2.48 s', '18 min 13 s'],\n",
    "                             'Waktu_Pengujian': ['209 ms', '854 ms', '24.5 s', '9.39 s', '455 ms', '12.4 s'],\n",
    "                             'RMSE': [2622.86, 1663.68, 1575.53, 1518.81, 1562.26, 984.33]},\n",
    "                    index=index)\n",
    "Rangkuman"
   ]
  },
  {
   "cell_type": "markdown",
   "metadata": {},
   "source": [
    "**Conclusion**\n",
    "\n",
    "In summary, the analysis of various machine learning models for predicting used car prices revealed the following insights:\n",
    "\n",
    "- Simple models like Linear Regression and Decision Tree have fast training and testing times, but they yield high error scores.\n",
    "- More complex models, such as Random Forest Regressor, provide lower error scores but come with significantly longer training times.\n",
    "- Gradient boosting models generally outperform regular models in terms of prediction accuracy.\n",
    "- Among the gradient boosting models, LightGBM Regressor stands out for its fast training and testing times. However, it produces a slightly higher error score compared to other models.\n",
    "- The CatBoost Regressor model shows the best overall performance with the lowest error score. Though it has a longer training time, its exceptional predictive accuracy makes it an ideal choice for Rusty Bargain's needs.\n",
    "\n",
    "Considering Rusty Bargain's priorities for prediction quality, prediction speed, and model training time, the CatBoost Regressor machine learning model is the most suitable choice for accurately determining the market value of used cars and attracting new buyers to their platform."
   ]
  },
  {
   "cell_type": "markdown",
   "metadata": {
    "lang": "en"
   },
   "source": [
    "# Checklist"
   ]
  },
  {
   "cell_type": "markdown",
   "metadata": {
    "lang": "en"
   },
   "source": [
    "Type 'x' to mark it as done. Then, press Shift+Enter key"
   ]
  },
  {
   "cell_type": "markdown",
   "metadata": {
    "lang": "en"
   },
   "source": [
    "- [x] Jupyter Notebook can be opened\n",
    "- [x] There are no errors in the code\n",
    "- [x] The cells with codes have been arranged by order of execution\n",
    "- [x] Data has been downloaded and prepared\n",
    "- [x] Model has been trained\n",
    "- [x] An analysis of the speed and quality of the model has been carried out"
   ]
  }
 ],
 "metadata": {
  "kernelspec": {
   "display_name": "Python 3 (ipykernel)",
   "language": "python",
   "name": "python3"
  },
  "language_info": {
   "codemirror_mode": {
    "name": "ipython",
    "version": 3
   },
   "file_extension": ".py",
   "mimetype": "text/x-python",
   "name": "python",
   "nbconvert_exporter": "python",
   "pygments_lexer": "ipython3",
   "version": "3.9.13"
  },
  "nbTranslate": {
   "displayLangs": [
    "en",
    "in"
   ],
   "hotkey": "alt-t",
   "langInMainMenu": true,
   "sourceLang": "in",
   "targetLang": "en",
   "useGoogleTranslate": true
  },
  "toc": {
   "base_numbering": 1,
   "nav_menu": {},
   "number_sections": false,
   "sideBar": true,
   "skip_h1_title": true,
   "title_cell": "Table of Contents",
   "title_sidebar": "Contents",
   "toc_cell": true,
   "toc_position": {
    "height": "calc(100% - 180px)",
    "left": "10px",
    "top": "150px",
    "width": "434.225px"
   },
   "toc_section_display": true,
   "toc_window_display": true
  }
 },
 "nbformat": 4,
 "nbformat_minor": 2
}
